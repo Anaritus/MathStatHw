{
 "cells": [
  {
   "cell_type": "markdown",
   "metadata": {
    "collapsed": true,
    "pycharm": {
     "name": "#%% md\n"
    }
   },
   "source": [
    "# Домашка."
   ]
  },
  {
   "cell_type": "code",
   "execution_count": 1,
   "outputs": [],
   "source": [
    "import numpy as np\n",
    "import pandas as pd\n",
    "import scipy.stats as ss\n",
    "from typing import Callable\n",
    "import pandas as pd"
   ],
   "metadata": {
    "collapsed": false,
    "pycharm": {
     "name": "#%%\n"
    }
   }
  },
  {
   "cell_type": "code",
   "execution_count": 8,
   "outputs": [
    {
     "data": {
      "text/plain": "   Subject  Sequence  Period  Treatment  EE AUC  EE CMax   NET AUC  NET CMax\n0        1         2       1          0  2623.0      279  197525.0     21900\n1        1         2       2          1  3744.8      366  197117.5     21600\n2        2         1       1          1  3756.2      300  176487.5     25100\n3        2         1       2          0  2511.0      172  198357.5     23300\n4        3         2       1          0  2227.7      252  151957.5     23200",
      "text/html": "<div>\n<style scoped>\n    .dataframe tbody tr th:only-of-type {\n        vertical-align: middle;\n    }\n\n    .dataframe tbody tr th {\n        vertical-align: top;\n    }\n\n    .dataframe thead th {\n        text-align: right;\n    }\n</style>\n<table border=\"1\" class=\"dataframe\">\n  <thead>\n    <tr style=\"text-align: right;\">\n      <th></th>\n      <th>Subject</th>\n      <th>Sequence</th>\n      <th>Period</th>\n      <th>Treatment</th>\n      <th>EE AUC</th>\n      <th>EE CMax</th>\n      <th>NET AUC</th>\n      <th>NET CMax</th>\n    </tr>\n  </thead>\n  <tbody>\n    <tr>\n      <th>0</th>\n      <td>1</td>\n      <td>2</td>\n      <td>1</td>\n      <td>0</td>\n      <td>2623.0</td>\n      <td>279</td>\n      <td>197525.0</td>\n      <td>21900</td>\n    </tr>\n    <tr>\n      <th>1</th>\n      <td>1</td>\n      <td>2</td>\n      <td>2</td>\n      <td>1</td>\n      <td>3744.8</td>\n      <td>366</td>\n      <td>197117.5</td>\n      <td>21600</td>\n    </tr>\n    <tr>\n      <th>2</th>\n      <td>2</td>\n      <td>1</td>\n      <td>1</td>\n      <td>1</td>\n      <td>3756.2</td>\n      <td>300</td>\n      <td>176487.5</td>\n      <td>25100</td>\n    </tr>\n    <tr>\n      <th>3</th>\n      <td>2</td>\n      <td>1</td>\n      <td>2</td>\n      <td>0</td>\n      <td>2511.0</td>\n      <td>172</td>\n      <td>198357.5</td>\n      <td>23300</td>\n    </tr>\n    <tr>\n      <th>4</th>\n      <td>3</td>\n      <td>2</td>\n      <td>1</td>\n      <td>0</td>\n      <td>2227.7</td>\n      <td>252</td>\n      <td>151957.5</td>\n      <td>23200</td>\n    </tr>\n  </tbody>\n</table>\n</div>"
     },
     "execution_count": 8,
     "metadata": {},
     "output_type": "execute_result"
    }
   ],
   "source": [
    "df = pd.read_csv('ocdrug.csv')\n",
    "df.head()"
   ],
   "metadata": {
    "collapsed": false,
    "pycharm": {
     "name": "#%%\n"
    }
   }
  },
  {
   "cell_type": "markdown",
   "source": [
    "## 1."
   ],
   "metadata": {
    "collapsed": false,
    "pycharm": {
     "name": "#%% md\n"
    }
   }
  },
  {
   "cell_type": "markdown",
   "source": [
    "Логарифмировать."
   ],
   "metadata": {
    "collapsed": false,
    "pycharm": {
     "name": "#%% md\n"
    }
   }
  },
  {
   "cell_type": "code",
   "execution_count": 9,
   "outputs": [],
   "source": [
    "df['EE AUC'] = np.log(df['EE AUC'])\n",
    "df['EE CMax'] = np.log(df['EE CMax'])\n",
    "df['NET AUC'] = np.log(df['NET AUC'])\n",
    "df['NET CMax'] = np.log(df['NET CMax'])"
   ],
   "metadata": {
    "collapsed": false,
    "pycharm": {
     "name": "#%%\n"
    }
   }
  },
  {
   "cell_type": "code",
   "execution_count": 19,
   "outputs": [
    {
     "name": "stdout",
     "output_type": "stream",
     "text": [
      "0.5199120575744026\n",
      "0.21988255078409008\n",
      "0.5563255981788031\n",
      "0.2889024735157609\n"
     ]
    }
   ],
   "source": [
    "names = ['EE AUC',\n",
    "         'EE CMax',\n",
    "         'NET AUC',\n",
    "         'NET CMax']\n",
    "\n",
    "group1 = df[df['Sequence'] == 1]\n",
    "group11 = group1[group1['Period'] == 1]\n",
    "group12 = group1[group1['Period'] == 2]\n",
    "\n",
    "group2 = df[df['Sequence'] == 2]\n",
    "group21 = group2[group2['Period'] == 1]\n",
    "group22 = group2[group2['Period'] == 2]\n",
    "\n",
    "for name in names:\n",
    "    res1 = np.array(group11[name]) + np.array(group12[name])\n",
    "    res2 = np.array(group21[name]) + np.array(group22[name])\n",
    "    print(ss.f_oneway(res1, res2).pvalue)"
   ],
   "metadata": {
    "collapsed": false,
    "pycharm": {
     "name": "#%%\n"
    }
   }
  },
  {
   "cell_type": "markdown",
   "source": [
    "## 2."
   ],
   "metadata": {
    "collapsed": false,
    "pycharm": {
     "name": "#%% md\n"
    }
   }
  },
  {
   "cell_type": "code",
   "execution_count": 20,
   "outputs": [
    {
     "name": "stdout",
     "output_type": "stream",
     "text": [
      "26.443223085280042\n",
      "3.9732025029437454\n",
      "0.10442192159183704\n",
      "6.5695558049741924\n"
     ]
    }
   ],
   "source": [
    "for name in names:\n",
    "    res1 = np.array(group11[name]) - np.array(group12[name])\n",
    "    res2 = np.array(group21[name]) - np.array(group22[name])\n",
    "    print(ss.f_oneway(res1, res2).statistic)"
   ],
   "metadata": {
    "collapsed": false,
    "pycharm": {
     "name": "#%%\n"
    }
   }
  },
  {
   "cell_type": "markdown",
   "source": [
    "## 3."
   ],
   "metadata": {
    "collapsed": false,
    "pycharm": {
     "name": "#%% md\n"
    }
   }
  },
  {
   "cell_type": "code",
   "execution_count": 21,
   "outputs": [
    {
     "name": "stdout",
     "output_type": "stream",
     "text": [
      "2.550365958654763\n",
      "1.7328535793883393\n",
      "26.499439922297892\n",
      "0.4746082884763433\n"
     ]
    }
   ],
   "source": [
    "for name in names:\n",
    "    res1 = np.array(group11[name]) - np.array(group12[name])\n",
    "    res2 = np.array(group22[name]) - np.array(group21[name])\n",
    "    print(ss.f_oneway(res1, res2).statistic)"
   ],
   "metadata": {
    "collapsed": false,
    "pycharm": {
     "name": "#%%\n"
    }
   }
  },
  {
   "cell_type": "markdown",
   "source": [
    "## 4."
   ],
   "metadata": {
    "collapsed": false,
    "pycharm": {
     "name": "#%% md\n"
    }
   }
  },
  {
   "cell_type": "markdown",
   "source": [
    "Границы:"
   ],
   "metadata": {
    "collapsed": false,
    "pycharm": {
     "name": "#%% md\n"
    }
   }
  },
  {
   "cell_type": "code",
   "execution_count": 22,
   "outputs": [
    {
     "data": {
      "text/plain": "(-0.2231435513142097, 0.22314355131420976)"
     },
     "execution_count": 22,
     "metadata": {},
     "output_type": "execute_result"
    }
   ],
   "source": [
    "np.log(0.8), np.log(1.25)"
   ],
   "metadata": {
    "collapsed": false,
    "pycharm": {
     "name": "#%%\n"
    }
   }
  },
  {
   "cell_type": "code",
   "execution_count": 35,
   "outputs": [
    {
     "name": "stdout",
     "output_type": "stream",
     "text": [
      "0.1257187096325878 0.14193705392839973\n",
      "0.03719072295404191 0.046211260087851924\n",
      "0.009392504935677781 0.017661075812358984\n",
      "-0.11552383802330679 -0.1051152473455248\n"
     ]
    }
   ],
   "source": [
    "for name in names:\n",
    "    res = (np.array(group11[name]) + np.array(group22[name]) - np.array(group21[name]) - np.array(group12[name])) / 2\n",
    "    a = 0.05\n",
    "    left, right = np.quantile(res, (1 - a) / 2), np.quantile(res, (1 + a) / 2)\n",
    "    print(left, right)"
   ],
   "metadata": {
    "collapsed": false,
    "pycharm": {
     "name": "#%%\n"
    }
   }
  }
 ],
 "metadata": {
  "kernelspec": {
   "display_name": "Python 3",
   "language": "python",
   "name": "python3"
  },
  "language_info": {
   "codemirror_mode": {
    "name": "ipython",
    "version": 2
   },
   "file_extension": ".py",
   "mimetype": "text/x-python",
   "name": "python",
   "nbconvert_exporter": "python",
   "pygments_lexer": "ipython2",
   "version": "2.7.6"
  }
 },
 "nbformat": 4,
 "nbformat_minor": 0
}