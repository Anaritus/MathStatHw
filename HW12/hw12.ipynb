{
 "cells": [
  {
   "cell_type": "markdown",
   "metadata": {
    "collapsed": true,
    "pycharm": {
     "name": "#%% md\n"
    }
   },
   "source": [
    "# Практика."
   ]
  },
  {
   "cell_type": "code",
   "execution_count": 3,
   "outputs": [],
   "source": [
    "import numpy as np\n",
    "import pandas as pd\n",
    "import scipy.stats as ss\n",
    "from typing import Callable\n",
    "import pandas as pd"
   ],
   "metadata": {
    "collapsed": false,
    "pycharm": {
     "name": "#%%\n"
    }
   }
  },
  {
   "cell_type": "code",
   "execution_count": 6,
   "outputs": [
    {
     "data": {
      "text/plain": "  Species  Weight  Length1  Length2  Length3   Height   Width\n0   Bream   242.0     23.2     25.4     30.0  11.5200  4.0200\n1   Bream   290.0     24.0     26.3     31.2  12.4800  4.3056\n2   Bream   340.0     23.9     26.5     31.1  12.3778  4.6961\n3   Bream   363.0     26.3     29.0     33.5  12.7300  4.4555\n4   Bream   430.0     26.5     29.0     34.0  12.4440  5.1340",
      "text/html": "<div>\n<style scoped>\n    .dataframe tbody tr th:only-of-type {\n        vertical-align: middle;\n    }\n\n    .dataframe tbody tr th {\n        vertical-align: top;\n    }\n\n    .dataframe thead th {\n        text-align: right;\n    }\n</style>\n<table border=\"1\" class=\"dataframe\">\n  <thead>\n    <tr style=\"text-align: right;\">\n      <th></th>\n      <th>Species</th>\n      <th>Weight</th>\n      <th>Length1</th>\n      <th>Length2</th>\n      <th>Length3</th>\n      <th>Height</th>\n      <th>Width</th>\n    </tr>\n  </thead>\n  <tbody>\n    <tr>\n      <th>0</th>\n      <td>Bream</td>\n      <td>242.0</td>\n      <td>23.2</td>\n      <td>25.4</td>\n      <td>30.0</td>\n      <td>11.5200</td>\n      <td>4.0200</td>\n    </tr>\n    <tr>\n      <th>1</th>\n      <td>Bream</td>\n      <td>290.0</td>\n      <td>24.0</td>\n      <td>26.3</td>\n      <td>31.2</td>\n      <td>12.4800</td>\n      <td>4.3056</td>\n    </tr>\n    <tr>\n      <th>2</th>\n      <td>Bream</td>\n      <td>340.0</td>\n      <td>23.9</td>\n      <td>26.5</td>\n      <td>31.1</td>\n      <td>12.3778</td>\n      <td>4.6961</td>\n    </tr>\n    <tr>\n      <th>3</th>\n      <td>Bream</td>\n      <td>363.0</td>\n      <td>26.3</td>\n      <td>29.0</td>\n      <td>33.5</td>\n      <td>12.7300</td>\n      <td>4.4555</td>\n    </tr>\n    <tr>\n      <th>4</th>\n      <td>Bream</td>\n      <td>430.0</td>\n      <td>26.5</td>\n      <td>29.0</td>\n      <td>34.0</td>\n      <td>12.4440</td>\n      <td>5.1340</td>\n    </tr>\n  </tbody>\n</table>\n</div>"
     },
     "execution_count": 6,
     "metadata": {},
     "output_type": "execute_result"
    }
   ],
   "source": [
    "df = pd.read_csv('fish.csv')\n",
    "df.head()"
   ],
   "metadata": {
    "collapsed": false,
    "pycharm": {
     "name": "#%%\n"
    }
   }
  },
  {
   "cell_type": "code",
   "execution_count": 39,
   "outputs": [
    {
     "data": {
      "text/plain": "1"
     },
     "execution_count": 39,
     "metadata": {},
     "output_type": "execute_result"
    }
   ],
   "source": [
    "def weee(coef1, coef2, coef3) -> Callable[[list], float]:\n",
    "    def ret(lss):\n",
    "        l1, l2, l3 = lss\n",
    "        return l1 ** 3 * coef1 + (l2 - l1) ** 3 * coef2 + (l3 - l2) ** 2 * coef3\n",
    "    return ret\n",
    "\n",
    "wec = weee(1, 2, 3)\n",
    "wec([1, 1, 1])"
   ],
   "metadata": {
    "collapsed": false,
    "pycharm": {
     "name": "#%%\n"
    }
   }
  },
  {
   "cell_type": "code",
   "execution_count": 7,
   "outputs": [
    {
     "data": {
      "text/plain": "(159, 3)"
     },
     "execution_count": 7,
     "metadata": {},
     "output_type": "execute_result"
    }
   ],
   "source": [
    "lnames = ['Length1', 'Length2', 'Length3']\n",
    "\n",
    "ls = np.array(df[lnames])\n",
    "ls.shape"
   ],
   "metadata": {
    "collapsed": false,
    "pycharm": {
     "name": "#%%\n"
    }
   }
  },
  {
   "cell_type": "code",
   "execution_count": 23,
   "outputs": [],
   "source": [
    "def err(cs):\n",
    "    c1, c2, c3 = cs\n",
    "    calc = weee(c1, c2, c3)\n",
    "    weights = np.array(df['Weight'])\n",
    "    return sum((weights - np.apply_along_axis(calc, 1, arr=ls)) ** 2)"
   ],
   "metadata": {
    "collapsed": false,
    "pycharm": {
     "name": "#%%\n"
    }
   }
  },
  {
   "cell_type": "code",
   "execution_count": null,
   "outputs": [],
   "source": [
    "err(1, 2, 3)"
   ],
   "metadata": {
    "collapsed": false,
    "pycharm": {
     "name": "#%%\n",
     "is_executing": true
    }
   }
  },
  {
   "cell_type": "code",
   "execution_count": 44,
   "outputs": [],
   "source": [
    "from scipy.optimize import minimize, LinearConstraint\n",
    "\n",
    "ret = minimize(err, x0=[10, 10, 10], bounds=[[0, None], [0, None], [0, None]])"
   ],
   "metadata": {
    "collapsed": false,
    "pycharm": {
     "name": "#%%\n"
    }
   }
  },
  {
   "cell_type": "code",
   "execution_count": 45,
   "outputs": [
    {
     "data": {
      "text/plain": "      fun: 3307842.0828380687\n hess_inv: <3x3 LbfgsInvHessProduct with dtype=float64>\n      jac: array([-32211.7935868 , -19567.45820268,  16874.30637037])\n  message: 'CONVERGENCE: REL_REDUCTION_OF_F_<=_FACTR*EPSMCH'\n     nfev: 104\n      nit: 24\n     njev: 26\n   status: 0\n  success: True\n        x: array([6.22029510e-03, 8.19451761e+00, 9.48695708e+00])"
     },
     "execution_count": 45,
     "metadata": {},
     "output_type": "execute_result"
    }
   ],
   "source": [
    "ret"
   ],
   "metadata": {
    "collapsed": false,
    "pycharm": {
     "name": "#%%\n"
    }
   }
  },
  {
   "cell_type": "code",
   "execution_count": 46,
   "outputs": [],
   "source": [
    "dabest = weee(ret.x[0], ret.x[1], ret.x[2])"
   ],
   "metadata": {
    "collapsed": false,
    "pycharm": {
     "name": "#%%\n"
    }
   }
  },
  {
   "cell_type": "code",
   "execution_count": 47,
   "outputs": [
    {
     "data": {
      "text/plain": "159"
     },
     "execution_count": 47,
     "metadata": {},
     "output_type": "execute_result"
    }
   ],
   "source": [
    "ans = np.apply_along_axis(dabest, 1, ls)\n",
    "ans.size"
   ],
   "metadata": {
    "collapsed": false,
    "pycharm": {
     "name": "#%%\n"
    }
   }
  },
  {
   "cell_type": "code",
   "execution_count": 48,
   "outputs": [
    {
     "data": {
      "text/plain": "array([ 365.67310512,  413.47389458,  429.68981805,  466.55973947,\n        480.97062369,  556.76343218,  538.16899631,  481.23400535,\n        490.81583199,  518.2300638 ,  543.0381313 ,  503.27718782,\n        494.34442628,  554.21771026,  558.62544438,  558.62544438,\n        585.27132244,  605.76314973,  574.30387386,  569.87546822,\n        639.01411794,  593.12917247,  672.2000608 ,  766.05764352,\n        733.02504599,  798.78764544,  722.58957909,  798.96431942,\n        785.52791361,  882.70524317,  915.54606867,  905.01554632,\n        908.7055263 ,  935.51143182,  849.55245956,   69.3506462 ,\n        110.03948883,  105.98512198,  125.70908886,  108.4293318 ,\n        120.50750393,  133.78788176,  148.14142431,  155.53287657,\n        131.43111966,  193.52250415,  144.55613155,  140.21226099,\n        228.93628353,  192.03242108,  192.93971954,  184.48581236,\n        248.69194075,  285.69921547,  350.2579344 ,  264.20207966,\n        274.72746615,  292.01798933,  357.41634006,  496.50694838,\n        600.31085611,   60.20212591,   66.59747194,   91.26176136,\n        111.1793939 ,  126.95897007,  142.21815081,  142.21815081,\n        152.67586375,  181.43593806,  226.621085  ,  236.92811398,\n         10.11590346,   35.79609737,   39.99446688,   44.64057946,\n         75.81075953,   87.89740366,   90.34915553,   93.10329303,\n         96.5325666 ,   94.77685574,  129.56679836,  129.56679836,\n        129.56679836,  131.6198503 ,  136.66415507,  136.66415507,\n        136.66415507,  136.66415507,  136.66415507,  140.49041409,\n        140.49041409,  142.07421318,  144.50794718,  148.72141957,\n        153.13549648,  153.13549648,  161.64471206,  162.58412473,\n        175.21007567,  146.19426124,  194.02729564,  196.41623729,\n        196.41623729,  196.41623729,  202.55513983,  187.46358464,\n        245.18457519,  289.85001411,  369.81379567,  391.75640819,\n        431.81529785,  360.22462229,  438.11207564,  421.1224357 ,\n        485.15927761,  485.15927761,  468.43499545,  606.83770766,\n        595.6220647 ,  590.97345573,  576.78776517,  654.36549012,\n        706.59203581,  660.2416701 ,  757.8801377 ,  695.84143016,\n        326.94414509,  434.84193711,  454.19184448,  449.48213022,\n        465.62182416,  477.5469074 ,  611.52083752,  611.52083752,\n        675.32593186,  767.48381226,  750.53591176,  924.96466545,\n       1132.64060613, 1528.94882231, 1768.6237839 , 1768.6237839 ,\n       2176.30378641,   15.51460968,   18.72382786,   16.92004804,\n         18.2539589 ,   22.30566186,   24.89305254,   26.0325173 ,\n         26.0325173 ,   24.64687487,   25.93222904,   24.25244309,\n         23.06508807,   32.89781784,   44.16872799])"
     },
     "execution_count": 48,
     "metadata": {},
     "output_type": "execute_result"
    }
   ],
   "source": [
    "ans"
   ],
   "metadata": {
    "collapsed": false,
    "pycharm": {
     "name": "#%%\n"
    }
   }
  },
  {
   "cell_type": "code",
   "execution_count": 49,
   "outputs": [
    {
     "data": {
      "text/plain": "array([ 242. ,  290. ,  340. ,  363. ,  430. ,  450. ,  500. ,  390. ,\n        450. ,  500. ,  475. ,  500. ,  500. ,  340. ,  600. ,  600. ,\n        700. ,  700. ,  610. ,  650. ,  575. ,  685. ,  620. ,  680. ,\n        700. ,  725. ,  720. ,  714. ,  850. , 1000. ,  920. ,  955. ,\n        925. ,  975. ,  950. ,   40. ,   69. ,   78. ,   87. ,  120. ,\n          0. ,  110. ,  120. ,  150. ,  145. ,  160. ,  140. ,  160. ,\n        169. ,  161. ,  200. ,  180. ,  290. ,  272. ,  390. ,  270. ,\n        270. ,  306. ,  540. ,  800. , 1000. ,   55. ,   60. ,   90. ,\n        120. ,  150. ,  140. ,  170. ,  145. ,  200. ,  273. ,  300. ,\n          5.9,   32. ,   40. ,   51.5,   70. ,  100. ,   78. ,   80. ,\n         85. ,   85. ,  110. ,  115. ,  125. ,  130. ,  120. ,  120. ,\n        130. ,  135. ,  110. ,  130. ,  150. ,  145. ,  150. ,  170. ,\n        225. ,  145. ,  188. ,  180. ,  197. ,  218. ,  300. ,  260. ,\n        265. ,  250. ,  250. ,  300. ,  320. ,  514. ,  556. ,  840. ,\n        685. ,  700. ,  700. ,  690. ,  900. ,  650. ,  820. ,  850. ,\n        900. , 1015. ,  820. , 1100. , 1000. , 1100. , 1000. , 1000. ,\n        200. ,  300. ,  300. ,  300. ,  430. ,  345. ,  456. ,  510. ,\n        540. ,  500. ,  567. ,  770. ,  950. , 1250. , 1600. , 1550. ,\n       1650. ,    6.7,    7.5,    7. ,    9.7,    9.8,    8.7,   10. ,\n          9.9,    9.8,   12.2,   13.4,   12.2,   19.7,   19.9])"
     },
     "execution_count": 49,
     "metadata": {},
     "output_type": "execute_result"
    }
   ],
   "source": [
    "np.array(df['Weight'])"
   ],
   "metadata": {
    "collapsed": false,
    "pycharm": {
     "name": "#%%\n"
    }
   }
  },
  {
   "cell_type": "code",
   "execution_count": 38,
   "outputs": [
    {
     "data": {
      "text/plain": "    Species  Weight  Length1  Length2  Length3   Height   Width\n0     Bream   242.0     23.2     25.4     30.0  11.5200  4.0200\n1     Bream   290.0     24.0     26.3     31.2  12.4800  4.3056\n2     Bream   340.0     23.9     26.5     31.1  12.3778  4.6961\n3     Bream   363.0     26.3     29.0     33.5  12.7300  4.4555\n4     Bream   430.0     26.5     29.0     34.0  12.4440  5.1340\n..      ...     ...      ...      ...      ...      ...     ...\n154   Smelt    12.2     11.5     12.2     13.4   2.0904  1.3936\n155   Smelt    13.4     11.7     12.4     13.5   2.4300  1.2690\n156   Smelt    12.2     12.1     13.0     13.8   2.2770  1.2558\n157   Smelt    19.7     13.2     14.3     15.2   2.8728  2.0672\n158   Smelt    19.9     13.8     15.0     16.2   2.9322  1.8792\n\n[159 rows x 7 columns]",
      "text/html": "<div>\n<style scoped>\n    .dataframe tbody tr th:only-of-type {\n        vertical-align: middle;\n    }\n\n    .dataframe tbody tr th {\n        vertical-align: top;\n    }\n\n    .dataframe thead th {\n        text-align: right;\n    }\n</style>\n<table border=\"1\" class=\"dataframe\">\n  <thead>\n    <tr style=\"text-align: right;\">\n      <th></th>\n      <th>Species</th>\n      <th>Weight</th>\n      <th>Length1</th>\n      <th>Length2</th>\n      <th>Length3</th>\n      <th>Height</th>\n      <th>Width</th>\n    </tr>\n  </thead>\n  <tbody>\n    <tr>\n      <th>0</th>\n      <td>Bream</td>\n      <td>242.0</td>\n      <td>23.2</td>\n      <td>25.4</td>\n      <td>30.0</td>\n      <td>11.5200</td>\n      <td>4.0200</td>\n    </tr>\n    <tr>\n      <th>1</th>\n      <td>Bream</td>\n      <td>290.0</td>\n      <td>24.0</td>\n      <td>26.3</td>\n      <td>31.2</td>\n      <td>12.4800</td>\n      <td>4.3056</td>\n    </tr>\n    <tr>\n      <th>2</th>\n      <td>Bream</td>\n      <td>340.0</td>\n      <td>23.9</td>\n      <td>26.5</td>\n      <td>31.1</td>\n      <td>12.3778</td>\n      <td>4.6961</td>\n    </tr>\n    <tr>\n      <th>3</th>\n      <td>Bream</td>\n      <td>363.0</td>\n      <td>26.3</td>\n      <td>29.0</td>\n      <td>33.5</td>\n      <td>12.7300</td>\n      <td>4.4555</td>\n    </tr>\n    <tr>\n      <th>4</th>\n      <td>Bream</td>\n      <td>430.0</td>\n      <td>26.5</td>\n      <td>29.0</td>\n      <td>34.0</td>\n      <td>12.4440</td>\n      <td>5.1340</td>\n    </tr>\n    <tr>\n      <th>...</th>\n      <td>...</td>\n      <td>...</td>\n      <td>...</td>\n      <td>...</td>\n      <td>...</td>\n      <td>...</td>\n      <td>...</td>\n    </tr>\n    <tr>\n      <th>154</th>\n      <td>Smelt</td>\n      <td>12.2</td>\n      <td>11.5</td>\n      <td>12.2</td>\n      <td>13.4</td>\n      <td>2.0904</td>\n      <td>1.3936</td>\n    </tr>\n    <tr>\n      <th>155</th>\n      <td>Smelt</td>\n      <td>13.4</td>\n      <td>11.7</td>\n      <td>12.4</td>\n      <td>13.5</td>\n      <td>2.4300</td>\n      <td>1.2690</td>\n    </tr>\n    <tr>\n      <th>156</th>\n      <td>Smelt</td>\n      <td>12.2</td>\n      <td>12.1</td>\n      <td>13.0</td>\n      <td>13.8</td>\n      <td>2.2770</td>\n      <td>1.2558</td>\n    </tr>\n    <tr>\n      <th>157</th>\n      <td>Smelt</td>\n      <td>19.7</td>\n      <td>13.2</td>\n      <td>14.3</td>\n      <td>15.2</td>\n      <td>2.8728</td>\n      <td>2.0672</td>\n    </tr>\n    <tr>\n      <th>158</th>\n      <td>Smelt</td>\n      <td>19.9</td>\n      <td>13.8</td>\n      <td>15.0</td>\n      <td>16.2</td>\n      <td>2.9322</td>\n      <td>1.8792</td>\n    </tr>\n  </tbody>\n</table>\n<p>159 rows × 7 columns</p>\n</div>"
     },
     "execution_count": 38,
     "metadata": {},
     "output_type": "execute_result"
    }
   ],
   "source": [
    "df"
   ],
   "metadata": {
    "collapsed": false,
    "pycharm": {
     "name": "#%%\n"
    }
   }
  },
  {
   "cell_type": "code",
   "execution_count": 50,
   "outputs": [],
   "source": [
    "def cool_calc(C, a, b, c) -> Callable[[list], float]:\n",
    "    def ret(LHW):\n",
    "        l, h, w = LHW\n",
    "        return C * (l ** a) * (h ** b) * (w ** c)\n",
    "    return ret"
   ],
   "metadata": {
    "collapsed": false,
    "pycharm": {
     "name": "#%%\n"
    }
   }
  },
  {
   "cell_type": "code",
   "execution_count": 54,
   "outputs": [],
   "source": [
    "param_names = ['Length2', 'Height', 'Width']\n",
    "\n",
    "LHW = np.array(df[param_names])\n",
    "weights = np.array(df['Weight'])"
   ],
   "metadata": {
    "collapsed": false,
    "pycharm": {
     "name": "#%%\n"
    }
   }
  },
  {
   "cell_type": "code",
   "execution_count": 55,
   "outputs": [],
   "source": [
    "def cool_err(coefs):\n",
    "    C, a, b, c = coefs\n",
    "    coef_calc = cool_calc(C, a, b, c)\n",
    "    calc_w = np.apply_along_axis(coef_calc, 1, LHW)\n",
    "    return sum((calc_w - weights) ** 2)"
   ],
   "metadata": {
    "collapsed": false,
    "pycharm": {
     "name": "#%%\n"
    }
   }
  },
  {
   "cell_type": "code",
   "execution_count": 57,
   "outputs": [
    {
     "data": {
      "text/plain": " barrier_parameter: 2.048000000000001e-09\n barrier_tolerance: 2.048000000000001e-09\n          cg_niter: 380\n      cg_stop_cond: 2\n            constr: [array([3.]), array([0.1030839 , 1.65811646, 0.56992046, 0.77196308])]\n       constr_nfev: [0, 0]\n       constr_nhev: [0, 0]\n       constr_njev: [0, 0]\n    constr_penalty: 1.0\n  constr_violation: 0.0\n    execution_time: 8.626171350479126\n               fun: 499349.3471587737\n              grad: array([4.51601562e+01, 2.71397374e+05, 2.71391641e+05, 2.71388730e+05])\n               jac: [array([[0, 1, 1, 1]]), array([[1., 0., 0., 0.],\n       [0., 1., 0., 0.],\n       [0., 0., 1., 0.],\n       [0., 0., 0., 1.]])]\n   lagrangian_grad: array([ 0.47483913,  2.51320197, -0.56540838, -1.94779359])\n           message: '`xtol` termination condition is satisfied.'\n            method: 'tr_interior_point'\n              nfev: 1005\n              nhev: 0\n               nit: 183\n             niter: 183\n              njev: 201\n        optimality: 2.513201967876848\n            status: 2\n           success: True\n         tr_radius: 6.0936067161764965e-09\n                 v: [array([-271393.94677272]), array([-44.68531712,  -0.91410762,   1.74073935,   3.26851038])]\n                 x: array([0.1030839 , 1.65811646, 0.56992046, 0.77196308])"
     },
     "execution_count": 57,
     "metadata": {},
     "output_type": "execute_result"
    }
   ],
   "source": [
    "hey = minimize(cool_err, x0=[1, 1, 1, 1], bounds = [[0, np.inf], [0, np.inf], [0, np.inf], [0, np.inf]], constraints = [\n",
    "    LinearConstraint(np.array([0, 1, 1, 1]), 3, 3)], method='trust-constr')\n",
    "hey"
   ],
   "metadata": {
    "collapsed": false,
    "pycharm": {
     "name": "#%%\n"
    }
   }
  },
  {
   "cell_type": "markdown",
   "source": [],
   "metadata": {
    "collapsed": false
   }
  },
  {
   "cell_type": "code",
   "execution_count": 59,
   "outputs": [
    {
     "data": {
      "text/plain": "KstestResult(statistic=0.0440251572327044, pvalue=0.9980102281391852)"
     },
     "execution_count": 59,
     "metadata": {},
     "output_type": "execute_result"
    }
   ],
   "source": [
    "C, a, b, c = hey.x\n",
    "func = cool_calc(C, a, b, c)\n",
    "exp = np.apply_along_axis(func, 1, LHW)\n",
    "log_weights = weights\n",
    "\n",
    "ss.kstest(exp, log_weights)"
   ],
   "metadata": {
    "collapsed": false,
    "pycharm": {
     "name": "#%%\n"
    }
   }
  }
 ],
 "metadata": {
  "kernelspec": {
   "display_name": "Python 3",
   "language": "python",
   "name": "python3"
  },
  "language_info": {
   "codemirror_mode": {
    "name": "ipython",
    "version": 2
   },
   "file_extension": ".py",
   "mimetype": "text/x-python",
   "name": "python",
   "nbconvert_exporter": "python",
   "pygments_lexer": "ipython2",
   "version": "2.7.6"
  }
 },
 "nbformat": 4,
 "nbformat_minor": 0
}