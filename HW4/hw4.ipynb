{
 "cells": [
  {
   "cell_type": "markdown",
   "id": "fea440c6",
   "metadata": {},
   "source": [
    "# Практика."
   ]
  },
  {
   "cell_type": "code",
   "execution_count": 1,
   "id": "df1541f7",
   "metadata": {},
   "outputs": [],
   "source": [
    "import numpy as np\n",
    "import scipy.stats as ss\n",
    "import pandas as pd\n",
    "import matplotlib\n",
    "from tqdm.notebook import tqdm\n",
    "from matplotlib import pyplot as plt\n",
    "from IPython.display import set_matplotlib_formats\n",
    "set_matplotlib_formats('svg')\n",
    "%matplotlib inline"
   ]
  },
  {
   "cell_type": "code",
   "execution_count": 2,
   "id": "6b58d5ef",
   "metadata": {},
   "outputs": [],
   "source": [
    "def rmse(X, theta, func):\n",
    "    theta_sample = np.apply_along_axis(func, 0, X)\n",
    "    return np.sqrt(np.mean((theta_sample - theta) ** 2))"
   ]
  },
  {
   "cell_type": "markdown",
   "id": "3bf0fa1b",
   "metadata": {},
   "source": [
    "## $X = \\theta + sin(U[-\\pi,\\pi])$"
   ]
  },
  {
   "cell_type": "code",
   "execution_count": 3,
   "id": "7eb5e93b",
   "metadata": {},
   "outputs": [],
   "source": [
    "X = ss.uniform(loc=-np.pi, scale = 2 * np.pi).rvs(size = 100000 * 30, random_state = 38).reshape(30, 100000)\n",
    "X = 3 + np.sin(X)"
   ]
  },
  {
   "cell_type": "code",
   "execution_count": 4,
   "id": "8d6967b1",
   "metadata": {},
   "outputs": [
    {
     "data": {
      "text/plain": [
       "0.12878067362364015"
      ]
     },
     "execution_count": 4,
     "metadata": {},
     "output_type": "execute_result"
    }
   ],
   "source": [
    "rmse(X, 3, np.mean)"
   ]
  },
  {
   "cell_type": "code",
   "execution_count": 5,
   "id": "9e58b210",
   "metadata": {},
   "outputs": [
    {
     "data": {
      "text/plain": [
       "0.2634554137759675"
      ]
     },
     "execution_count": 5,
     "metadata": {},
     "output_type": "execute_result"
    }
   ],
   "source": [
    "rmse(X, 3, np.median)"
   ]
  },
  {
   "cell_type": "markdown",
   "id": "1eb0572e",
   "metadata": {},
   "source": [
    "## $Y = \\theta + sin(\\mathcal N (0, 0.5 ^ 2))$"
   ]
  },
  {
   "cell_type": "code",
   "execution_count": 6,
   "id": "a6655fd3",
   "metadata": {},
   "outputs": [],
   "source": [
    "Y = ss.norm(loc=0, scale=0.5).rvs(size = 100000 * 30, random_state=38).reshape(30, 100000)\n",
    "Y = 3 + np.sin(Y)"
   ]
  },
  {
   "cell_type": "code",
   "execution_count": 7,
   "id": "75daa4c1",
   "metadata": {},
   "outputs": [
    {
     "data": {
      "text/plain": [
       "0.0809535491976109"
      ]
     },
     "execution_count": 7,
     "metadata": {},
     "output_type": "execute_result"
    }
   ],
   "source": [
    "rmse(Y, 3, np.mean)"
   ]
  },
  {
   "cell_type": "code",
   "execution_count": 8,
   "id": "1835c9ee",
   "metadata": {},
   "outputs": [
    {
     "data": {
      "text/plain": [
       "0.11110851502070754"
      ]
     },
     "execution_count": 8,
     "metadata": {},
     "output_type": "execute_result"
    }
   ],
   "source": [
    "rmse(Y, 3, np.median)"
   ]
  },
  {
   "cell_type": "code",
   "execution_count": 9,
   "id": "39357ac3",
   "metadata": {},
   "outputs": [
    {
     "data": {
      "text/plain": [
       "0.022160144514853753"
      ]
     },
     "execution_count": 9,
     "metadata": {},
     "output_type": "execute_result"
    }
   ],
   "source": [
    "rmse(X, 3, lambda x: np.max(x) - 1)"
   ]
  },
  {
   "cell_type": "code",
   "execution_count": 10,
   "id": "fb734bdd",
   "metadata": {
    "scrolled": true
   },
   "outputs": [
    {
     "data": {
      "text/plain": [
       "0.20936273572377143"
      ]
     },
     "execution_count": 10,
     "metadata": {},
     "output_type": "execute_result"
    }
   ],
   "source": [
    "rmse(Y, 3, lambda x: np.max(x) - 1)"
   ]
  },
  {
   "cell_type": "code",
   "execution_count": 11,
   "id": "0b0d3596",
   "metadata": {},
   "outputs": [
    {
     "data": {
      "text/plain": [
       "      fun: 0.11854971389753188\n",
       " hess_inv: <1x1 LbfgsInvHessProduct with dtype=float64>\n",
       "      jac: array([9.71445142e-09])\n",
       "  message: 'CONVERGENCE: NORM_OF_PROJECTED_GRADIENT_<=_PGTOL'\n",
       "     nfev: 12\n",
       "      nit: 4\n",
       "     njev: 6\n",
       "   status: 0\n",
       "  success: True\n",
       "        x: array([0.82743488])"
      ]
     },
     "execution_count": 11,
     "metadata": {},
     "output_type": "execute_result"
    }
   ],
   "source": [
    "from scipy.optimize import minimize\n",
    "res = minimize(lambda a: rmse(Y, 3, lambda x: np.max(x) - a), x0 = [0.7], bounds = [[0.5, 1]])\n",
    "res"
   ]
  },
  {
   "cell_type": "code",
   "execution_count": 12,
   "id": "496767dd",
   "metadata": {
    "scrolled": true
   },
   "outputs": [
    {
     "data": {
      "text/plain": [
       "0.11854971389753183"
      ]
     },
     "execution_count": 12,
     "metadata": {},
     "output_type": "execute_result"
    }
   ],
   "source": [
    "supera = 0.82743488\n",
    "rmse(Y, 3, lambda x: np.max(x) - supera)"
   ]
  },
  {
   "cell_type": "code",
   "execution_count": 13,
   "id": "57f7769d",
   "metadata": {
    "scrolled": false
   },
   "outputs": [
    {
     "data": {
      "text/plain": [
       "      fun: 0.01988723791025868\n",
       " hess_inv: <1x1 LbfgsInvHessProduct with dtype=float64>\n",
       "      jac: array([6.93889387e-10])\n",
       "  message: 'CONVERGENCE: NORM_OF_PROJECTED_GRADIENT_<=_PGTOL'\n",
       "     nfev: 14\n",
       "      nit: 5\n",
       "     njev: 7\n",
       "   status: 0\n",
       "  success: True\n",
       "        x: array([0.99022402])"
      ]
     },
     "execution_count": 13,
     "metadata": {},
     "output_type": "execute_result"
    }
   ],
   "source": [
    "resX = minimize(lambda a: rmse(X, 3, lambda x: np.max(x) - a), x0 = [0.7], bounds = [[0.5, 1]])\n",
    "resX"
   ]
  },
  {
   "cell_type": "code",
   "execution_count": 14,
   "id": "94a2158b",
   "metadata": {},
   "outputs": [],
   "source": [
    "Z = ss.uniform(loc=-np.pi, scale = 2 * np.pi).rvs(size = 100000 * 30, random_state = 38).reshape(30, 100000)\n",
    "Z = 20 + np.sin(Z)"
   ]
  },
  {
   "cell_type": "code",
   "execution_count": 15,
   "id": "b2402352",
   "metadata": {},
   "outputs": [
    {
     "data": {
      "text/plain": [
       "0.022160144514853757"
      ]
     },
     "execution_count": 15,
     "metadata": {},
     "output_type": "execute_result"
    }
   ],
   "source": [
    "rmse(Z, 20, lambda x: np.max(x) - 1)"
   ]
  },
  {
   "cell_type": "code",
   "execution_count": 16,
   "id": "3118148f",
   "metadata": {},
   "outputs": [
    {
     "data": {
      "text/plain": [
       "0.4422356363395402"
      ]
     },
     "execution_count": 16,
     "metadata": {},
     "output_type": "execute_result"
    }
   ],
   "source": [
    "rmse(Y, 3, lambda x: x[0])"
   ]
  }
 ],
 "metadata": {
  "kernelspec": {
   "display_name": "Python 3",
   "language": "python",
   "name": "python3"
  },
  "language_info": {
   "codemirror_mode": {
    "name": "ipython",
    "version": 3
   },
   "file_extension": ".py",
   "mimetype": "text/x-python",
   "name": "python",
   "nbconvert_exporter": "python",
   "pygments_lexer": "ipython3",
   "version": "3.8.8"
  }
 },
 "nbformat": 4,
 "nbformat_minor": 5
}
