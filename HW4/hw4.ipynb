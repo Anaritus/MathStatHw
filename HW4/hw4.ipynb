{
 "cells": [
  {
   "cell_type": "code",
   "execution_count": 1,
   "metadata": {},
   "outputs": [],
   "source": [
    "import numpy as np\n",
    "import scipy.stats as ss\n",
    "import pandas as pd\n",
    "import matplotlib\n",
    "from tqdm.notebook import tqdm\n",
    "from matplotlib import pyplot as plt\n",
    "from IPython.display import set_matplotlib_formats\n",
    "set_matplotlib_formats('svg')\n",
    "%matplotlib inline"
   ]
  },
  {
   "cell_type": "code",
   "execution_count": 2,
   "metadata": {},
   "outputs": [
    {
     "data": {
      "text/plain": [
       "(2, 3)"
      ]
     },
     "execution_count": 2,
     "metadata": {},
     "output_type": "execute_result"
    }
   ],
   "source": [
    "a = np.array([\n",
    "    [1, 2, 3],\n",
    "    [4, 5, 6]\n",
    "])\n",
    "\n",
    "def m(x):\n",
    "    return x.mean()\n",
    "\n",
    "a.shape\n",
    "\n"
   ]
  },
  {
   "cell_type": "code",
   "execution_count": 3,
   "metadata": {},
   "outputs": [],
   "source": [
    "def bootstrap_t(stat, sample, gamma, N_samples):\n",
    "    n = len(sample)\n",
    "    boots = np.random.choice(sample, size=(N_samples, n))\n",
    "    stdteta = np.apply_along_axis(stat, 1, boots).std()\n",
    "    theta = stat(sample)\n",
    "    res = np.apply_along_axis(stat, 1, boots) - theta\n",
    "    sts = []\n",
    "    for i in range(N_samples):\n",
    "        boot = boots[i]\n",
    "        bboots = np.random.choice(boot, size=(30, n))\n",
    "        sts.append(np.apply_along_axis(stat, 1, bboots).std())\n",
    "    res /= sts\n",
    "    a = 1-gamma\n",
    "    t_1, t_2 = np.quantile(res, a / 2), np.quantile(res, 1-a / 2)\n",
    "    return theta - stdteta * t_2, theta - stdteta * t_1\n",
    "\n",
    "\n",
    "    "
   ]
  },
  {
   "cell_type": "code",
   "execution_count": 4,
   "metadata": {},
   "outputs": [
    {
     "name": "stdout",
     "output_type": "stream",
     "text": [
      "(1.4990892999169838, 1.5029854314277904)\n"
     ]
    }
   ],
   "source": [
    "sample = ss.norm.rvs(loc=2, scale=1.5, size=1000000, random_state=38)\n",
    "gamma = 0.95\n",
    "N_samples = 100\n",
    "\n",
    "print(bootstrap_t(np.std, sample, gamma, N_samples))"
   ]
  }
 ],
 "metadata": {
  "kernelspec": {
   "display_name": "Python 3",
   "language": "python",
   "name": "python3"
  },
  "language_info": {
   "codemirror_mode": {
    "name": "ipython",
    "version": 3
   },
   "file_extension": ".py",
   "mimetype": "text/x-python",
   "name": "python",
   "nbconvert_exporter": "python",
   "pygments_lexer": "ipython3",
   "version": "3.8.3"
  }
 },
 "nbformat": 4,
 "nbformat_minor": 4
}
