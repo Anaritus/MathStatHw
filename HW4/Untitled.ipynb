{
 "cells": [
  {
   "cell_type": "markdown",
   "id": "0262a987",
   "metadata": {},
   "source": [
    "# Практика."
   ]
  },
  {
   "cell_type": "code",
   "execution_count": 1,
   "id": "14918bc0",
   "metadata": {},
   "outputs": [],
   "source": [
    "import numpy as np\n",
    "import scipy.stats as ss\n",
    "import pandas as pd\n",
    "import matplotlib\n",
    "from tqdm.notebook import tqdm\n",
    "from matplotlib import pyplot as plt\n",
    "from IPython.display import set_matplotlib_formats\n",
    "set_matplotlib_formats('svg')\n",
    "%matplotlib inline"
   ]
  },
  {
   "cell_type": "code",
   "execution_count": 2,
   "id": "60dc14b9",
   "metadata": {},
   "outputs": [],
   "source": [
    "def rmse(theta_sample, theta):\n",
    "    return np.sqrt(np.mean(theta_sample - theta))"
   ]
  },
  {
   "cell_type": "markdown",
   "id": "978696cd",
   "metadata": {},
   "source": [
    "## $X = \\theta + sin(U[-\\pi,\\pi])$"
   ]
  },
  {
   "cell_type": "code",
   "execution_count": 7,
   "id": "96f289d5",
   "metadata": {},
   "outputs": [],
   "source": [
    "X = ss.uniform(loc=-np.pi, scale = 2 * np.pi).rvs(size = 1000 * 10000, random_state = 38).reshape(10000, 1000)"
   ]
  },
  {
   "cell_type": "code",
   "execution_count": 8,
   "id": "ac62180e",
   "metadata": {},
   "outputs": [
    {
     "data": {
      "text/plain": [
       "1000"
      ]
     },
     "execution_count": 8,
     "metadata": {},
     "output_type": "execute_result"
    }
   ],
   "source": [
    "theta_sample = np.apply_along_axis(np.mean, 0, X)\n",
    "theta_sample.size"
   ]
  },
  {
   "cell_type": "code",
   "execution_count": null,
   "id": "8c6c603b",
   "metadata": {},
   "outputs": [],
   "source": [
    "rmse(the)"
   ]
  }
 ],
 "metadata": {
  "kernelspec": {
   "display_name": "Python 3",
   "language": "python",
   "name": "python3"
  },
  "language_info": {
   "codemirror_mode": {
    "name": "ipython",
    "version": 3
   },
   "file_extension": ".py",
   "mimetype": "text/x-python",
   "name": "python",
   "nbconvert_exporter": "python",
   "pygments_lexer": "ipython3",
   "version": "3.8.8"
  }
 },
 "nbformat": 4,
 "nbformat_minor": 5
}
