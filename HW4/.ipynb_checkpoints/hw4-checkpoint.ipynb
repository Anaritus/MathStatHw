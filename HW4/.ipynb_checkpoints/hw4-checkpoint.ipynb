{
 "cells": [
  {
   "cell_type": "markdown",
   "id": "c877b4ae",
   "metadata": {},
   "source": [
    "# Практика."
   ]
  },
  {
   "cell_type": "code",
   "execution_count": 1,
   "id": "4d8cb5b7",
   "metadata": {},
   "outputs": [],
   "source": [
    "import numpy as np\n",
    "import scipy.stats as ss\n",
    "import pandas as pd\n",
    "import matplotlib\n",
    "from tqdm.notebook import tqdm\n",
    "from matplotlib import pyplot as plt\n",
    "from IPython.display import set_matplotlib_formats\n",
    "set_matplotlib_formats('svg')\n",
    "%matplotlib inline"
   ]
  },
  {
   "cell_type": "code",
   "execution_count": 2,
   "id": "35f2b2b0",
   "metadata": {},
   "outputs": [],
   "source": [
    "def rmse(X, theta, func):\n",
    "    theta_sample = np.apply_along_axis(func, 0, X)\n",
    "    return np.sqrt(np.mean((theta_sample - theta) ** 2))"
   ]
  },
  {
   "cell_type": "markdown",
   "id": "aa96d8c5",
   "metadata": {},
   "source": [
    "## $X = \\theta + sin(U[-\\pi,\\pi])$"
   ]
  },
  {
   "cell_type": "code",
   "execution_count": 3,
   "id": "31177994",
   "metadata": {},
   "outputs": [],
   "source": [
    "X = ss.uniform(loc=-np.pi, scale = 2 * np.pi).rvs(size = 100000 * 30, random_state = 38).reshape(30, 100000)\n",
    "X = 3 + np.sin(X)"
   ]
  },
  {
   "cell_type": "code",
   "execution_count": null,
   "id": "418a35b6",
   "metadata": {},
   "outputs": [],
   "source": [
    "rmse(X, 3, np.mean)"
   ]
  },
  {
   "cell_type": "code",
   "execution_count": null,
   "id": "c8ecd93a",
   "metadata": {},
   "outputs": [],
   "source": [
    "rmse(X, 3, np.median)"
   ]
  },
  {
   "cell_type": "markdown",
   "id": "a0d3713b",
   "metadata": {},
   "source": [
    "## $Y = \\theta + sin(\\mathcal N (0, 0.5 ^ 2))$"
   ]
  },
  {
   "cell_type": "code",
   "execution_count": null,
   "id": "2c49c973",
   "metadata": {},
   "outputs": [],
   "source": [
    "Y = ss.norm(loc=0, scale=0.5).rvs(size = 100000 * 30, random_state=38).reshape(30, 100000)\n",
    "Y = 3 + np.sin(Y)"
   ]
  },
  {
   "cell_type": "code",
   "execution_count": null,
   "id": "07ac18dc",
   "metadata": {},
   "outputs": [],
   "source": [
    "rmse(Y, 3, np.mean)"
   ]
  },
  {
   "cell_type": "code",
   "execution_count": null,
   "id": "6b3cbdad",
   "metadata": {},
   "outputs": [],
   "source": [
    "rmse(Y, 3, np.median)"
   ]
  },
  {
   "cell_type": "code",
   "execution_count": null,
   "id": "1e533404",
   "metadata": {},
   "outputs": [],
   "source": [
    "rmse(X, 3, lambda x: np.max(x) - 1)"
   ]
  },
  {
   "cell_type": "code",
   "execution_count": null,
   "id": "15317a71",
   "metadata": {
    "scrolled": true
   },
   "outputs": [],
   "source": [
    "rmse(Y, 3, lambda x: np.max(x) - 1)"
   ]
  },
  {
   "cell_type": "code",
   "execution_count": null,
   "id": "082e78de",
   "metadata": {},
   "outputs": [],
   "source": [
    "from scipy.optimize import minimize\n",
    "res = minimize(lambda a: rmse(Y, 3, lambda x: np.max(x) - a), x0 = [0.7], bounds = [[0.5, 1]])\n",
    "res"
   ]
  },
  {
   "cell_type": "code",
   "execution_count": null,
   "id": "1911053a",
   "metadata": {
    "scrolled": true
   },
   "outputs": [],
   "source": [
    "supera = 0.82743488\n",
    "rmse(Y, 3, lambda x: np.max(x) - supera)"
   ]
  },
  {
   "cell_type": "code",
   "execution_count": null,
   "id": "a81a092f",
   "metadata": {
    "scrolled": false
   },
   "outputs": [],
   "source": [
    "resX = minimize(lambda a: rmse(X, 3, lambda x: np.max(x) - a), x0 = [0.7], bounds = [[0.5, 1]])\n",
    "resX"
   ]
  },
  {
   "cell_type": "code",
   "execution_count": null,
   "id": "d2cf0463",
   "metadata": {},
   "outputs": [],
   "source": [
    "Z = ss.uniform(loc=-np.pi, scale = 2 * np.pi).rvs(size = 100000 * 30, random_state = 38).reshape(30, 100000)\n",
    "Z = 20 + np.sin(Z)"
   ]
  }
 ],
 "metadata": {
  "kernelspec": {
   "display_name": "Python 3",
   "language": "python",
   "name": "python3"
  },
  "language_info": {
   "codemirror_mode": {
    "name": "ipython",
    "version": 3
   },
   "file_extension": ".py",
   "mimetype": "text/x-python",
   "name": "python",
   "nbconvert_exporter": "python",
   "pygments_lexer": "ipython3",
   "version": "3.8.8"
  }
 },
 "nbformat": 4,
 "nbformat_minor": 5
}
