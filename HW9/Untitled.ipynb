{
 "cells": [
  {
   "cell_type": "code",
   "execution_count": 1,
   "id": "c3e7e00d",
   "metadata": {},
   "outputs": [],
   "source": [
    "import numpy as np\n",
    "import pandas as pd\n",
    "import scipy.stats as ss\n",
    "from typing import Callable\n",
    "import pandas as pd"
   ]
  },
  {
   "cell_type": "code",
   "execution_count": 9,
   "id": "75e9debb",
   "metadata": {},
   "outputs": [
    {
     "data": {
      "text/plain": [
       "array([[0, 1, 3],\n",
       "       [2, 3, 6]], dtype=int32)"
      ]
     },
     "execution_count": 9,
     "metadata": {},
     "output_type": "execute_result"
    }
   ],
   "source": [
    "a = np.array([[0, 1, 2], [2, 1, 3]])\n",
    "a.cumsum(axis=1)\n"
   ]
  },
  {
   "cell_type": "code",
   "execution_count": null,
   "id": "812f0d4a",
   "metadata": {},
   "outputs": [],
   "source": [
    "def SPRT(a, b, mu) -> (float, float, float, float):\n",
    "    A = b / (1 - a)\n",
    "    B = (1 - b) / a\n",
    "    \n",
    "    #First order\n",
    "    X = ss.norm.rvs(loc = 0, scale = 1, size=(10000, 1000))\n",
    "    Y = ss.norm.logpdf(X, loc = 0, scale = 1) - ss.norm.logpdf(X, loc = mu, scale = 1)\n",
    "    Z = Y.cumsum(axis=1)"
   ]
  }
 ],
 "metadata": {
  "kernelspec": {
   "display_name": "Python 3",
   "language": "python",
   "name": "python3"
  },
  "language_info": {
   "codemirror_mode": {
    "name": "ipython",
    "version": 3
   },
   "file_extension": ".py",
   "mimetype": "text/x-python",
   "name": "python",
   "nbconvert_exporter": "python",
   "pygments_lexer": "ipython3",
   "version": "3.8.8"
  }
 },
 "nbformat": 4,
 "nbformat_minor": 5
}
