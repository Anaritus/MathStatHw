{
 "cells": [
  {
   "cell_type": "markdown",
   "metadata": {},
   "source": [
    "# Домашка."
   ]
  },
  {
   "cell_type": "code",
   "execution_count": 1,
   "metadata": {},
   "outputs": [],
   "source": [
    "import numpy as np\n",
    "import pandas as pd\n",
    "import scipy.stats as ss\n",
    "from typing import Callable\n",
    "import pandas as pd"
   ]
  },
  {
   "cell_type": "code",
   "execution_count": 2,
   "metadata": {},
   "outputs": [
    {
     "data": {
      "text/html": [
       "<div>\n",
       "<style scoped>\n",
       "    .dataframe tbody tr th:only-of-type {\n",
       "        vertical-align: middle;\n",
       "    }\n",
       "\n",
       "    .dataframe tbody tr th {\n",
       "        vertical-align: top;\n",
       "    }\n",
       "\n",
       "    .dataframe thead th {\n",
       "        text-align: right;\n",
       "    }\n",
       "</style>\n",
       "<table border=\"1\" class=\"dataframe\">\n",
       "  <thead>\n",
       "    <tr style=\"text-align: right;\">\n",
       "      <th></th>\n",
       "      <th>first</th>\n",
       "      <th>second</th>\n",
       "      <th>third</th>\n",
       "      <th>winning</th>\n",
       "      <th>reporter?</th>\n",
       "    </tr>\n",
       "  </thead>\n",
       "  <tbody>\n",
       "    <tr>\n",
       "      <th>0</th>\n",
       "      <td>2</td>\n",
       "      <td>0</td>\n",
       "      <td>0</td>\n",
       "      <td>0</td>\n",
       "      <td>1</td>\n",
       "    </tr>\n",
       "    <tr>\n",
       "      <th>1</th>\n",
       "      <td>0</td>\n",
       "      <td>5</td>\n",
       "      <td>1</td>\n",
       "      <td>0</td>\n",
       "      <td>1</td>\n",
       "    </tr>\n",
       "    <tr>\n",
       "      <th>2</th>\n",
       "      <td>0</td>\n",
       "      <td>0</td>\n",
       "      <td>0</td>\n",
       "      <td>0</td>\n",
       "      <td>1</td>\n",
       "    </tr>\n",
       "    <tr>\n",
       "      <th>3</th>\n",
       "      <td>2</td>\n",
       "      <td>0</td>\n",
       "      <td>0</td>\n",
       "      <td>0</td>\n",
       "      <td>1</td>\n",
       "    </tr>\n",
       "    <tr>\n",
       "      <th>4</th>\n",
       "      <td>0</td>\n",
       "      <td>0</td>\n",
       "      <td>0</td>\n",
       "      <td>0</td>\n",
       "      <td>1</td>\n",
       "    </tr>\n",
       "  </tbody>\n",
       "</table>\n",
       "</div>"
      ],
      "text/plain": [
       "   first  second  third  winning  reporter?\n",
       "0      2       0      0        0          1\n",
       "1      0       5      1        0          1\n",
       "2      0       0      0        0          1\n",
       "3      2       0      0        0          1\n",
       "4      0       0      0        0          1"
      ]
     },
     "execution_count": 2,
     "metadata": {},
     "output_type": "execute_result"
    }
   ],
   "source": [
    "df = pd.read_csv('hw_6_data.txt', sep=' ', names=['first', 'second', 'third', 'winning', 'reporter?'])\n",
    "df.head()"
   ]
  },
  {
   "cell_type": "code",
   "execution_count": 3,
   "metadata": {},
   "outputs": [
    {
     "data": {
      "text/html": [
       "<div>\n",
       "<style scoped>\n",
       "    .dataframe tbody tr th:only-of-type {\n",
       "        vertical-align: middle;\n",
       "    }\n",
       "\n",
       "    .dataframe tbody tr th {\n",
       "        vertical-align: top;\n",
       "    }\n",
       "\n",
       "    .dataframe thead th {\n",
       "        text-align: right;\n",
       "    }\n",
       "</style>\n",
       "<table border=\"1\" class=\"dataframe\">\n",
       "  <thead>\n",
       "    <tr style=\"text-align: right;\">\n",
       "      <th></th>\n",
       "      <th>first</th>\n",
       "      <th>second</th>\n",
       "      <th>third</th>\n",
       "      <th>winning</th>\n",
       "      <th>reporter?</th>\n",
       "    </tr>\n",
       "  </thead>\n",
       "  <tbody>\n",
       "    <tr>\n",
       "      <th>0</th>\n",
       "      <td>2</td>\n",
       "      <td>0</td>\n",
       "      <td>0</td>\n",
       "      <td>0</td>\n",
       "      <td>1</td>\n",
       "    </tr>\n",
       "    <tr>\n",
       "      <th>1</th>\n",
       "      <td>0</td>\n",
       "      <td>5</td>\n",
       "      <td>1</td>\n",
       "      <td>0</td>\n",
       "      <td>1</td>\n",
       "    </tr>\n",
       "    <tr>\n",
       "      <th>2</th>\n",
       "      <td>0</td>\n",
       "      <td>0</td>\n",
       "      <td>0</td>\n",
       "      <td>0</td>\n",
       "      <td>1</td>\n",
       "    </tr>\n",
       "    <tr>\n",
       "      <th>3</th>\n",
       "      <td>2</td>\n",
       "      <td>0</td>\n",
       "      <td>0</td>\n",
       "      <td>0</td>\n",
       "      <td>1</td>\n",
       "    </tr>\n",
       "    <tr>\n",
       "      <th>4</th>\n",
       "      <td>0</td>\n",
       "      <td>0</td>\n",
       "      <td>0</td>\n",
       "      <td>0</td>\n",
       "      <td>1</td>\n",
       "    </tr>\n",
       "  </tbody>\n",
       "</table>\n",
       "</div>"
      ],
      "text/plain": [
       "   first  second  third  winning  reporter?\n",
       "0      2       0      0        0          1\n",
       "1      0       5      1        0          1\n",
       "2      0       0      0        0          1\n",
       "3      2       0      0        0          1\n",
       "4      0       0      0        0          1"
      ]
     },
     "execution_count": 3,
     "metadata": {},
     "output_type": "execute_result"
    }
   ],
   "source": [
    "report = df[df['reporter?'] == 1]\n",
    "report.head()"
   ]
  },
  {
   "cell_type": "code",
   "execution_count": 4,
   "metadata": {},
   "outputs": [
    {
     "data": {
      "text/plain": [
       "(138, 5)"
      ]
     },
     "execution_count": 4,
     "metadata": {},
     "output_type": "execute_result"
    }
   ],
   "source": [
    "report.shape"
   ]
  },
  {
   "cell_type": "code",
   "execution_count": 5,
   "metadata": {},
   "outputs": [],
   "source": [
    "valuesf, countsf = np.unique(report['first'], return_counts=True)\n",
    "valuesf, countsf\n",
    "def numToInd(a):\n",
    "    return a - (a > 4)\n"
   ]
  },
  {
   "cell_type": "code",
   "execution_count": 6,
   "metadata": {},
   "outputs": [
    {
     "data": {
      "text/html": [
       "<div>\n",
       "<style scoped>\n",
       "    .dataframe tbody tr th:only-of-type {\n",
       "        vertical-align: middle;\n",
       "    }\n",
       "\n",
       "    .dataframe tbody tr th {\n",
       "        vertical-align: top;\n",
       "    }\n",
       "\n",
       "    .dataframe thead th {\n",
       "        text-align: right;\n",
       "    }\n",
       "</style>\n",
       "<table border=\"1\" class=\"dataframe\">\n",
       "  <thead>\n",
       "    <tr style=\"text-align: right;\">\n",
       "      <th></th>\n",
       "      <th>first</th>\n",
       "      <th>second</th>\n",
       "      <th>third</th>\n",
       "      <th>winning</th>\n",
       "      <th>reporter?</th>\n",
       "    </tr>\n",
       "  </thead>\n",
       "  <tbody>\n",
       "    <tr>\n",
       "      <th>0</th>\n",
       "      <td>2</td>\n",
       "      <td>0</td>\n",
       "      <td>0</td>\n",
       "      <td>0</td>\n",
       "      <td>1</td>\n",
       "    </tr>\n",
       "    <tr>\n",
       "      <th>1</th>\n",
       "      <td>0</td>\n",
       "      <td>4</td>\n",
       "      <td>1</td>\n",
       "      <td>0</td>\n",
       "      <td>1</td>\n",
       "    </tr>\n",
       "    <tr>\n",
       "      <th>2</th>\n",
       "      <td>0</td>\n",
       "      <td>0</td>\n",
       "      <td>0</td>\n",
       "      <td>0</td>\n",
       "      <td>1</td>\n",
       "    </tr>\n",
       "    <tr>\n",
       "      <th>3</th>\n",
       "      <td>2</td>\n",
       "      <td>0</td>\n",
       "      <td>0</td>\n",
       "      <td>0</td>\n",
       "      <td>1</td>\n",
       "    </tr>\n",
       "    <tr>\n",
       "      <th>4</th>\n",
       "      <td>0</td>\n",
       "      <td>0</td>\n",
       "      <td>0</td>\n",
       "      <td>0</td>\n",
       "      <td>1</td>\n",
       "    </tr>\n",
       "  </tbody>\n",
       "</table>\n",
       "</div>"
      ],
      "text/plain": [
       "   first  second  third  winning  reporter?\n",
       "0      2       0      0        0          1\n",
       "1      0       4      1        0          1\n",
       "2      0       0      0        0          1\n",
       "3      2       0      0        0          1\n",
       "4      0       0      0        0          1"
      ]
     },
     "execution_count": 6,
     "metadata": {},
     "output_type": "execute_result"
    }
   ],
   "source": [
    "report = report - (report > 4)\n",
    "report.head()"
   ]
  },
  {
   "cell_type": "code",
   "execution_count": 7,
   "metadata": {},
   "outputs": [
    {
     "name": "stdout",
     "output_type": "stream",
     "text": [
      "[0.61594203 0.05797101 0.17391304 0.11594203 0.00724638 0.02898551]\n"
     ]
    },
    {
     "data": {
      "text/plain": [
       "array([0.61594203, 0.05797101, 0.17391304, 0.11594203, 0.00724638,\n",
       "       0.        , 0.02898551])"
      ]
     },
     "execution_count": 7,
     "metadata": {},
     "output_type": "execute_result"
    }
   ],
   "source": [
    "names = ['first', 'second', 'third']\n",
    "model = [np.unique(report[name], return_counts=True)[1] / 138 for name in names]\n",
    "print(model[1])\n",
    "model[1] = np.append(model[1], model[1][5])\n",
    "model[1][5] = 0\n",
    "model[1]"
   ]
  },
  {
   "cell_type": "code",
   "execution_count": 23,
   "metadata": {},
   "outputs": [
    {
     "name": "stdout",
     "output_type": "stream",
     "text": [
      "(array([0, 1, 2, 3, 4, 5, 6], dtype=int64), array([59, 49, 14,  6,  3,  1,  6], dtype=int64))\n",
      "(array([0, 1, 2, 3, 4, 6], dtype=int64), array([85,  8, 24, 16,  1,  4], dtype=int64))\n",
      "(array([0, 1, 2, 3, 4, 5, 6], dtype=int64), array([77, 39,  6,  1,  5,  3,  7], dtype=int64))\n"
     ]
    }
   ],
   "source": [
    "for name in names:\n",
    "    print(np.unique(report[name], return_counts=True))"
   ]
  },
  {
   "cell_type": "markdown",
   "metadata": {},
   "source": [
    "# Алмазов нет или 3."
   ]
  },
  {
   "cell_type": "code",
   "execution_count": 8,
   "metadata": {},
   "outputs": [
    {
     "data": {
      "text/plain": [
       "([10, 25, 40, 800, 10, 80, 5, 5, 2],\n",
       " [0.005817192223044118,\n",
       "  0.0007671022711706529,\n",
       "  3.65286795795549e-05,\n",
       "  5.707606184305453e-06,\n",
       "  0.0,\n",
       "  6.392518926422107e-05,\n",
       "  0.05135019131895929,\n",
       "  0.0001563884094499694,\n",
       "  0.027732877942461244])"
      ]
     },
     "execution_count": 8,
     "metadata": {},
     "output_type": "execute_result"
    }
   ],
   "source": [
    "epicBar = sum([model[0][i] * model[1][i] * model[2][i] for i in range(1, 4)])\n",
    "anyBar = [sum([model[0][i] for i in range(1, 4)]),\n",
    "          sum([model[1][i] for i in range(1, 4)]),\n",
    "          sum([model[2][i] for i in range(1, 4)])]\n",
    "\n",
    "noDvals = [10, 25, 40, 800, 10, 80, 5, 5, 2]\n",
    "notcd = [1 - model[i][5] - model[i][4] for i in range(3)]\n",
    "noDprobs = [model[0][i] * model[1][i] * model[2][i] for i in range(1, 7)] + [\n",
    "    anyBar[0] * anyBar[1] * anyBar[2] - epicBar, #three any bars\n",
    "    model[0][5] * model[1][5] * notcd[2] + model[0][5] * model[2][5] * notcd[1] + model[2][5] * model[1][5] * notcd[0], #two cherries\n",
    "    model[0][5] * notcd[1] * notcd[2] + notcd[0] * model[1][5] * notcd[2] + model[2][5] * notcd[1] * notcd[0]] #one cherry\n",
    "noDvals, noDprobs"
   ]
  },
  {
   "cell_type": "markdown",
   "metadata": {},
   "source": [
    "Вишенки во втором окошке нет"
   ]
  },
  {
   "cell_type": "markdown",
   "metadata": {},
   "source": [
    "## Один алмаз."
   ]
  },
  {
   "cell_type": "code",
   "execution_count": 9,
   "metadata": {},
   "outputs": [],
   "source": [
    "oneDvals = [20, 50, 80, 20, 160, 10, 10]\n",
    "anyDif = [\n",
    "    anyBar[(1 + j) % 3] * anyBar[(2 + j) % 3] - sum([model[(1 + j) % 3][i] * model[(2 + j) % 3][i]\n",
    "                                                     for i in range (1, 4)]) for j in range(3)\n",
    "]\n",
    "oneDprobs = [model[0][4] * model[1][i] * model[2][i] + model[1][4] * model[0][i] * model[2][i] + model[2][4] * model[1][i] * model[0][i]\n",
    "            for i in range(1, 7) if i != 4] + [\n",
    "    model[0][4] * anyDif[0] + model[1][4] * anyDif[1] + model[2][4] * anyDif[2],\n",
    "    sum([model[t][4] * (model[(t + 1) % 3][5] * notcd[(t + 2) % 3] + model[(t + 2) % 3][5] * notcd[(t + 1) % 3]) \n",
    "         for t in range(3)])\n",
    "]"
   ]
  },
  {
   "cell_type": "markdown",
   "metadata": {},
   "source": [
    "## Два алмаза."
   ]
  },
  {
   "cell_type": "code",
   "execution_count": 10,
   "metadata": {},
   "outputs": [],
   "source": [
    "twoDvals = [40, 100, 160, 40, 320]\n",
    "twoDprobs = [\n",
    "    model[0][4] * model[1][4] * model[2][i] + model[0][4] * model[2][4] * model[1][i] + model[2][4] * model[1][4] * model[0][i]\n",
    "    for i in range(1, 7) if i != 4\n",
    "]"
   ]
  },
  {
   "cell_type": "markdown",
   "metadata": {},
   "source": [
    "## Lose."
   ]
  },
  {
   "cell_type": "code",
   "execution_count": 11,
   "metadata": {},
   "outputs": [],
   "source": [
    "losev = [0]\n",
    "losep = [1 - sum(noDprobs + oneDprobs + twoDprobs)]"
   ]
  },
  {
   "cell_type": "code",
   "execution_count": 12,
   "metadata": {},
   "outputs": [],
   "source": [
    "reward = ss.rv_discrete(values=(noDvals + oneDvals + twoDvals + losev, noDprobs + oneDprobs + twoDprobs + losep))"
   ]
  },
  {
   "cell_type": "code",
   "execution_count": 13,
   "metadata": {},
   "outputs": [
    {
     "data": {
      "text/plain": [
       "0.6467756591143622"
      ]
     },
     "execution_count": 13,
     "metadata": {},
     "output_type": "execute_result"
    }
   ],
   "source": [
    "reward.mean()"
   ]
  },
  {
   "cell_type": "code",
   "execution_count": 14,
   "metadata": {},
   "outputs": [
    {
     "data": {
      "text/plain": [
       "(0.2391304347826087, 1.644927536231884)"
      ]
     },
     "execution_count": 14,
     "metadata": {},
     "output_type": "execute_result"
    }
   ],
   "source": [
    "stats = []\n",
    "for i in range(10000):\n",
    "    sample = reward.rvs(size=138, random_state=i)\n",
    "    stats.append(sample.mean())\n",
    "a = 0.95\n",
    "l, r = np.quantile(stats, (1 - a) / 2), np.quantile(stats, (1 + a) / 2)\n",
    "l, r"
   ]
  },
  {
   "cell_type": "code",
   "execution_count": 15,
   "metadata": {},
   "outputs": [
    {
     "data": {
      "text/plain": [
       "1.4057971014492754"
      ]
     },
     "execution_count": 15,
     "metadata": {},
     "output_type": "execute_result"
    }
   ],
   "source": [
    "r - l"
   ]
  },
  {
   "cell_type": "markdown",
   "metadata": {},
   "source": [
    "## Другой подход.\n"
   ]
  },
  {
   "cell_type": "code",
   "execution_count": 19,
   "metadata": {},
   "outputs": [],
   "source": [
    "def winning(a, b, c):\n",
    "    cs = [0, 0, 0, 0, 0, 0, 0]\n",
    "    cs[a] += 1\n",
    "    cs[b] += 1\n",
    "    cs[c] += 1\n",
    "    trips = [0, 10, 25, 40, 800, 10, 80]\n",
    "    for i, t in enumerate(cs):\n",
    "        if t == 3: return trips[i]\n",
    "    if sum(cs[1:4]) == 3: return 5\n",
    "    if cs[5] == 2 and cs[4] == 0: return 5\n",
    "    if cs[5] == 1 and cs[4] == 0: return 2\n",
    "    if cs[4] == 1:\n",
    "        for i, t in enumerate(cs):\n",
    "            if t == 2: return 2 * trips[i]\n",
    "        if cs[5] == 1: return 10\n",
    "        if sum(cs[1:4]) == 2: return 10\n",
    "    if cs[4] == 2:\n",
    "        for i, t in enumerate(cs):\n",
    "            if t == 1: return 4 * trips[i]\n",
    "    return 0"
   ]
  },
  {
   "cell_type": "code",
   "execution_count": 20,
   "metadata": {},
   "outputs": [],
   "source": [
    "vals, probs = [], []\n",
    "for a in range(7):\n",
    "    for b in range(7):\n",
    "        for c in range(7):\n",
    "            vals.append(winning(a, b, c))\n",
    "            probs.append(model[0][a] * model[1][b] * model[2][c])\n",
    "            \n",
    "new_reward = ss.rv_discrete(values=(vals, probs))"
   ]
  },
  {
   "cell_type": "code",
   "execution_count": 21,
   "metadata": {},
   "outputs": [
    {
     "data": {
      "text/plain": [
       "0.6467756591143623"
      ]
     },
     "execution_count": 21,
     "metadata": {},
     "output_type": "execute_result"
    }
   ],
   "source": [
    "new_reward.mean()"
   ]
  },
  {
   "cell_type": "code",
   "execution_count": 22,
   "metadata": {},
   "outputs": [
    {
     "data": {
      "text/plain": [
       "(0.2391304347826087, 1.644927536231884)"
      ]
     },
     "execution_count": 22,
     "metadata": {},
     "output_type": "execute_result"
    }
   ],
   "source": [
    "stats = []\n",
    "for i in range(10000):\n",
    "    sample = new_reward.rvs(size=138, random_state=i)\n",
    "    stats.append(sample.mean())\n",
    "a = 0.95\n",
    "l, r = np.quantile(stats, (1 - a) / 2), np.quantile(stats, (1 + a) / 2)\n",
    "l, r"
   ]
  }
 ],
 "metadata": {
  "kernelspec": {
   "display_name": "Python 3",
   "language": "python",
   "name": "python3"
  },
  "language_info": {
   "codemirror_mode": {
    "name": "ipython",
    "version": 3
   },
   "file_extension": ".py",
   "mimetype": "text/x-python",
   "name": "python",
   "nbconvert_exporter": "python",
   "pygments_lexer": "ipython3",
   "version": "3.8.8"
  }
 },
 "nbformat": 4,
 "nbformat_minor": 4
}
