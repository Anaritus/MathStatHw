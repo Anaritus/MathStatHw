{
 "cells": [
  {
   "cell_type": "markdown",
   "id": "83ff5d21",
   "metadata": {},
   "source": [
    "#  Практика.\n"
   ]
  },
  {
   "cell_type": "code",
   "execution_count": 1,
   "id": "d92c7fae",
   "metadata": {},
   "outputs": [],
   "source": [
    "import numpy as np\n",
    "import pandas as pd\n",
    "import scipy.stats as ss\n",
    "from typing import Callable\n",
    "import pandas as pd"
   ]
  },
  {
   "cell_type": "code",
   "execution_count": 2,
   "id": "9b405348",
   "metadata": {},
   "outputs": [
    {
     "data": {
      "text/html": [
       "<div>\n",
       "<style scoped>\n",
       "    .dataframe tbody tr th:only-of-type {\n",
       "        vertical-align: middle;\n",
       "    }\n",
       "\n",
       "    .dataframe tbody tr th {\n",
       "        vertical-align: top;\n",
       "    }\n",
       "\n",
       "    .dataframe thead th {\n",
       "        text-align: right;\n",
       "    }\n",
       "</style>\n",
       "<table border=\"1\" class=\"dataframe\">\n",
       "  <thead>\n",
       "    <tr style=\"text-align: right;\">\n",
       "      <th></th>\n",
       "      <th>first</th>\n",
       "      <th>second</th>\n",
       "      <th>third</th>\n",
       "      <th>winning</th>\n",
       "      <th>reporter?</th>\n",
       "    </tr>\n",
       "  </thead>\n",
       "  <tbody>\n",
       "    <tr>\n",
       "      <th>0</th>\n",
       "      <td>2</td>\n",
       "      <td>0</td>\n",
       "      <td>0</td>\n",
       "      <td>0</td>\n",
       "      <td>1</td>\n",
       "    </tr>\n",
       "    <tr>\n",
       "      <th>1</th>\n",
       "      <td>0</td>\n",
       "      <td>5</td>\n",
       "      <td>1</td>\n",
       "      <td>0</td>\n",
       "      <td>1</td>\n",
       "    </tr>\n",
       "    <tr>\n",
       "      <th>2</th>\n",
       "      <td>0</td>\n",
       "      <td>0</td>\n",
       "      <td>0</td>\n",
       "      <td>0</td>\n",
       "      <td>1</td>\n",
       "    </tr>\n",
       "    <tr>\n",
       "      <th>3</th>\n",
       "      <td>2</td>\n",
       "      <td>0</td>\n",
       "      <td>0</td>\n",
       "      <td>0</td>\n",
       "      <td>1</td>\n",
       "    </tr>\n",
       "    <tr>\n",
       "      <th>4</th>\n",
       "      <td>0</td>\n",
       "      <td>0</td>\n",
       "      <td>0</td>\n",
       "      <td>0</td>\n",
       "      <td>1</td>\n",
       "    </tr>\n",
       "  </tbody>\n",
       "</table>\n",
       "</div>"
      ],
      "text/plain": [
       "   first  second  third  winning  reporter?\n",
       "0      2       0      0        0          1\n",
       "1      0       5      1        0          1\n",
       "2      0       0      0        0          1\n",
       "3      2       0      0        0          1\n",
       "4      0       0      0        0          1"
      ]
     },
     "execution_count": 2,
     "metadata": {},
     "output_type": "execute_result"
    }
   ],
   "source": [
    "df = pd.read_csv('hw_6_data.txt', sep=' ', names=['first', 'second', 'third', 'winning', 'reporter?'])\n",
    "df.head()"
   ]
  },
  {
   "cell_type": "code",
   "execution_count": 3,
   "id": "b216d847",
   "metadata": {},
   "outputs": [],
   "source": [
    "df = df[df['reporter?'] == 1]"
   ]
  },
  {
   "cell_type": "code",
   "execution_count": 4,
   "id": "bd96d8c4",
   "metadata": {},
   "outputs": [
    {
     "data": {
      "text/plain": [
       "1.0"
      ]
     },
     "execution_count": 4,
     "metadata": {},
     "output_type": "execute_result"
    }
   ],
   "source": [
    "df['reporter?'].mean()"
   ]
  },
  {
   "cell_type": "code",
   "execution_count": 5,
   "id": "04338966",
   "metadata": {},
   "outputs": [
    {
     "data": {
      "text/html": [
       "<div>\n",
       "<style scoped>\n",
       "    .dataframe tbody tr th:only-of-type {\n",
       "        vertical-align: middle;\n",
       "    }\n",
       "\n",
       "    .dataframe tbody tr th {\n",
       "        vertical-align: top;\n",
       "    }\n",
       "\n",
       "    .dataframe thead th {\n",
       "        text-align: right;\n",
       "    }\n",
       "</style>\n",
       "<table border=\"1\" class=\"dataframe\">\n",
       "  <thead>\n",
       "    <tr style=\"text-align: right;\">\n",
       "      <th></th>\n",
       "      <th>first</th>\n",
       "      <th>second</th>\n",
       "      <th>third</th>\n",
       "      <th>winning</th>\n",
       "      <th>reporter?</th>\n",
       "    </tr>\n",
       "  </thead>\n",
       "  <tbody>\n",
       "    <tr>\n",
       "      <th>0</th>\n",
       "      <td>2</td>\n",
       "      <td>0</td>\n",
       "      <td>0</td>\n",
       "      <td>0</td>\n",
       "      <td>1</td>\n",
       "    </tr>\n",
       "    <tr>\n",
       "      <th>1</th>\n",
       "      <td>0</td>\n",
       "      <td>4</td>\n",
       "      <td>1</td>\n",
       "      <td>0</td>\n",
       "      <td>1</td>\n",
       "    </tr>\n",
       "    <tr>\n",
       "      <th>2</th>\n",
       "      <td>0</td>\n",
       "      <td>0</td>\n",
       "      <td>0</td>\n",
       "      <td>0</td>\n",
       "      <td>1</td>\n",
       "    </tr>\n",
       "    <tr>\n",
       "      <th>3</th>\n",
       "      <td>2</td>\n",
       "      <td>0</td>\n",
       "      <td>0</td>\n",
       "      <td>0</td>\n",
       "      <td>1</td>\n",
       "    </tr>\n",
       "    <tr>\n",
       "      <th>4</th>\n",
       "      <td>0</td>\n",
       "      <td>0</td>\n",
       "      <td>0</td>\n",
       "      <td>0</td>\n",
       "      <td>1</td>\n",
       "    </tr>\n",
       "  </tbody>\n",
       "</table>\n",
       "</div>"
      ],
      "text/plain": [
       "   first  second  third  winning  reporter?\n",
       "0      2       0      0        0          1\n",
       "1      0       4      1        0          1\n",
       "2      0       0      0        0          1\n",
       "3      2       0      0        0          1\n",
       "4      0       0      0        0          1"
      ]
     },
     "execution_count": 5,
     "metadata": {},
     "output_type": "execute_result"
    }
   ],
   "source": [
    "df = df - (df > 4)\n",
    "df.head()"
   ]
  },
  {
   "cell_type": "code",
   "execution_count": 37,
   "id": "b16f3fc9",
   "metadata": {},
   "outputs": [],
   "source": [
    "def correction(df, name):\n",
    "    ret = np.unique(df[name], return_counts = True)[1]\n",
    "    if name == 'second': \n",
    "        ret = np.append(ret, ret[5])\n",
    "        ret[5] = 0\n",
    "    return ret / 138"
   ]
  },
  {
   "cell_type": "code",
   "execution_count": 45,
   "id": "965df101",
   "metadata": {},
   "outputs": [
    {
     "data": {
      "text/plain": [
       "array([[0.42753623, 0.35507246, 0.10144928, 0.04347826, 0.02173913,\n",
       "        0.00724638, 0.04347826],\n",
       "       [0.61594203, 0.05797101, 0.17391304, 0.11594203, 0.00724638,\n",
       "        0.        , 0.02898551],\n",
       "       [0.55797101, 0.2826087 , 0.04347826, 0.00724638, 0.03623188,\n",
       "        0.02173913, 0.05072464]])"
      ]
     },
     "execution_count": 45,
     "metadata": {},
     "output_type": "execute_result"
    }
   ],
   "source": [
    "names = ['first', 'second', 'third']\n",
    "model = np.vstack([correction(df, name) for name in names])\n",
    "model"
   ]
  },
  {
   "cell_type": "code",
   "execution_count": 8,
   "id": "709dfe0a",
   "metadata": {},
   "outputs": [],
   "source": [
    "def likehood(theta: pd.DataFrame, model) -> float:\n",
    "    return -np.sum(np.log(theta) * model)"
   ]
  },
  {
   "cell_type": "code",
   "execution_count": 9,
   "id": "9efa03a6",
   "metadata": {},
   "outputs": [
    {
     "data": {
      "text/plain": [
       "array([[0.5     , 0.25    , 0.125   , 0.0625  , 0.015625, 0.015625,\n",
       "        0.03125 ],\n",
       "       [0.5     , 0.25    , 0.125   , 0.0625  , 0.015625, 0.015625,\n",
       "        0.03125 ],\n",
       "       [0.5     , 0.25    , 0.125   , 0.0625  , 0.015625, 0.015625,\n",
       "        0.03125 ]])"
      ]
     },
     "execution_count": 9,
     "metadata": {},
     "output_type": "execute_result"
    }
   ],
   "source": [
    "expected = np.array([1 / 2, 1 / 4, 1 / 8, 1 / 16, 1 /64, 1 / 64, 1 / 32])\n",
    "theta = np.array([expected,\n",
    "                 expected,\n",
    "                 expected])\n",
    "theta"
   ]
  },
  {
   "cell_type": "markdown",
   "id": "8b4d8659",
   "metadata": {},
   "source": [
    "##  Ограничения.\n",
    "\n",
    " * $\\theta \\geq 0$\n",
    " .$0 \\leq I_{21} \\dot \\theta \\leq \\text{np.inf}$\n",
    " * $\\sum_i p_i^j = 1$.\n",
    " 1 $\\leq (111100000000\\\\\n",
    "                               000011110000\\\\\n",
    "                               000000001111)\\theta \\leq 1 $\n",
    " * $\\mathbb E \\text{reward} $.\n",
    " $\\mathbb E = p^3 \\otimes (p^2 \\otimes (p^1 \\otimes M))$\n",
    " \n",
    " Надо еще найти $\\theta_0$, чутка уменьшить вероятность 0 и увеличить вероянтость алмазика, пока $\\mathbb E \\ne 0.92$"
   ]
  },
  {
   "cell_type": "code",
   "execution_count": 10,
   "id": "2a2c0984",
   "metadata": {},
   "outputs": [],
   "source": [
    "def winning(a, b, c):\n",
    "    cs = [0, 0, 0, 0, 0, 0, 0]\n",
    "    cs[a] += 1\n",
    "    cs[b] += 1\n",
    "    cs[c] += 1\n",
    "    trips = [0, 10, 25, 40, 800, 10, 80]\n",
    "    for i, t in enumerate(cs):\n",
    "        if t == 3: return trips[i]\n",
    "    if sum(cs[1:4]) == 3: return 5\n",
    "    if cs[5] == 2 and cs[4] == 0: return 5\n",
    "    if cs[5] == 1 and cs[4] == 0: return 2\n",
    "    if cs[4] == 1:\n",
    "        for i, t in enumerate(cs):\n",
    "            if t == 2: return 2 * trips[i]\n",
    "        if cs[5] == 1: return 10\n",
    "        if sum(cs[1:4]) == 2: return 10\n",
    "    if cs[4] == 2:\n",
    "        for i, t in enumerate(cs):\n",
    "            if t == 1: return 4 * trips[i]\n",
    "    return 0"
   ]
  },
  {
   "cell_type": "code",
   "execution_count": 11,
   "id": "2d15b570",
   "metadata": {},
   "outputs": [],
   "source": [
    "from scipy.optimize import bisect"
   ]
  },
  {
   "cell_type": "code",
   "execution_count": 39,
   "id": "f7cf6cb2",
   "metadata": {},
   "outputs": [],
   "source": [
    "def cheat(cx, model):\n",
    "    model[1][0] -= cx\n",
    "    model[1][4] += cx\n",
    "    e = 0\n",
    "    for a in range(7):\n",
    "        for b in range(7):\n",
    "            for c in range(7):\n",
    "                e += winning(a, b, c) * model[0][a] * model[1][b] * model[2][c]\n",
    "    return e - 0.92\n",
    "\n",
    "c = bisect(cheat, 0, 1, args = model)"
   ]
  },
  {
   "cell_type": "code",
   "execution_count": 46,
   "id": "8adb2ea9",
   "metadata": {},
   "outputs": [
    {
     "name": "stdout",
     "output_type": "stream",
     "text": [
      "[1. 1. 1.]\n",
      "[[0.42753623 0.35507246 0.10144928 0.04347826 0.02173913 0.00724638\n",
      "  0.04347826]\n",
      " [0.61594203 0.05797101 0.17391304 0.11594203 0.00724638 0.\n",
      "  0.02898551]\n",
      " [0.55797101 0.2826087  0.04347826 0.00724638 0.03623188 0.02173913\n",
      "  0.05072464]]\n"
     ]
    }
   ],
   "source": [
    "model[1][0] -= c\n",
    "model[1][4] += c\n",
    "print(np.sum(model, axis=1))\n",
    "print(model)"
   ]
  },
  {
   "cell_type": "code",
   "execution_count": 21,
   "id": "aa4e3ee0",
   "metadata": {},
   "outputs": [],
   "source": [
    "from scipy.optimize import minimize"
   ]
  },
  {
   "cell_type": "code",
   "execution_count": 41,
   "id": "210bc556",
   "metadata": {},
   "outputs": [],
   "source": [
    "def jacob(x, model):\n",
    "    return -model / x"
   ]
  },
  {
   "cell_type": "code",
   "execution_count": 56,
   "id": "98b8c1a1",
   "metadata": {},
   "outputs": [],
   "source": [
    "def hessi(x, model):\n",
    "    return np.diag(model / x ** 2)\n",
    "    "
   ]
  },
  {
   "cell_type": "code",
   "execution_count": 47,
   "id": "1eaf5032",
   "metadata": {},
   "outputs": [
    {
     "data": {
      "text/plain": [
       "array([0.42753623, 0.35507246, 0.10144928, 0.04347826, 0.02173913,\n",
       "       0.00724638, 0.04347826, 0.61594203, 0.05797101, 0.17391304,\n",
       "       0.11594203, 0.00724638, 0.        , 0.02898551, 0.55797101,\n",
       "       0.2826087 , 0.04347826, 0.00724638, 0.03623188, 0.02173913,\n",
       "       0.05072464])"
      ]
     },
     "execution_count": 47,
     "metadata": {},
     "output_type": "execute_result"
    }
   ],
   "source": [
    "model = np.hstack(model)\n",
    "model"
   ]
  },
  {
   "cell_type": "code",
   "execution_count": 22,
   "id": "6089357d",
   "metadata": {},
   "outputs": [],
   "source": [
    "from scipy.optimize import LinearConstraint, NonlinearConstraint"
   ]
  },
  {
   "cell_type": "code",
   "execution_count": 55,
   "id": "0d139348",
   "metadata": {
    "scrolled": true
   },
   "outputs": [
    {
     "name": "stderr",
     "output_type": "stream",
     "text": [
      "D:\\coding\\Conda\\lib\\site-packages\\scipy\\optimize\\_minimize.py:524: RuntimeWarning: Method BFGS does not use Hessian information (hess).\n",
      "  warn('Method %s does not use Hessian information (hess).' % method,\n",
      "<ipython-input-8-1a5411671a2e>:2: RuntimeWarning: divide by zero encountered in log\n",
      "  return -np.sum(np.log(theta) * model)\n",
      "<ipython-input-8-1a5411671a2e>:2: RuntimeWarning: invalid value encountered in multiply\n",
      "  return -np.sum(np.log(theta) * model)\n",
      "<ipython-input-41-a171c7398d1f>:2: RuntimeWarning: invalid value encountered in true_divide\n",
      "  return -model / x\n"
     ]
    }
   ],
   "source": [
    "ret = minimize(likehood, model, args=model,\n",
    "              jac = jacob,\n",
    "              hess = hessi,\n",
    "              constraints = [\n",
    "                  {\n",
    "                      'type': 'ineq', 'fun': LinearConstraint()\n",
    "                  }\n",
    "              ]\n",
    "              )"
   ]
  },
  {
   "cell_type": "markdown",
   "id": "1f8dadf9",
   "metadata": {
    "slideshow": {
     "slide_type": "slide"
    }
   },
   "source": [
    "# Домашка."
   ]
  },
  {
   "cell_type": "markdown",
   "id": "390d5445",
   "metadata": {
    "slideshow": {
     "slide_type": "slide"
    }
   },
   "source": [
    "## 1."
   ]
  },
  {
   "cell_type": "code",
   "execution_count": 2,
   "id": "48cb64f7",
   "metadata": {},
   "outputs": [],
   "source": [
    "brain = [1380, 1344, 1356, 1291, 1308, 1271, 1371, 1430,\n",
    "         1381, 1457, 1492, 1240, 1256, 1466, 1214, 1448,\n",
    "         1510, 1395, 1507, 1264, 1293, 1251, 1380, 1386,\n",
    "         1411, 1434, 1302, 1529, 1352, 1494, 1348, 1464,\n",
    "         1286, 1345, 1491, 1259, 1541, 1214, 1310, 1286]"
   ]
  },
  {
   "cell_type": "code",
   "execution_count": 4,
   "id": "167ce385",
   "metadata": {},
   "outputs": [
    {
     "data": {
      "text/plain": [
       "0.018568470027286878"
      ]
     },
     "execution_count": 4,
     "metadata": {},
     "output_type": "execute_result"
    }
   ],
   "source": [
    "ss.norm.cdf(np.mean(brain), loc = 1400, scale = np.std(brain, ddof=1) / np.sqrt(len(brain)))"
   ]
  },
  {
   "cell_type": "code",
   "execution_count": 5,
   "id": "cb689ae2",
   "metadata": {},
   "outputs": [
    {
     "data": {
      "text/plain": [
       "1368.925"
      ]
     },
     "execution_count": 5,
     "metadata": {},
     "output_type": "execute_result"
    }
   ],
   "source": [
    "np.mean(brain)"
   ]
  },
  {
   "cell_type": "code",
   "execution_count": 111,
   "id": "aeb79e2a",
   "metadata": {
    "slideshow": {
     "slide_type": "fragment"
    }
   },
   "outputs": [
    {
     "data": {
      "text/plain": [
       "Ttest_1sampResult(statistic=-2.0842554201754617, pvalue=0.02186741366047351)"
      ]
     },
     "execution_count": 111,
     "metadata": {},
     "output_type": "execute_result"
    }
   ],
   "source": [
    "ss.ttest_1samp(brain, 1400, alternative='less')"
   ]
  },
  {
   "cell_type": "code",
   "execution_count": 112,
   "id": "73d358f5",
   "metadata": {
    "slideshow": {
     "slide_type": "fragment"
    }
   },
   "outputs": [
    {
     "data": {
      "text/plain": [
       "0.02186741366047351"
      ]
     },
     "execution_count": 112,
     "metadata": {},
     "output_type": "execute_result"
    }
   ],
   "source": [
    "t = np.sqrt(len(brain)) * (np.mean(brain) - 1400) / np.std(brain, ddof=1)\n",
    "\n",
    "ss.t.cdf(t, df=len(brain) - 1)"
   ]
  },
  {
   "cell_type": "markdown",
   "id": "2da591f7",
   "metadata": {
    "slideshow": {
     "slide_type": "slide"
    }
   },
   "source": [
    "## 2."
   ]
  },
  {
   "cell_type": "code",
   "execution_count": 113,
   "id": "7485369f",
   "metadata": {
    "slideshow": {
     "slide_type": "fragment"
    }
   },
   "outputs": [],
   "source": [
    "def likehood(P):\n",
    "    return -sum(np.log(P))"
   ]
  },
  {
   "cell_type": "code",
   "execution_count": 128,
   "id": "b4725c4b",
   "metadata": {
    "slideshow": {
     "slide_type": "fragment"
    }
   },
   "outputs": [],
   "source": [
    "def jac(P):\n",
    "    return -1/P"
   ]
  },
  {
   "cell_type": "code",
   "execution_count": 129,
   "id": "323e5f90",
   "metadata": {
    "slideshow": {
     "slide_type": "fragment"
    }
   },
   "outputs": [],
   "source": [
    "def hes(P):\n",
    "    return np.diag(1 / P ** 2)"
   ]
  },
  {
   "cell_type": "code",
   "execution_count": 130,
   "id": "cea490ed",
   "metadata": {
    "slideshow": {
     "slide_type": "fragment"
    }
   },
   "outputs": [
    {
     "name": "stderr",
     "output_type": "stream",
     "text": [
      "<ipython-input-113-d1f01677a211>:2: RuntimeWarning: invalid value encountered in log\n",
      "  return -sum(np.log(P))\n",
      "<ipython-input-113-d1f01677a211>:2: RuntimeWarning: divide by zero encountered in log\n",
      "  return -sum(np.log(P))\n"
     ]
    },
    {
     "data": {
      "text/plain": [
       "     fun: 149.7299681309567\n",
       "     jac: array([-42.86771148, -47.96745501, -46.05907655, -55.24368741,\n",
       "       -52.67583609, -57.86044033, -43.98209154, -35.93104719,\n",
       "       -42.64519546, -32.06679176, -27.1765754 , -62.39202436,\n",
       "       -59.98797919, -30.85140766, -65.80178793, -33.36781001,\n",
       "       -24.75110808, -40.71472719, -25.15998298, -59.00560874,\n",
       "       -54.15112082, -60.86818956, -42.75949793, -42.02330352,\n",
       "       -38.5809788 , -35.29968357, -53.71524224, -22.00067175,\n",
       "       -46.63981826, -26.90178503, -47.23276674, -31.12588615,\n",
       "       -55.90116795, -47.56450024, -27.34027326, -59.58581574,\n",
       "       -20.36955831, -65.78368996, -52.51742571, -55.87628715])\n",
       " message: 'Optimization terminated successfully'\n",
       "    nfev: 156\n",
       "     nit: 45\n",
       "    njev: 45\n",
       "  status: 0\n",
       " success: True\n",
       "       x: array([0.02332479, 0.02085181, 0.02171115, 0.01810101, 0.01898435,\n",
       "       0.01728502, 0.02273968, 0.02782575, 0.02344591, 0.03118654,\n",
       "       0.03679643, 0.01602815, 0.01667142, 0.03241758, 0.01519499,\n",
       "       0.02995844, 0.04039125, 0.02456001, 0.03975778, 0.016947  ,\n",
       "       0.01846558, 0.01643185, 0.02339172, 0.02380411, 0.02592539,\n",
       "       0.02832706, 0.01861106, 0.04545314, 0.02143694, 0.0371723 ,\n",
       "       0.02117375, 0.03212652, 0.01788729, 0.02102836, 0.03656396,\n",
       "       0.01678256, 0.04910099, 0.01519619, 0.01903845, 0.0179037 ])"
      ]
     },
     "execution_count": 130,
     "metadata": {},
     "output_type": "execute_result"
    }
   ],
   "source": [
    "ret = minimize(likehood, np.ones(n) / n, jac=jac, hess=hes,\n",
    "              constraints = [\n",
    "                  LinearConstraint(np.ones(n), 1, 1),\n",
    "                  LinearConstraint(np.array(brain), 1400, 1400),\n",
    "                  LinearConstraint(np.diag(np.ones(n)), 0, np.inf)\n",
    "              ])\n",
    "\n",
    "ret"
   ]
  },
  {
   "cell_type": "code",
   "execution_count": 131,
   "id": "9699fbdb",
   "metadata": {
    "slideshow": {
     "slide_type": "slide"
    }
   },
   "outputs": [],
   "source": [
    "boot = ss.rv_discrete(values=(brain, ret.x))"
   ]
  },
  {
   "cell_type": "code",
   "execution_count": 135,
   "id": "847eb389",
   "metadata": {
    "slideshow": {
     "slide_type": "fragment"
    }
   },
   "outputs": [],
   "source": [
    "BIG = 1000000\n",
    "\n",
    "sample = boot.rvs(size=(BIG, n), random_state=38)"
   ]
  },
  {
   "cell_type": "code",
   "execution_count": 136,
   "id": "4f263ae2",
   "metadata": {
    "slideshow": {
     "slide_type": "fragment"
    }
   },
   "outputs": [
    {
     "data": {
      "text/plain": [
       "1000000"
      ]
     },
     "execution_count": 136,
     "metadata": {},
     "output_type": "execute_result"
    }
   ],
   "source": [
    "sample = sample.mean(axis=1)\n",
    "sample.size"
   ]
  },
  {
   "cell_type": "code",
   "execution_count": 137,
   "id": "628da010",
   "metadata": {
    "slideshow": {
     "slide_type": "fragment"
    }
   },
   "outputs": [
    {
     "data": {
      "text/plain": [
       "0.019618"
      ]
     },
     "execution_count": 137,
     "metadata": {},
     "output_type": "execute_result"
    }
   ],
   "source": [
    "np.sum(sample < np.mean(brain)) / BIG"
   ]
  }
 ],
 "metadata": {
  "celltoolbar": "Необработанный формат ячейки",
  "kernelspec": {
   "display_name": "Python 3",
   "language": "python",
   "name": "python3"
  },
  "language_info": {
   "codemirror_mode": {
    "name": "ipython",
    "version": 3
   },
   "file_extension": ".py",
   "mimetype": "text/x-python",
   "name": "python",
   "nbconvert_exporter": "python",
   "pygments_lexer": "ipython3",
   "version": "3.8.8"
  }
 },
 "nbformat": 4,
 "nbformat_minor": 5
}
