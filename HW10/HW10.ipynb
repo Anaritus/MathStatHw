{
 "cells": [
  {
   "cell_type": "markdown",
   "metadata": {},
   "source": [
    "#  Практика.\n"
   ]
  },
  {
   "cell_type": "code",
   "execution_count": 1,
   "metadata": {},
   "outputs": [],
   "source": [
    "import numpy as np\n",
    "import pandas as pd\n",
    "import scipy.stats as ss\n",
    "from typing import Callable\n",
    "import pandas as pd"
   ]
  },
  {
   "cell_type": "code",
   "execution_count": 2,
   "metadata": {},
   "outputs": [],
   "source": [
    "from scipy.optimize import minimize, LinearConstraint, NonlinearConstraint"
   ]
  },
  {
   "cell_type": "code",
   "execution_count": 3,
   "metadata": {},
   "outputs": [
    {
     "data": {
      "text/html": [
       "<div>\n",
       "<style scoped>\n",
       "    .dataframe tbody tr th:only-of-type {\n",
       "        vertical-align: middle;\n",
       "    }\n",
       "\n",
       "    .dataframe tbody tr th {\n",
       "        vertical-align: top;\n",
       "    }\n",
       "\n",
       "    .dataframe thead th {\n",
       "        text-align: right;\n",
       "    }\n",
       "</style>\n",
       "<table border=\"1\" class=\"dataframe\">\n",
       "  <thead>\n",
       "    <tr style=\"text-align: right;\">\n",
       "      <th></th>\n",
       "      <th>1</th>\n",
       "      <th>2</th>\n",
       "      <th>3</th>\n",
       "      <th>winning</th>\n",
       "      <th>reporter?</th>\n",
       "    </tr>\n",
       "  </thead>\n",
       "  <tbody>\n",
       "    <tr>\n",
       "      <th>0</th>\n",
       "      <td>2</td>\n",
       "      <td>0</td>\n",
       "      <td>0</td>\n",
       "      <td>0</td>\n",
       "      <td>1</td>\n",
       "    </tr>\n",
       "    <tr>\n",
       "      <th>1</th>\n",
       "      <td>0</td>\n",
       "      <td>5</td>\n",
       "      <td>1</td>\n",
       "      <td>0</td>\n",
       "      <td>1</td>\n",
       "    </tr>\n",
       "    <tr>\n",
       "      <th>2</th>\n",
       "      <td>0</td>\n",
       "      <td>0</td>\n",
       "      <td>0</td>\n",
       "      <td>0</td>\n",
       "      <td>1</td>\n",
       "    </tr>\n",
       "    <tr>\n",
       "      <th>3</th>\n",
       "      <td>2</td>\n",
       "      <td>0</td>\n",
       "      <td>0</td>\n",
       "      <td>0</td>\n",
       "      <td>1</td>\n",
       "    </tr>\n",
       "    <tr>\n",
       "      <th>4</th>\n",
       "      <td>0</td>\n",
       "      <td>0</td>\n",
       "      <td>0</td>\n",
       "      <td>0</td>\n",
       "      <td>1</td>\n",
       "    </tr>\n",
       "  </tbody>\n",
       "</table>\n",
       "</div>"
      ],
      "text/plain": [
       "   1  2  3  winning  reporter?\n",
       "0  2  0  0        0          1\n",
       "1  0  5  1        0          1\n",
       "2  0  0  0        0          1\n",
       "3  2  0  0        0          1\n",
       "4  0  0  0        0          1"
      ]
     },
     "execution_count": 3,
     "metadata": {},
     "output_type": "execute_result"
    }
   ],
   "source": [
    "df = pd.read_csv('hw_6_data.txt', sep=' ', names=['1', '2', '3', 'winning', 'reporter?'])\n",
    "df.head()"
   ]
  },
  {
   "cell_type": "code",
   "execution_count": 4,
   "metadata": {},
   "outputs": [],
   "source": [
    "df = df[df['reporter?'] == 1]"
   ]
  },
  {
   "cell_type": "code",
   "execution_count": 5,
   "metadata": {},
   "outputs": [
    {
     "data": {
      "text/plain": [
       "1.0"
      ]
     },
     "execution_count": 5,
     "metadata": {},
     "output_type": "execute_result"
    }
   ],
   "source": [
    "df['reporter?'].mean()"
   ]
  },
  {
   "cell_type": "code",
   "execution_count": 6,
   "metadata": {},
   "outputs": [
    {
     "data": {
      "text/html": [
       "<div>\n",
       "<style scoped>\n",
       "    .dataframe tbody tr th:only-of-type {\n",
       "        vertical-align: middle;\n",
       "    }\n",
       "\n",
       "    .dataframe tbody tr th {\n",
       "        vertical-align: top;\n",
       "    }\n",
       "\n",
       "    .dataframe thead th {\n",
       "        text-align: right;\n",
       "    }\n",
       "</style>\n",
       "<table border=\"1\" class=\"dataframe\">\n",
       "  <thead>\n",
       "    <tr style=\"text-align: right;\">\n",
       "      <th></th>\n",
       "      <th>1</th>\n",
       "      <th>2</th>\n",
       "      <th>3</th>\n",
       "      <th>winning</th>\n",
       "      <th>reporter?</th>\n",
       "    </tr>\n",
       "  </thead>\n",
       "  <tbody>\n",
       "    <tr>\n",
       "      <th>0</th>\n",
       "      <td>2</td>\n",
       "      <td>0</td>\n",
       "      <td>0</td>\n",
       "      <td>0</td>\n",
       "      <td>1</td>\n",
       "    </tr>\n",
       "    <tr>\n",
       "      <th>1</th>\n",
       "      <td>0</td>\n",
       "      <td>4</td>\n",
       "      <td>1</td>\n",
       "      <td>0</td>\n",
       "      <td>1</td>\n",
       "    </tr>\n",
       "    <tr>\n",
       "      <th>2</th>\n",
       "      <td>0</td>\n",
       "      <td>0</td>\n",
       "      <td>0</td>\n",
       "      <td>0</td>\n",
       "      <td>1</td>\n",
       "    </tr>\n",
       "    <tr>\n",
       "      <th>3</th>\n",
       "      <td>2</td>\n",
       "      <td>0</td>\n",
       "      <td>0</td>\n",
       "      <td>0</td>\n",
       "      <td>1</td>\n",
       "    </tr>\n",
       "    <tr>\n",
       "      <th>4</th>\n",
       "      <td>0</td>\n",
       "      <td>0</td>\n",
       "      <td>0</td>\n",
       "      <td>0</td>\n",
       "      <td>1</td>\n",
       "    </tr>\n",
       "  </tbody>\n",
       "</table>\n",
       "</div>"
      ],
      "text/plain": [
       "   1  2  3  winning  reporter?\n",
       "0  2  0  0        0          1\n",
       "1  0  4  1        0          1\n",
       "2  0  0  0        0          1\n",
       "3  2  0  0        0          1\n",
       "4  0  0  0        0          1"
      ]
     },
     "execution_count": 6,
     "metadata": {},
     "output_type": "execute_result"
    }
   ],
   "source": [
    "df = df - (df > 4)\n",
    "df.head()"
   ]
  },
  {
   "cell_type": "code",
   "execution_count": 7,
   "metadata": {},
   "outputs": [],
   "source": [
    "def correction(df, name):\n",
    "    ret = np.unique(df[name], return_counts = True)[1]\n",
    "    if name == '2': \n",
    "        ret = np.append(ret, ret[5])\n",
    "        ret[5] = 0\n",
    "    return ret / 138"
   ]
  },
  {
   "cell_type": "code",
   "execution_count": 8,
   "metadata": {},
   "outputs": [
    {
     "data": {
      "text/plain": [
       "array([[0.42753623, 0.35507246, 0.10144928, 0.04347826, 0.02173913,\n",
       "        0.00724638, 0.04347826],\n",
       "       [0.61594203, 0.05797101, 0.17391304, 0.11594203, 0.00724638,\n",
       "        0.        , 0.02898551],\n",
       "       [0.55797101, 0.2826087 , 0.04347826, 0.00724638, 0.03623188,\n",
       "        0.02173913, 0.05072464]])"
      ]
     },
     "execution_count": 8,
     "metadata": {},
     "output_type": "execute_result"
    }
   ],
   "source": [
    "names = ['1', '2', '3']\n",
    "model = np.vstack([correction(df, name) for name in names])\n",
    "model"
   ]
  },
  {
   "cell_type": "code",
   "execution_count": 9,
   "metadata": {},
   "outputs": [],
   "source": [
    "def likehood(theta: pd.DataFrame, model) -> float:\n",
    "    return -np.sum(np.log(theta) * model)"
   ]
  },
  {
   "cell_type": "code",
   "execution_count": 10,
   "metadata": {},
   "outputs": [
    {
     "data": {
      "text/plain": [
       "array([[0.5     , 0.25    , 0.125   , 0.0625  , 0.015625, 0.015625,\n",
       "        0.03125 ],\n",
       "       [0.5     , 0.25    , 0.125   , 0.0625  , 0.015625, 0.015625,\n",
       "        0.03125 ],\n",
       "       [0.5     , 0.25    , 0.125   , 0.0625  , 0.015625, 0.015625,\n",
       "        0.03125 ]])"
      ]
     },
     "execution_count": 10,
     "metadata": {},
     "output_type": "execute_result"
    }
   ],
   "source": [
    "expected = np.array([1 / 2, 1 / 4, 1 / 8, 1 / 16, 1 /64, 1 / 64, 1 / 32])\n",
    "theta = np.array([expected,\n",
    "                 expected,\n",
    "                 expected])\n",
    "theta"
   ]
  },
  {
   "cell_type": "markdown",
   "metadata": {},
   "source": [
    "##  Ограничения.\n",
    "\n",
    " * $\\theta \\geq 0$\n",
    " .$0 \\leq I_{21} \\dot \\theta \\leq \\text{np.inf}$\n",
    " * $\\sum_i p_i^j = 1$.\n",
    " 1 $\\leq (111100000000\\\\\n",
    "                               000011110000\\\\\n",
    "                               000000001111)\\theta \\leq 1 $\n",
    " * $\\mathbb E \\text{reward} $.\n",
    " $\\mathbb E = p^3 \\otimes (p^2 \\otimes (p^1 \\otimes M))$\n",
    " \n",
    " Надо еще найти $\\theta_0$, чутка уменьшить вероятность 0 и увеличить вероянтость алмазика, пока $\\mathbb E \\ne 0.92$"
   ]
  },
  {
   "cell_type": "markdown",
   "metadata": {
    "slideshow": {
     "slide_type": "slide"
    }
   },
   "source": [
    "# Домашка."
   ]
  },
  {
   "cell_type": "markdown",
   "metadata": {
    "slideshow": {
     "slide_type": "slide"
    }
   },
   "source": [
    "## 1."
   ]
  },
  {
   "cell_type": "code",
   "execution_count": 11,
   "metadata": {},
   "outputs": [],
   "source": [
    "brain = [1380, 1344, 1356, 1291, 1308, 1271, 1371, 1430,\n",
    "         1381, 1457, 1492, 1240, 1256, 1466, 1214, 1448,\n",
    "         1510, 1395, 1507, 1264, 1293, 1251, 1380, 1386,\n",
    "         1411, 1434, 1302, 1529, 1352, 1494, 1348, 1464,\n",
    "         1286, 1345, 1491, 1259, 1541, 1214, 1310, 1286]"
   ]
  },
  {
   "cell_type": "code",
   "execution_count": 12,
   "metadata": {},
   "outputs": [
    {
     "data": {
      "text/plain": [
       "0.018568470027286878"
      ]
     },
     "execution_count": 12,
     "metadata": {},
     "output_type": "execute_result"
    }
   ],
   "source": [
    "ss.norm.cdf(np.mean(brain), loc = 1400, scale = np.std(brain, ddof=1) / np.sqrt(len(brain)))"
   ]
  },
  {
   "cell_type": "code",
   "execution_count": 13,
   "metadata": {},
   "outputs": [
    {
     "data": {
      "text/plain": [
       "1368.925"
      ]
     },
     "execution_count": 13,
     "metadata": {},
     "output_type": "execute_result"
    }
   ],
   "source": [
    "np.mean(brain)"
   ]
  },
  {
   "cell_type": "code",
   "execution_count": 14,
   "metadata": {
    "scrolled": true,
    "slideshow": {
     "slide_type": "fragment"
    }
   },
   "outputs": [
    {
     "data": {
      "text/plain": [
       "Ttest_1sampResult(statistic=-2.0842554201754617, pvalue=0.02186741366047351)"
      ]
     },
     "execution_count": 14,
     "metadata": {},
     "output_type": "execute_result"
    }
   ],
   "source": [
    "ss.ttest_1samp(brain, 1400, alternative='less')"
   ]
  },
  {
   "cell_type": "code",
   "execution_count": 15,
   "metadata": {
    "slideshow": {
     "slide_type": "fragment"
    }
   },
   "outputs": [
    {
     "data": {
      "text/plain": [
       "0.02186741366047351"
      ]
     },
     "execution_count": 15,
     "metadata": {},
     "output_type": "execute_result"
    }
   ],
   "source": [
    "t = np.sqrt(len(brain)) * (np.mean(brain) - 1400) / np.std(brain, ddof=1)\n",
    "\n",
    "ss.t.cdf(t, df=len(brain) - 1)"
   ]
  },
  {
   "cell_type": "markdown",
   "metadata": {
    "slideshow": {
     "slide_type": "slide"
    }
   },
   "source": [
    "## 2."
   ]
  },
  {
   "cell_type": "code",
   "execution_count": 16,
   "metadata": {},
   "outputs": [],
   "source": [
    "n = len(brain)"
   ]
  },
  {
   "cell_type": "code",
   "execution_count": 17,
   "metadata": {
    "slideshow": {
     "slide_type": "fragment"
    }
   },
   "outputs": [],
   "source": [
    "def likehood(P):\n",
    "    return -sum(np.log(P))"
   ]
  },
  {
   "cell_type": "code",
   "execution_count": 18,
   "metadata": {
    "slideshow": {
     "slide_type": "fragment"
    }
   },
   "outputs": [],
   "source": [
    "def jac(P):\n",
    "    return -1/P"
   ]
  },
  {
   "cell_type": "code",
   "execution_count": 19,
   "metadata": {
    "slideshow": {
     "slide_type": "fragment"
    }
   },
   "outputs": [],
   "source": [
    "def hes(P):\n",
    "    return np.diag(1 / P ** 2)"
   ]
  },
  {
   "cell_type": "code",
   "execution_count": 20,
   "metadata": {
    "scrolled": true,
    "slideshow": {
     "slide_type": "fragment"
    }
   },
   "outputs": [
    {
     "name": "stderr",
     "output_type": "stream",
     "text": [
      "D:\\soft\\Anaconda\\lib\\site-packages\\scipy\\optimize\\_minimize.py:527: RuntimeWarning: Method SLSQP does not use Hessian information (hess).\n",
      "  warn('Method %s does not use Hessian information (hess).' % method,\n",
      "<ipython-input-17-d1f01677a211>:2: RuntimeWarning: invalid value encountered in log\n",
      "  return -sum(np.log(P))\n",
      "<ipython-input-17-d1f01677a211>:2: RuntimeWarning: divide by zero encountered in log\n",
      "  return -sum(np.log(P))\n"
     ]
    },
    {
     "data": {
      "text/plain": [
       "     fun: 149.72983157007184\n",
       "     jac: array([-42.77885952, -47.78752926, -46.1068651 , -55.15397095,\n",
       "       -52.78636197, -57.93754352, -44.02829672, -35.8307194 ,\n",
       "       -42.63959906, -32.07801178, -27.21085994, -62.24299761,\n",
       "       -60.02146921, -30.82643658, -65.85397072, -33.32871043,\n",
       "       -24.70818682, -40.69224578, -25.1256556 , -58.91180514,\n",
       "       -54.88286823, -60.71658806, -42.7796677 , -41.94182102,\n",
       "       -38.47161986, -35.27570894, -53.62124134, -22.0650749 ,\n",
       "       -46.6776167 , -26.93183582, -47.22871622, -31.10133366,\n",
       "       -55.84861417, -47.6495881 , -27.35034634, -59.60713413,\n",
       "       -20.39516199, -65.85548493, -52.50789803, -55.84762883])\n",
       " message: 'Optimization terminated successfully'\n",
       "    nfev: 158\n",
       "     nit: 48\n",
       "    njev: 48\n",
       "  status: 0\n",
       " success: True\n",
       "       x: array([0.02337603, 0.02092596, 0.02168874, 0.01813106, 0.01894429,\n",
       "       0.01725997, 0.02271267, 0.02790901, 0.02345238, 0.031174  ,\n",
       "       0.03675003, 0.01606606, 0.01666071, 0.03243969, 0.01518511,\n",
       "       0.03000416, 0.04047242, 0.02457471, 0.03979996, 0.01697453,\n",
       "       0.01822062, 0.01646996, 0.02337559, 0.02384255, 0.02599319,\n",
       "       0.02834812, 0.01864933, 0.04532049, 0.02142354, 0.03713078,\n",
       "       0.02117356, 0.03215296, 0.01790555, 0.02098654, 0.03656261,\n",
       "       0.01677652, 0.04903124, 0.01518476, 0.01904475, 0.01790586])"
      ]
     },
     "execution_count": 20,
     "metadata": {},
     "output_type": "execute_result"
    }
   ],
   "source": [
    "ret = minimize(likehood, np.ones(n) / n, jac=jac, hess=hes,\n",
    "              constraints = [\n",
    "                  LinearConstraint(np.ones(n), 1, 1),\n",
    "                  LinearConstraint(np.array(brain), 1400, 1400),\n",
    "                  LinearConstraint(np.diag(np.ones(n)), 0, np.inf)\n",
    "              ])\n",
    "\n",
    "ret"
   ]
  },
  {
   "cell_type": "code",
   "execution_count": 21,
   "metadata": {
    "slideshow": {
     "slide_type": "slide"
    }
   },
   "outputs": [],
   "source": [
    "boot = ss.rv_discrete(values=(brain, ret.x))"
   ]
  },
  {
   "cell_type": "code",
   "execution_count": 22,
   "metadata": {
    "slideshow": {
     "slide_type": "fragment"
    }
   },
   "outputs": [],
   "source": [
    "BIG = 1000000\n",
    "\n",
    "sample = boot.rvs(size=(BIG, n), random_state=38)"
   ]
  },
  {
   "cell_type": "code",
   "execution_count": 23,
   "metadata": {
    "slideshow": {
     "slide_type": "fragment"
    }
   },
   "outputs": [
    {
     "data": {
      "text/plain": [
       "1000000"
      ]
     },
     "execution_count": 23,
     "metadata": {},
     "output_type": "execute_result"
    }
   ],
   "source": [
    "sample = sample.mean(axis=1)\n",
    "sample.size"
   ]
  },
  {
   "cell_type": "code",
   "execution_count": 24,
   "metadata": {
    "slideshow": {
     "slide_type": "fragment"
    }
   },
   "outputs": [
    {
     "data": {
      "text/plain": [
       "0.01961"
      ]
     },
     "execution_count": 24,
     "metadata": {},
     "output_type": "execute_result"
    }
   ],
   "source": [
    "np.sum(sample < np.mean(brain)) / BIG"
   ]
  },
  {
   "cell_type": "markdown",
   "metadata": {},
   "source": [
    "## 3.\n"
   ]
  },
  {
   "cell_type": "code",
   "execution_count": 25,
   "metadata": {},
   "outputs": [],
   "source": [
    "n, m = 13, 37\n",
    "\n",
    "BIG = 10000\n",
    "X = ss.norm.rvs(size=(BIG, n))\n",
    "Y = ss.norm.rvs(size=(BIG, m))"
   ]
  },
  {
   "cell_type": "code",
   "execution_count": 26,
   "metadata": {},
   "outputs": [],
   "source": [
    "results = []\n",
    "\n",
    "for _ in range(BIG):\n",
    "    res = 0\n",
    "    for x in X[_]:\n",
    "        for y in Y[_]:\n",
    "            res += x < y\n",
    "    results.append(res)\n",
    "    \n"
   ]
  },
  {
   "cell_type": "code",
   "execution_count": 27,
   "metadata": {},
   "outputs": [
    {
     "data": {
      "text/plain": [
       "316.0"
      ]
     },
     "execution_count": 27,
     "metadata": {},
     "output_type": "execute_result"
    }
   ],
   "source": [
    "np.quantile(results, 0.95)"
   ]
  },
  {
   "cell_type": "markdown",
   "metadata": {},
   "source": [
    "## 4.\n"
   ]
  },
  {
   "cell_type": "code",
   "execution_count": 28,
   "metadata": {},
   "outputs": [],
   "source": [
    "from itertools import product"
   ]
  },
  {
   "cell_type": "code",
   "execution_count": 29,
   "metadata": {},
   "outputs": [
    {
     "data": {
      "text/html": [
       "<div>\n",
       "<style scoped>\n",
       "    .dataframe tbody tr th:only-of-type {\n",
       "        vertical-align: middle;\n",
       "    }\n",
       "\n",
       "    .dataframe tbody tr th {\n",
       "        vertical-align: top;\n",
       "    }\n",
       "\n",
       "    .dataframe thead th {\n",
       "        text-align: right;\n",
       "    }\n",
       "</style>\n",
       "<table border=\"1\" class=\"dataframe\">\n",
       "  <thead>\n",
       "    <tr style=\"text-align: right;\">\n",
       "      <th></th>\n",
       "      <th>1</th>\n",
       "      <th>2</th>\n",
       "      <th>3</th>\n",
       "      <th>winning</th>\n",
       "      <th>reporter?</th>\n",
       "    </tr>\n",
       "  </thead>\n",
       "  <tbody>\n",
       "    <tr>\n",
       "      <th>0</th>\n",
       "      <td>2</td>\n",
       "      <td>0</td>\n",
       "      <td>0</td>\n",
       "      <td>0</td>\n",
       "      <td>1</td>\n",
       "    </tr>\n",
       "    <tr>\n",
       "      <th>1</th>\n",
       "      <td>0</td>\n",
       "      <td>5</td>\n",
       "      <td>1</td>\n",
       "      <td>0</td>\n",
       "      <td>1</td>\n",
       "    </tr>\n",
       "    <tr>\n",
       "      <th>2</th>\n",
       "      <td>0</td>\n",
       "      <td>0</td>\n",
       "      <td>0</td>\n",
       "      <td>0</td>\n",
       "      <td>1</td>\n",
       "    </tr>\n",
       "    <tr>\n",
       "      <th>3</th>\n",
       "      <td>2</td>\n",
       "      <td>0</td>\n",
       "      <td>0</td>\n",
       "      <td>0</td>\n",
       "      <td>1</td>\n",
       "    </tr>\n",
       "    <tr>\n",
       "      <th>4</th>\n",
       "      <td>0</td>\n",
       "      <td>0</td>\n",
       "      <td>0</td>\n",
       "      <td>0</td>\n",
       "      <td>1</td>\n",
       "    </tr>\n",
       "  </tbody>\n",
       "</table>\n",
       "</div>"
      ],
      "text/plain": [
       "   1  2  3  winning  reporter?\n",
       "0  2  0  0        0          1\n",
       "1  0  5  1        0          1\n",
       "2  0  0  0        0          1\n",
       "3  2  0  0        0          1\n",
       "4  0  0  0        0          1"
      ]
     },
     "execution_count": 29,
     "metadata": {},
     "output_type": "execute_result"
    }
   ],
   "source": [
    "df = pd.read_csv('hw_6_data.txt', sep=' ', names=['1', '2', '3', 'winning', 'reporter?'])\n",
    "df.head()"
   ]
  },
  {
   "cell_type": "code",
   "execution_count": 30,
   "metadata": {},
   "outputs": [],
   "source": [
    "df = df[df['reporter?'] == 1]"
   ]
  },
  {
   "cell_type": "code",
   "execution_count": 31,
   "metadata": {},
   "outputs": [],
   "source": [
    "def reward(x):\n",
    "    a, b, c = x\n",
    "    a -= a > 4\n",
    "    b -= b > 4\n",
    "    c -= c > 4\n",
    "    cs = [0, 0, 0, 0, 0, 0, 0]\n",
    "    cs[a] += 1\n",
    "    cs[b] += 1\n",
    "    cs[c] += 1\n",
    "    trips = [0, 10, 25, 40, 800, 10, 80]\n",
    "    for i, t in enumerate(cs):\n",
    "        if t == 3: return trips[i]\n",
    "    if sum(cs[1:4]) == 3: return 5\n",
    "    if cs[5] == 2 and cs[4] == 0: return 5\n",
    "    if cs[5] == 1 and cs[4] == 0: return 2\n",
    "    if cs[4] == 1:\n",
    "        for i, t in enumerate(cs):\n",
    "            if t == 2: return 2 * trips[i]\n",
    "        if cs[5] == 1: return 10\n",
    "        if sum(cs[1:4]) == 2: return 10\n",
    "    if cs[4] == 2:\n",
    "        for i, t in enumerate(cs):\n",
    "            if t == 1: return 4 * trips[i]\n",
    "    return 0"
   ]
  },
  {
   "cell_type": "code",
   "execution_count": 32,
   "metadata": {},
   "outputs": [
    {
     "data": {
      "text/plain": [
       "[array([0.42753623, 0.35507246, 0.10144928, 0.04347826, 0.02173913,\n",
       "        0.00724638, 0.04347826]),\n",
       " array([0.61594203, 0.05797101, 0.17391304, 0.11594203, 0.00724638,\n",
       "        0.        , 0.02898551]),\n",
       " array([0.55797101, 0.2826087 , 0.04347826, 0.00724638, 0.03623188,\n",
       "        0.02173913, 0.05072464])]"
      ]
     },
     "execution_count": 32,
     "metadata": {},
     "output_type": "execute_result"
    }
   ],
   "source": [
    "cols = ['1', '2', '3']\n",
    "probs = [np.unique(df[col], return_counts = True)[1] / df.shape[0] for col in cols]\n",
    "probs[1] = np.append(probs[1], probs[1][-1])\n",
    "probs[1][5] = 0.0\n",
    "probs"
   ]
  },
  {
   "cell_type": "code",
   "execution_count": 33,
   "metadata": {},
   "outputs": [],
   "source": [
    "def mean_hypothesis(sample: pd.DataFrame):\n",
    "    cnts = [[], [], []]\n",
    "    for i, col in enumerate(['1', '2', '3']):\n",
    "        res = []\n",
    "        for val in [0, 1, 2, 3, 5, 6, 7]:\n",
    "            cnts[i].append((sample[col] == val).sum())\n",
    "    cnts_r = np.hstack(cnts)\n",
    "\n",
    "    def obj_fun(x):\n",
    "        return -1 * (np.log(x) * cnts_r).sum()\n",
    "    \n",
    "    def obj_grad(x):\n",
    "        return -1 * cnts_r / x\n",
    "    \n",
    "    # функция reward(x: tuple[int, int, int]) -> int возвращает выигрыш соответствующей комбинации\n",
    "    M = np.array([reward(x) for x in product([0, 1, 2, 3, 5, 6, 7], repeat=3)]).reshape((7, 7, 7))\n",
    "    \n",
    "    def constr_fun(x):\n",
    "        p1, p2, p3 = x[0:7], x[7:14], x[14:21]\n",
    "        return np.tensordot(p3, np.tensordot(p2, np.tensordot(p1, M, (0, 0)), (0, 0)), (0, 0))\n",
    "    \n",
    "    def constr_grad(x):\n",
    "        p1, p2, p3 = x[0:7], x[7:14], x[14:21]\n",
    "        p1_grad = np.tensordot(p3, np.tensordot(p2, M, (0, 1)), (0, 1))\n",
    "        p2_grad = np.tensordot(p3, np.tensordot(p1, M, (0, 0)), (0, 1))\n",
    "        p3_grad = np.tensordot(p2, np.tensordot(p1, M, (0, 0)), (0, 0))\n",
    "        return np.hstack([p1_grad, p2_grad, p3_grad])\n",
    "    \n",
    "    lin_constr_1 = LinearConstraint(np.eye(21), 0.0001, 1)\n",
    "    lin_constr_2 = LinearConstraint([[1] * 7 + [0] * 14, [0] * 7 + [1] * 7 + [0] * 7, [0] * 14 + [1] * 7], [1, 1, 1], [1, 1, 1])\n",
    "    non_lin_constr = NonlinearConstraint(constr_fun, 0.9199, np.inf, jac=constr_grad)\n",
    "    magic = 0.03839888129674522\n",
    "    x0 = np.hstack([probs[0] + magic * np.array([-1, 0, 0, 0, 1, 0, 0]),\n",
    "                    probs[1] + magic * np.array([-1, 0, 0, 0, 0, 1, 0]),\n",
    "                    probs[2]])\n",
    "    \n",
    "    return minimize(obj_fun, x0=x0, jac=obj_grad, constraints=[lin_constr_1, lin_constr_2, non_lin_constr])"
   ]
  },
  {
   "cell_type": "code",
   "execution_count": 34,
   "metadata": {},
   "outputs": [
    {
     "data": {
      "text/html": [
       "<div>\n",
       "<style scoped>\n",
       "    .dataframe tbody tr th:only-of-type {\n",
       "        vertical-align: middle;\n",
       "    }\n",
       "\n",
       "    .dataframe tbody tr th {\n",
       "        vertical-align: top;\n",
       "    }\n",
       "\n",
       "    .dataframe thead th {\n",
       "        text-align: right;\n",
       "    }\n",
       "</style>\n",
       "<table border=\"1\" class=\"dataframe\">\n",
       "  <thead>\n",
       "    <tr style=\"text-align: right;\">\n",
       "      <th></th>\n",
       "      <th>1</th>\n",
       "      <th>2</th>\n",
       "      <th>3</th>\n",
       "      <th>winning</th>\n",
       "      <th>reporter?</th>\n",
       "    </tr>\n",
       "  </thead>\n",
       "  <tbody>\n",
       "    <tr>\n",
       "      <th>0</th>\n",
       "      <td>2</td>\n",
       "      <td>0</td>\n",
       "      <td>0</td>\n",
       "      <td>0</td>\n",
       "      <td>1</td>\n",
       "    </tr>\n",
       "    <tr>\n",
       "      <th>1</th>\n",
       "      <td>0</td>\n",
       "      <td>5</td>\n",
       "      <td>1</td>\n",
       "      <td>0</td>\n",
       "      <td>1</td>\n",
       "    </tr>\n",
       "    <tr>\n",
       "      <th>2</th>\n",
       "      <td>0</td>\n",
       "      <td>0</td>\n",
       "      <td>0</td>\n",
       "      <td>0</td>\n",
       "      <td>1</td>\n",
       "    </tr>\n",
       "    <tr>\n",
       "      <th>3</th>\n",
       "      <td>2</td>\n",
       "      <td>0</td>\n",
       "      <td>0</td>\n",
       "      <td>0</td>\n",
       "      <td>1</td>\n",
       "    </tr>\n",
       "    <tr>\n",
       "      <th>4</th>\n",
       "      <td>0</td>\n",
       "      <td>0</td>\n",
       "      <td>0</td>\n",
       "      <td>0</td>\n",
       "      <td>1</td>\n",
       "    </tr>\n",
       "  </tbody>\n",
       "</table>\n",
       "</div>"
      ],
      "text/plain": [
       "   1  2  3  winning  reporter?\n",
       "0  2  0  0        0          1\n",
       "1  0  5  1        0          1\n",
       "2  0  0  0        0          1\n",
       "3  2  0  0        0          1\n",
       "4  0  0  0        0          1"
      ]
     },
     "execution_count": 34,
     "metadata": {},
     "output_type": "execute_result"
    }
   ],
   "source": [
    "df.head()"
   ]
  },
  {
   "cell_type": "code",
   "execution_count": 35,
   "metadata": {},
   "outputs": [],
   "source": [
    "ret = mean_hypothesis(df)"
   ]
  },
  {
   "cell_type": "code",
   "execution_count": 36,
   "metadata": {},
   "outputs": [],
   "source": [
    "theory = ret.x\n",
    "observed = np.hstack(probs)"
   ]
  },
  {
   "cell_type": "code",
   "execution_count": 44,
   "metadata": {},
   "outputs": [
    {
     "data": {
      "text/plain": [
       "Power_divergenceResult(statistic=2.667007365139277, pvalue=0.4458631948171974)"
      ]
     },
     "execution_count": 44,
     "metadata": {},
     "output_type": "execute_result"
    }
   ],
   "source": [
    "ss.chisquare(observed * 138, f_exp=theory * 138, ddof=17)"
   ]
  },
  {
   "cell_type": "code",
   "execution_count": 39,
   "metadata": {
    "scrolled": true
   },
   "outputs": [
    {
     "data": {
      "text/plain": [
       "array([4.05696990e-01, 3.59810197e-01, 1.05956707e-01, 4.52682438e-02,\n",
       "       3.20669781e-02, 8.10912352e-03, 4.30917612e-02, 5.85231885e-01,\n",
       "       6.30304192e-02, 1.85099981e-01, 1.22734519e-01, 1.38905458e-02,\n",
       "       1.00000174e-04, 2.99126505e-02, 5.28427762e-01, 2.90463981e-01,\n",
       "       4.62477188e-02, 7.63268217e-03, 5.38145059e-02, 2.39371772e-02,\n",
       "       4.94761730e-02])"
      ]
     },
     "execution_count": 39,
     "metadata": {},
     "output_type": "execute_result"
    }
   ],
   "source": [
    "theory"
   ]
  },
  {
   "cell_type": "markdown",
   "metadata": {},
   "source": [
    "## 5."
   ]
  },
  {
   "cell_type": "code",
   "execution_count": 69,
   "metadata": {},
   "outputs": [],
   "source": [
    "vals = [0, 1, 2, 3, 5, 6, 7]"
   ]
  },
  {
   "cell_type": "code",
   "execution_count": 70,
   "metadata": {},
   "outputs": [],
   "source": [
    "col_1 = ss.rv_discrete(values=(vals, theory[:7]))\n",
    "col_2 = ss.rv_discrete(values=(vals, theory[7:14]))\n",
    "col_3 = ss.rv_discrete(values=(vals, theory[14:]))"
   ]
  },
  {
   "cell_type": "code",
   "execution_count": 135,
   "metadata": {},
   "outputs": [],
   "source": [
    "BIG = 10000\n",
    "sample = np.array([\n",
    "    col_1.rvs(size=(138, BIG), random_state=38),\n",
    "    col_2.rvs(size=(138, BIG), random_state=38),\n",
    "    col_3.rvs(size=(138, BIG), random_state=38),\n",
    "]).transpose()"
   ]
  },
  {
   "cell_type": "code",
   "execution_count": 136,
   "metadata": {},
   "outputs": [
    {
     "data": {
      "text/plain": [
       "(10000, 138, 3)"
      ]
     },
     "execution_count": 136,
     "metadata": {},
     "output_type": "execute_result"
    }
   ],
   "source": [
    "sample.shape"
   ]
  },
  {
   "cell_type": "code",
   "execution_count": 146,
   "metadata": {},
   "outputs": [],
   "source": [
    "def E(arr):\n",
    "    arr = arr.reshape(138, 3)\n",
    "    cols = ['1', '2', '3']\n",
    "    d = pd.DataFrame(arr, columns=cols)\n",
    "    \n",
    "    ps = mean_hypothesis(d).x\n",
    "    \n",
    "    M = np.array([reward(x) for x in product([0, 1, 2, 3, 5, 6, 7], repeat=3)]).reshape((7, 7, 7))\n",
    "    return np.tensordot(ps[14:], np.tensordot(ps[7:14], np.tensordot(ps[:7], M, (0, 0)), (0, 0)), (0, 0))"
   ]
  },
  {
   "cell_type": "code",
   "execution_count": 147,
   "metadata": {},
   "outputs": [
    {
     "data": {
      "text/plain": [
       "10000"
      ]
     },
     "execution_count": 147,
     "metadata": {},
     "output_type": "execute_result"
    }
   ],
   "source": [
    "Es = np.apply_along_axis(E, axis=1, arr=sample.reshape(BIG, 138 * 3))\n",
    "Es.size"
   ]
  },
  {
   "cell_type": "code",
   "execution_count": 148,
   "metadata": {},
   "outputs": [],
   "source": [
    "def count_p(x, p=theory):\n",
    "    a, b, c = x\n",
    "    a -= a > 4\n",
    "    b -= b > 4\n",
    "    c -= c > 4\n",
    "    return p[a] * p[b+7] * p[c+14]"
   ]
  },
  {
   "cell_type": "code",
   "execution_count": 149,
   "metadata": {},
   "outputs": [],
   "source": [
    "cool_model = ss.rv_discrete(values=(np.array([reward(x) for x in product([0, 1, 2, 3, 5, 6, 7], repeat=3)]),\n",
    "                                   np.array([count_p(x) for x in product([0, 1, 2, 3, 5, 6, 7], repeat=3)])))"
   ]
  },
  {
   "cell_type": "code",
   "execution_count": 150,
   "metadata": {},
   "outputs": [
    {
     "data": {
      "text/plain": [
       "0.31352044351362357"
      ]
     },
     "execution_count": 150,
     "metadata": {},
     "output_type": "execute_result"
    }
   ],
   "source": [
    "Es.std() * np.sqrt(138) / cool_model.std()"
   ]
  }
 ],
 "metadata": {
  "celltoolbar": "Необработанный формат ячейки",
  "kernelspec": {
   "display_name": "Python 3",
   "language": "python",
   "name": "python3"
  },
  "language_info": {
   "codemirror_mode": {
    "name": "ipython",
    "version": 3
   },
   "file_extension": ".py",
   "mimetype": "text/x-python",
   "name": "python",
   "nbconvert_exporter": "python",
   "pygments_lexer": "ipython3",
   "version": "3.8.3"
  }
 },
 "nbformat": 4,
 "nbformat_minor": 5
}