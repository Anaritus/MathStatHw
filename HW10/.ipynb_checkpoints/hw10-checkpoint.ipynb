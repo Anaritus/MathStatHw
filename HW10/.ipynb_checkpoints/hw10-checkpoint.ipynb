{
 "cells": [
  {
   "cell_type": "markdown",
   "id": "83ff5d21",
   "metadata": {},
   "source": [
    "#  Практика.\n"
   ]
  },
  {
   "cell_type": "code",
   "execution_count": 1,
   "id": "d92c7fae",
   "metadata": {},
   "outputs": [],
   "source": [
    "import numpy as np\n",
    "import pandas as pd\n",
    "import scipy.stats as ss\n",
    "from typing import Callable\n",
    "import pandas as pd"
   ]
  },
  {
   "cell_type": "code",
   "execution_count": 2,
   "id": "9b405348",
   "metadata": {},
   "outputs": [
    {
     "data": {
      "text/html": [
       "<div>\n",
       "<style scoped>\n",
       "    .dataframe tbody tr th:only-of-type {\n",
       "        vertical-align: middle;\n",
       "    }\n",
       "\n",
       "    .dataframe tbody tr th {\n",
       "        vertical-align: top;\n",
       "    }\n",
       "\n",
       "    .dataframe thead th {\n",
       "        text-align: right;\n",
       "    }\n",
       "</style>\n",
       "<table border=\"1\" class=\"dataframe\">\n",
       "  <thead>\n",
       "    <tr style=\"text-align: right;\">\n",
       "      <th></th>\n",
       "      <th>first</th>\n",
       "      <th>second</th>\n",
       "      <th>third</th>\n",
       "      <th>winning</th>\n",
       "      <th>reporter?</th>\n",
       "    </tr>\n",
       "  </thead>\n",
       "  <tbody>\n",
       "    <tr>\n",
       "      <th>0</th>\n",
       "      <td>2</td>\n",
       "      <td>0</td>\n",
       "      <td>0</td>\n",
       "      <td>0</td>\n",
       "      <td>1</td>\n",
       "    </tr>\n",
       "    <tr>\n",
       "      <th>1</th>\n",
       "      <td>0</td>\n",
       "      <td>5</td>\n",
       "      <td>1</td>\n",
       "      <td>0</td>\n",
       "      <td>1</td>\n",
       "    </tr>\n",
       "    <tr>\n",
       "      <th>2</th>\n",
       "      <td>0</td>\n",
       "      <td>0</td>\n",
       "      <td>0</td>\n",
       "      <td>0</td>\n",
       "      <td>1</td>\n",
       "    </tr>\n",
       "    <tr>\n",
       "      <th>3</th>\n",
       "      <td>2</td>\n",
       "      <td>0</td>\n",
       "      <td>0</td>\n",
       "      <td>0</td>\n",
       "      <td>1</td>\n",
       "    </tr>\n",
       "    <tr>\n",
       "      <th>4</th>\n",
       "      <td>0</td>\n",
       "      <td>0</td>\n",
       "      <td>0</td>\n",
       "      <td>0</td>\n",
       "      <td>1</td>\n",
       "    </tr>\n",
       "  </tbody>\n",
       "</table>\n",
       "</div>"
      ],
      "text/plain": [
       "   first  second  third  winning  reporter?\n",
       "0      2       0      0        0          1\n",
       "1      0       5      1        0          1\n",
       "2      0       0      0        0          1\n",
       "3      2       0      0        0          1\n",
       "4      0       0      0        0          1"
      ]
     },
     "execution_count": 2,
     "metadata": {},
     "output_type": "execute_result"
    }
   ],
   "source": [
    "df = pd.read_csv('hw_6_data.txt', sep=' ', names=['first', 'second', 'third', 'winning', 'reporter?'])\n",
    "df.head()"
   ]
  },
  {
   "cell_type": "code",
   "execution_count": 3,
   "id": "b216d847",
   "metadata": {},
   "outputs": [],
   "source": [
    "df = df[df['reporter?'] == 1]"
   ]
  },
  {
   "cell_type": "code",
   "execution_count": 4,
   "id": "bd96d8c4",
   "metadata": {},
   "outputs": [
    {
     "data": {
      "text/plain": [
       "1.0"
      ]
     },
     "execution_count": 4,
     "metadata": {},
     "output_type": "execute_result"
    }
   ],
   "source": [
    "df['reporter?'].mean()"
   ]
  },
  {
   "cell_type": "code",
   "execution_count": 5,
   "id": "04338966",
   "metadata": {},
   "outputs": [
    {
     "data": {
      "text/html": [
       "<div>\n",
       "<style scoped>\n",
       "    .dataframe tbody tr th:only-of-type {\n",
       "        vertical-align: middle;\n",
       "    }\n",
       "\n",
       "    .dataframe tbody tr th {\n",
       "        vertical-align: top;\n",
       "    }\n",
       "\n",
       "    .dataframe thead th {\n",
       "        text-align: right;\n",
       "    }\n",
       "</style>\n",
       "<table border=\"1\" class=\"dataframe\">\n",
       "  <thead>\n",
       "    <tr style=\"text-align: right;\">\n",
       "      <th></th>\n",
       "      <th>first</th>\n",
       "      <th>second</th>\n",
       "      <th>third</th>\n",
       "      <th>winning</th>\n",
       "      <th>reporter?</th>\n",
       "    </tr>\n",
       "  </thead>\n",
       "  <tbody>\n",
       "    <tr>\n",
       "      <th>0</th>\n",
       "      <td>2</td>\n",
       "      <td>0</td>\n",
       "      <td>0</td>\n",
       "      <td>0</td>\n",
       "      <td>1</td>\n",
       "    </tr>\n",
       "    <tr>\n",
       "      <th>1</th>\n",
       "      <td>0</td>\n",
       "      <td>4</td>\n",
       "      <td>1</td>\n",
       "      <td>0</td>\n",
       "      <td>1</td>\n",
       "    </tr>\n",
       "    <tr>\n",
       "      <th>2</th>\n",
       "      <td>0</td>\n",
       "      <td>0</td>\n",
       "      <td>0</td>\n",
       "      <td>0</td>\n",
       "      <td>1</td>\n",
       "    </tr>\n",
       "    <tr>\n",
       "      <th>3</th>\n",
       "      <td>2</td>\n",
       "      <td>0</td>\n",
       "      <td>0</td>\n",
       "      <td>0</td>\n",
       "      <td>1</td>\n",
       "    </tr>\n",
       "    <tr>\n",
       "      <th>4</th>\n",
       "      <td>0</td>\n",
       "      <td>0</td>\n",
       "      <td>0</td>\n",
       "      <td>0</td>\n",
       "      <td>1</td>\n",
       "    </tr>\n",
       "  </tbody>\n",
       "</table>\n",
       "</div>"
      ],
      "text/plain": [
       "   first  second  third  winning  reporter?\n",
       "0      2       0      0        0          1\n",
       "1      0       4      1        0          1\n",
       "2      0       0      0        0          1\n",
       "3      2       0      0        0          1\n",
       "4      0       0      0        0          1"
      ]
     },
     "execution_count": 5,
     "metadata": {},
     "output_type": "execute_result"
    }
   ],
   "source": [
    "df = df - (df > 4)\n",
    "df.head()"
   ]
  },
  {
   "cell_type": "code",
   "execution_count": 37,
   "id": "b16f3fc9",
   "metadata": {},
   "outputs": [],
   "source": [
    "def correction(df, name):\n",
    "    ret = np.unique(df[name], return_counts = True)[1]\n",
    "    if name == 'second': \n",
    "        ret = np.append(ret, ret[5])\n",
    "        ret[5] = 0\n",
    "    return ret / 138"
   ]
  },
  {
   "cell_type": "code",
   "execution_count": 45,
   "id": "965df101",
   "metadata": {},
   "outputs": [
    {
     "data": {
      "text/plain": [
       "array([[0.42753623, 0.35507246, 0.10144928, 0.04347826, 0.02173913,\n",
       "        0.00724638, 0.04347826],\n",
       "       [0.61594203, 0.05797101, 0.17391304, 0.11594203, 0.00724638,\n",
       "        0.        , 0.02898551],\n",
       "       [0.55797101, 0.2826087 , 0.04347826, 0.00724638, 0.03623188,\n",
       "        0.02173913, 0.05072464]])"
      ]
     },
     "execution_count": 45,
     "metadata": {},
     "output_type": "execute_result"
    }
   ],
   "source": [
    "names = ['first', 'second', 'third']\n",
    "model = np.vstack([correction(df, name) for name in names])\n",
    "model"
   ]
  },
  {
   "cell_type": "code",
   "execution_count": 8,
   "id": "709dfe0a",
   "metadata": {},
   "outputs": [],
   "source": [
    "def likehood(theta: pd.DataFrame, model) -> float:\n",
    "    return -np.sum(np.log(theta) * model)"
   ]
  },
  {
   "cell_type": "code",
   "execution_count": 9,
   "id": "9efa03a6",
   "metadata": {},
   "outputs": [
    {
     "data": {
      "text/plain": [
       "array([[0.5     , 0.25    , 0.125   , 0.0625  , 0.015625, 0.015625,\n",
       "        0.03125 ],\n",
       "       [0.5     , 0.25    , 0.125   , 0.0625  , 0.015625, 0.015625,\n",
       "        0.03125 ],\n",
       "       [0.5     , 0.25    , 0.125   , 0.0625  , 0.015625, 0.015625,\n",
       "        0.03125 ]])"
      ]
     },
     "execution_count": 9,
     "metadata": {},
     "output_type": "execute_result"
    }
   ],
   "source": [
    "expected = np.array([1 / 2, 1 / 4, 1 / 8, 1 / 16, 1 /64, 1 / 64, 1 / 32])\n",
    "theta = np.array([expected,\n",
    "                 expected,\n",
    "                 expected])\n",
    "theta"
   ]
  },
  {
   "cell_type": "markdown",
   "id": "8b4d8659",
   "metadata": {},
   "source": [
    "##  Ограничения.\n",
    "\n",
    " * $\\theta \\geq 0$\n",
    " .$0 \\leq I_{21} \\dot \\theta \\leq \\text{np.inf}$\n",
    " * $\\sum_i p_i^j = 1$.\n",
    " 1 $\\leq (111100000000\\\\\n",
    "                               000011110000\\\\\n",
    "                               000000001111)\\theta \\leq 1 $\n",
    " * $\\mathbb E \\text{reward} $.\n",
    " $\\mathbb E = p^3 \\otimes (p^2 \\otimes (p^1 \\otimes M))$\n",
    " \n",
    " Надо еще найти $\\theta_0$, чутка уменьшить вероятность 0 и увеличить вероянтость алмазика, пока $\\mathbb E \\ne 0.92$"
   ]
  },
  {
   "cell_type": "code",
   "execution_count": 10,
   "id": "2a2c0984",
   "metadata": {},
   "outputs": [],
   "source": [
    "def winning(a, b, c):\n",
    "    cs = [0, 0, 0, 0, 0, 0, 0]\n",
    "    cs[a] += 1\n",
    "    cs[b] += 1\n",
    "    cs[c] += 1\n",
    "    trips = [0, 10, 25, 40, 800, 10, 80]\n",
    "    for i, t in enumerate(cs):\n",
    "        if t == 3: return trips[i]\n",
    "    if sum(cs[1:4]) == 3: return 5\n",
    "    if cs[5] == 2 and cs[4] == 0: return 5\n",
    "    if cs[5] == 1 and cs[4] == 0: return 2\n",
    "    if cs[4] == 1:\n",
    "        for i, t in enumerate(cs):\n",
    "            if t == 2: return 2 * trips[i]\n",
    "        if cs[5] == 1: return 10\n",
    "        if sum(cs[1:4]) == 2: return 10\n",
    "    if cs[4] == 2:\n",
    "        for i, t in enumerate(cs):\n",
    "            if t == 1: return 4 * trips[i]\n",
    "    return 0"
   ]
  },
  {
   "cell_type": "code",
   "execution_count": 11,
   "id": "2d15b570",
   "metadata": {},
   "outputs": [],
   "source": [
    "from scipy.optimize import bisect"
   ]
  },
  {
   "cell_type": "code",
   "execution_count": 39,
   "id": "f7cf6cb2",
   "metadata": {},
   "outputs": [],
   "source": [
    "def cheat(cx, model):\n",
    "    model[1][0] -= cx\n",
    "    model[1][4] += cx\n",
    "    e = 0\n",
    "    for a in range(7):\n",
    "        for b in range(7):\n",
    "            for c in range(7):\n",
    "                e += winning(a, b, c) * model[0][a] * model[1][b] * model[2][c]\n",
    "    return e - 0.92\n",
    "\n",
    "c = bisect(cheat, 0, 1, args = model)"
   ]
  },
  {
   "cell_type": "code",
   "execution_count": 46,
   "id": "8adb2ea9",
   "metadata": {},
   "outputs": [
    {
     "name": "stdout",
     "output_type": "stream",
     "text": [
      "[1. 1. 1.]\n",
      "[[0.42753623 0.35507246 0.10144928 0.04347826 0.02173913 0.00724638\n",
      "  0.04347826]\n",
      " [0.61594203 0.05797101 0.17391304 0.11594203 0.00724638 0.\n",
      "  0.02898551]\n",
      " [0.55797101 0.2826087  0.04347826 0.00724638 0.03623188 0.02173913\n",
      "  0.05072464]]\n"
     ]
    }
   ],
   "source": [
    "model[1][0] -= c\n",
    "model[1][4] += c\n",
    "print(np.sum(model, axis=1))\n",
    "print(model)"
   ]
  },
  {
   "cell_type": "code",
   "execution_count": 14,
   "id": "aa4e3ee0",
   "metadata": {},
   "outputs": [],
   "source": [
    "from scipy.optimize import minimize"
   ]
  },
  {
   "cell_type": "code",
   "execution_count": 41,
   "id": "210bc556",
   "metadata": {},
   "outputs": [],
   "source": [
    "def jacob(x, model):\n",
    "    return -model / x"
   ]
  },
  {
   "cell_type": "code",
   "execution_count": 56,
   "id": "98b8c1a1",
   "metadata": {},
   "outputs": [],
   "source": [
    "def hessi(x, model):\n",
    "    return np.diag(model / x ** 2)\n",
    "    "
   ]
  },
  {
   "cell_type": "code",
   "execution_count": 47,
   "id": "1eaf5032",
   "metadata": {},
   "outputs": [
    {
     "data": {
      "text/plain": [
       "array([0.42753623, 0.35507246, 0.10144928, 0.04347826, 0.02173913,\n",
       "       0.00724638, 0.04347826, 0.61594203, 0.05797101, 0.17391304,\n",
       "       0.11594203, 0.00724638, 0.        , 0.02898551, 0.55797101,\n",
       "       0.2826087 , 0.04347826, 0.00724638, 0.03623188, 0.02173913,\n",
       "       0.05072464])"
      ]
     },
     "execution_count": 47,
     "metadata": {},
     "output_type": "execute_result"
    }
   ],
   "source": [
    "model = np.hstack(model)\n",
    "model"
   ]
  },
  {
   "cell_type": "code",
   "execution_count": null,
   "id": "6089357d",
   "metadata": {},
   "outputs": [],
   "source": [
    "from scipy.optimize import LinearConstraint, NonlinearConstraint"
   ]
  },
  {
   "cell_type": "code",
   "execution_count": 55,
   "id": "0d139348",
   "metadata": {},
   "outputs": [
    {
     "name": "stderr",
     "output_type": "stream",
     "text": [
      "D:\\coding\\Conda\\lib\\site-packages\\scipy\\optimize\\_minimize.py:524: RuntimeWarning: Method BFGS does not use Hessian information (hess).\n",
      "  warn('Method %s does not use Hessian information (hess).' % method,\n",
      "<ipython-input-8-1a5411671a2e>:2: RuntimeWarning: divide by zero encountered in log\n",
      "  return -np.sum(np.log(theta) * model)\n",
      "<ipython-input-8-1a5411671a2e>:2: RuntimeWarning: invalid value encountered in multiply\n",
      "  return -np.sum(np.log(theta) * model)\n",
      "<ipython-input-41-a171c7398d1f>:2: RuntimeWarning: invalid value encountered in true_divide\n",
      "  return -model / x\n"
     ]
    }
   ],
   "source": [
    "ret = minimize(likehood, model, args=model,\n",
    "              jac = jacob,\n",
    "              hess = hessi,\n",
    "              constraints = [\n",
    "                  {\n",
    "                      'type': 'ineq', 'fun': LinearConstraint()\n",
    "                  }\n",
    "              ]\n",
    "              )"
   ]
  }
 ],
 "metadata": {
  "kernelspec": {
   "display_name": "Python 3",
   "language": "python",
   "name": "python3"
  },
  "language_info": {
   "codemirror_mode": {
    "name": "ipython",
    "version": 3
   },
   "file_extension": ".py",
   "mimetype": "text/x-python",
   "name": "python",
   "nbconvert_exporter": "python",
   "pygments_lexer": "ipython3",
   "version": "3.8.8"
  }
 },
 "nbformat": 4,
 "nbformat_minor": 5
}
