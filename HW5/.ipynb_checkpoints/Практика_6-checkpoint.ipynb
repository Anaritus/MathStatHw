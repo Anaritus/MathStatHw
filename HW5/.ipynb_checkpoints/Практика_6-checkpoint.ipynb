{
 "cells": [
  {
   "cell_type": "code",
   "execution_count": 1,
   "metadata": {},
   "outputs": [
    {
     "data": {
      "text/html": [
       "<div>\n",
       "<style scoped>\n",
       "    .dataframe tbody tr th:only-of-type {\n",
       "        vertical-align: middle;\n",
       "    }\n",
       "\n",
       "    .dataframe tbody tr th {\n",
       "        vertical-align: top;\n",
       "    }\n",
       "\n",
       "    .dataframe thead th {\n",
       "        text-align: right;\n",
       "    }\n",
       "</style>\n",
       "<table border=\"1\" class=\"dataframe\">\n",
       "  <thead>\n",
       "    <tr style=\"text-align: right;\">\n",
       "      <th></th>\n",
       "      <th>x</th>\n",
       "    </tr>\n",
       "  </thead>\n",
       "  <tbody>\n",
       "    <tr>\n",
       "      <th>0</th>\n",
       "      <td>-0.703187</td>\n",
       "    </tr>\n",
       "    <tr>\n",
       "      <th>1</th>\n",
       "      <td>-0.490282</td>\n",
       "    </tr>\n",
       "    <tr>\n",
       "      <th>2</th>\n",
       "      <td>-0.321814</td>\n",
       "    </tr>\n",
       "    <tr>\n",
       "      <th>3</th>\n",
       "      <td>-1.755079</td>\n",
       "    </tr>\n",
       "    <tr>\n",
       "      <th>4</th>\n",
       "      <td>0.206664</td>\n",
       "    </tr>\n",
       "    <tr>\n",
       "      <th>5</th>\n",
       "      <td>-2.011265</td>\n",
       "    </tr>\n",
       "    <tr>\n",
       "      <th>6</th>\n",
       "      <td>-0.557251</td>\n",
       "    </tr>\n",
       "    <tr>\n",
       "      <th>7</th>\n",
       "      <td>0.337217</td>\n",
       "    </tr>\n",
       "    <tr>\n",
       "      <th>8</th>\n",
       "      <td>1.548836</td>\n",
       "    </tr>\n",
       "    <tr>\n",
       "      <th>9</th>\n",
       "      <td>-1.370737</td>\n",
       "    </tr>\n",
       "  </tbody>\n",
       "</table>\n",
       "</div>"
      ],
      "text/plain": [
       "          x\n",
       "0 -0.703187\n",
       "1 -0.490282\n",
       "2 -0.321814\n",
       "3 -1.755079\n",
       "4  0.206664\n",
       "5 -2.011265\n",
       "6 -0.557251\n",
       "7  0.337217\n",
       "8  1.548836\n",
       "9 -1.370737"
      ]
     },
     "execution_count": 1,
     "metadata": {},
     "output_type": "execute_result"
    }
   ],
   "source": [
    "import numpy as np\n",
    "import pandas as pd\n",
    "import scipy.stats as ss\n",
    "\n",
    "np.random.seed(1337)\n",
    "data = pd.DataFrame({'x': ss.norm.rvs(size=100)})\n",
    "data[:10]"
   ]
  },
  {
   "cell_type": "code",
   "execution_count": 2,
   "metadata": {},
   "outputs": [],
   "source": [
    "from typing import Callable\n",
    "import pandas\n",
    "\n",
    "def bootstrap_t(data: pandas.DataFrame, statistic: Callable[[pandas.DataFrame], float], iterations=1000, std_iter=50, alpha=0.02):\n",
    "    # ...\n",
    "    theta = statistic(data)\n",
    "    res = []\n",
    "    sts = []\n",
    "    for i in range(iterations):\n",
    "        resample = data.sample(frac=1, replace=True, random_state=i)\n",
    "        res.append(statistic(resample) - theta)\n",
    "        # ...\n",
    "        stdd = []\n",
    "        for j in range(std_iter):\n",
    "            reresample = resample.sample(frac=1, replace=True, random_state=i*std_iter+j)\n",
    "            # ...\n",
    "            stdd.append(statistic(reresample))\n",
    "        sts.append(np.std(stdd, ddof=1))\n",
    "    # ...\n",
    "    stdteta = np.std(res, ddof=1)\n",
    "    res = np.array(res)\n",
    "    res /= sts\n",
    "    t_1, t_2 = np.quantile(res, alpha / 2), np.quantile(res, 1 - alpha / 2)\n",
    "    return theta - stdteta * t_2, theta - stdteta * t_1"
   ]
  },
  {
   "cell_type": "code",
   "execution_count": null,
   "metadata": {},
   "outputs": [],
   "source": [
    "bootstrap_t(data, np.median)"
   ]
  },
  {
   "cell_type": "markdown",
   "metadata": {},
   "source": [
    "# Домашка.\n"
   ]
  },
  {
   "cell_type": "code",
   "execution_count": null,
   "metadata": {},
   "outputs": [],
   "source": [
    "law_school_data = [(576, 3.39), (635, 3.30), (558, 2.81), (578, 3.03), (666, 3.44),\n",
    "                   (580, 3.07), (555, 3.0), (661, 3.43), (651, 3.36), (605, 3.13),\n",
    "                   (653, 3.12), (575, 2.74), (545, 2.76), (572, 2.88), (594, 2.96)]\n",
    "law_school_df = pd.DataFrame(law_school_data, columns=['LSAT', 'GPA'])"
   ]
  },
  {
   "cell_type": "code",
   "execution_count": null,
   "metadata": {},
   "outputs": [],
   "source": [
    "ss.norm.ppf(0.5)"
   ]
  }
 ],
 "metadata": {
  "kernelspec": {
   "display_name": "Python 3",
   "language": "python",
   "name": "python3"
  },
  "language_info": {
   "codemirror_mode": {
    "name": "ipython",
    "version": 3
   },
   "file_extension": ".py",
   "mimetype": "text/x-python",
   "name": "python",
   "nbconvert_exporter": "python",
   "pygments_lexer": "ipython3",
   "version": "3.8.8"
  }
 },
 "nbformat": 4,
 "nbformat_minor": 4
}
