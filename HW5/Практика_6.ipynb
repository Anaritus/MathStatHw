{
 "cells": [
  {
   "cell_type": "code",
   "execution_count": 1,
   "metadata": {},
   "outputs": [
    {
     "data": {
      "text/html": [
       "<div>\n",
       "<style scoped>\n",
       "    .dataframe tbody tr th:only-of-type {\n",
       "        vertical-align: middle;\n",
       "    }\n",
       "\n",
       "    .dataframe tbody tr th {\n",
       "        vertical-align: top;\n",
       "    }\n",
       "\n",
       "    .dataframe thead th {\n",
       "        text-align: right;\n",
       "    }\n",
       "</style>\n",
       "<table border=\"1\" class=\"dataframe\">\n",
       "  <thead>\n",
       "    <tr style=\"text-align: right;\">\n",
       "      <th></th>\n",
       "      <th>x</th>\n",
       "    </tr>\n",
       "  </thead>\n",
       "  <tbody>\n",
       "    <tr>\n",
       "      <th>0</th>\n",
       "      <td>-0.703187</td>\n",
       "    </tr>\n",
       "    <tr>\n",
       "      <th>1</th>\n",
       "      <td>-0.490282</td>\n",
       "    </tr>\n",
       "    <tr>\n",
       "      <th>2</th>\n",
       "      <td>-0.321814</td>\n",
       "    </tr>\n",
       "    <tr>\n",
       "      <th>3</th>\n",
       "      <td>-1.755079</td>\n",
       "    </tr>\n",
       "    <tr>\n",
       "      <th>4</th>\n",
       "      <td>0.206664</td>\n",
       "    </tr>\n",
       "    <tr>\n",
       "      <th>5</th>\n",
       "      <td>-2.011265</td>\n",
       "    </tr>\n",
       "    <tr>\n",
       "      <th>6</th>\n",
       "      <td>-0.557251</td>\n",
       "    </tr>\n",
       "    <tr>\n",
       "      <th>7</th>\n",
       "      <td>0.337217</td>\n",
       "    </tr>\n",
       "    <tr>\n",
       "      <th>8</th>\n",
       "      <td>1.548836</td>\n",
       "    </tr>\n",
       "    <tr>\n",
       "      <th>9</th>\n",
       "      <td>-1.370737</td>\n",
       "    </tr>\n",
       "  </tbody>\n",
       "</table>\n",
       "</div>"
      ],
      "text/plain": [
       "          x\n",
       "0 -0.703187\n",
       "1 -0.490282\n",
       "2 -0.321814\n",
       "3 -1.755079\n",
       "4  0.206664\n",
       "5 -2.011265\n",
       "6 -0.557251\n",
       "7  0.337217\n",
       "8  1.548836\n",
       "9 -1.370737"
      ]
     },
     "execution_count": 1,
     "metadata": {},
     "output_type": "execute_result"
    }
   ],
   "source": [
    "import numpy as np\n",
    "import pandas as pd\n",
    "import scipy.stats as ss\n",
    "\n",
    "np.random.seed(1337)\n",
    "data = pd.DataFrame({'x': ss.norm.rvs(size=100)})\n",
    "data[:10]"
   ]
  },
  {
   "cell_type": "code",
   "execution_count": 2,
   "metadata": {},
   "outputs": [],
   "source": [
    "from typing import Callable\n",
    "import pandas\n",
    "\n",
    "def bootstrap_t(data: pandas.DataFrame, statistic: Callable[[pandas.DataFrame], float], iterations=1000, std_iter=50, alpha=0.02):\n",
    "    # ...\n",
    "    theta = statistic(data)\n",
    "    res = []\n",
    "    sts = []\n",
    "    for i in range(iterations):\n",
    "        resample = data.sample(frac=1, replace=True, random_state=i)\n",
    "        res.append(statistic(resample) - theta)\n",
    "        # ...\n",
    "        stdd = []\n",
    "        for j in range(std_iter):\n",
    "            reresample = resample.sample(frac=1, replace=True, random_state=i*std_iter+j)\n",
    "            # ...\n",
    "            stdd.append(statistic(reresample))\n",
    "        sts.append(np.std(stdd, ddof=1))\n",
    "    # ...\n",
    "    stdteta = np.std(res, ddof=1)\n",
    "    res = np.array(res)\n",
    "    res /= sts\n",
    "    t_1, t_2 = np.quantile(res, alpha / 2), np.quantile(res, 1 - alpha / 2)\n",
    "    return theta - stdteta * t_2, theta - stdteta * t_1"
   ]
  },
  {
   "cell_type": "code",
   "execution_count": 3,
   "metadata": {},
   "outputs": [
    {
     "data": {
      "text/plain": [
       "(-0.29599601030321415, 0.35801561621958494)"
      ]
     },
     "execution_count": 3,
     "metadata": {},
     "output_type": "execute_result"
    }
   ],
   "source": [
    "bootstrap_t(data, np.median)"
   ]
  },
  {
   "cell_type": "markdown",
   "metadata": {},
   "source": [
    "# Домашка.\n"
   ]
  },
  {
   "cell_type": "code",
   "execution_count": 4,
   "metadata": {},
   "outputs": [],
   "source": [
    "law_school_data = [(576, 3.39), (635, 3.30), (558, 2.81), (578, 3.03), (666, 3.44),\n",
    "                   (580, 3.07), (555, 3.0), (661, 3.43), (651, 3.36), (605, 3.13),\n",
    "                   (653, 3.12), (575, 2.74), (545, 2.76), (572, 2.88), (594, 2.96)]\n",
    "law_school_df = pd.DataFrame(law_school_data, columns=['LSAT', 'GPA'])"
   ]
  },
  {
   "cell_type": "code",
   "execution_count": 8,
   "metadata": {},
   "outputs": [
    {
     "data": {
      "text/plain": [
       "(15, 2)"
      ]
     },
     "execution_count": 8,
     "metadata": {},
     "output_type": "execute_result"
    }
   ],
   "source": [
    "law_school_df.shape"
   ]
  },
  {
   "cell_type": "code",
   "execution_count": 7,
   "metadata": {},
   "outputs": [
    {
     "data": {
      "text/plain": [
       "0.7763744912894074"
      ]
     },
     "execution_count": 7,
     "metadata": {},
     "output_type": "execute_result"
    }
   ],
   "source": [
    "rho = law_school_df.corr().values[0, 1]\n",
    "rho"
   ]
  },
  {
   "cell_type": "code",
   "execution_count": 13,
   "metadata": {},
   "outputs": [
    {
     "name": "stdout",
     "output_type": "stream",
     "text": [
      "0.4772158876048114\n"
     ]
    }
   ],
   "source": [
    "R = 1 - rho ** 2\n",
    "\n",
    "alpha = 0.01\n",
    "\n",
    "t_1 = ss.norm.ppf(alpha)\n",
    "t_2 = ss.norm.ppf(1 - alpha)\n",
    "print((t_2 - t_1) * R / np.sqrt(15))"
   ]
  },
  {
   "cell_type": "code",
   "execution_count": 14,
   "metadata": {},
   "outputs": [
    {
     "name": "stdout",
     "output_type": "stream",
     "text": [
      "-2.3263478740408408 2.3263478740408408 3.872983346207417 0.7763744912894074\n"
     ]
    }
   ],
   "source": [
    "print(t_1, t_2, np.sqrt(15), rho)"
   ]
  },
  {
   "cell_type": "code",
   "execution_count": 15,
   "metadata": {},
   "outputs": [
    {
     "name": "stdout",
     "output_type": "stream",
     "text": [
      "0.695771\n"
     ]
    }
   ],
   "source": [
    "print(0.895429-0.199658)"
   ]
  },
  {
   "cell_type": "code",
   "execution_count": 19,
   "metadata": {},
   "outputs": [],
   "source": [
    "statistic = lambda x: np.arctanh(x.corr().values[0, 1])"
   ]
  },
  {
   "cell_type": "code",
   "execution_count": 20,
   "metadata": {},
   "outputs": [],
   "source": [
    "left, right = np.tanh(bootstrap_t(law_school_df, statistic))"
   ]
  },
  {
   "cell_type": "code",
   "execution_count": 22,
   "metadata": {},
   "outputs": [
    {
     "name": "stdout",
     "output_type": "stream",
     "text": [
      "1.1117557683983375\n",
      "-0.16680328200355332 0.9449524863947842\n"
     ]
    }
   ],
   "source": [
    "\n",
    "print(right - left)\n",
    "print(left, right)"
   ]
  },
  {
   "cell_type": "code",
   "execution_count": 64,
   "metadata": {},
   "outputs": [],
   "source": [
    "def bca(data, statistic, iterations=1000, alpha=0.02):\n",
    "    # ...\n",
    "    theta = statistic(data)\n",
    "    bt = []\n",
    "    for i in range(iterations):\n",
    "        resample = data.sample(frac=1, replace=True, random_state=i)\n",
    "        bt.append(statistic(resample))\n",
    "        # ...\n",
    "    bt = np.array(bt)\n",
    "    z = ss.norm.ppf(len(bt[bt < theta]) / iterations)\n",
    "    retheta = []\n",
    "    for i in range(data.shape[0]):\n",
    "        redata = data.drop(i)\n",
    "        retheta.append(statistic(redata))\n",
    "    retheta = np.array(retheta)\n",
    "    ttheta = retheta.mean()\n",
    "    retheta = ttheta - retheta\n",
    "    num = sum(retheta ** 3)\n",
    "    denum = 6 * sum(retheta ** 2) ** 1.5\n",
    "    \n",
    "    a = num\n",
    "    za = ss.norm.ppf(alpha / 2)\n",
    "    z1ma = ss.norm.ppf(1 - alpha / 2)\n",
    "    z1 = ss.norm.cdf(z + (z + za) / (1 - a * (z + za)))\n",
    "    z2 = ss.norm.cdf(z + (z + z1ma) / (1 - a * (z + z1ma)))\n",
    "    print(theta)\n",
    "    return np.quantile(bt, z1), np.quantile(bt, z2)\n",
    "    # ...\n",
    "    "
   ]
  },
  {
   "cell_type": "code",
   "execution_count": 65,
   "metadata": {},
   "outputs": [
    {
     "name": "stdout",
     "output_type": "stream",
     "text": [
      "0.7763744912894074\n"
     ]
    }
   ],
   "source": [
    "stat2 = lambda x: x.corr().values[0, 1]\n",
    "left, right = bca(law_school_df, stat2)"
   ]
  },
  {
   "cell_type": "code",
   "execution_count": 66,
   "metadata": {},
   "outputs": [
    {
     "name": "stdout",
     "output_type": "stream",
     "text": [
      "0.19581286046536708 0.9220694692786151\n",
      "0.726256608813248\n"
     ]
    }
   ],
   "source": [
    "print(left, right)\n",
    "print(right - left)"
   ]
  },
  {
   "cell_type": "code",
   "execution_count": 67,
   "metadata": {},
   "outputs": [
    {
     "data": {
      "text/plain": [
       "array([3, 2, 1])"
      ]
     },
     "execution_count": 67,
     "metadata": {},
     "output_type": "execute_result"
    }
   ],
   "source": []
  }
 ],
 "metadata": {
  "kernelspec": {
   "display_name": "Python 3",
   "language": "python",
   "name": "python3"
  },
  "language_info": {
   "codemirror_mode": {
    "name": "ipython",
    "version": 3
   },
   "file_extension": ".py",
   "mimetype": "text/x-python",
   "name": "python",
   "nbconvert_exporter": "python",
   "pygments_lexer": "ipython3",
   "version": "3.8.3"
  }
 },
 "nbformat": 4,
 "nbformat_minor": 4
}
