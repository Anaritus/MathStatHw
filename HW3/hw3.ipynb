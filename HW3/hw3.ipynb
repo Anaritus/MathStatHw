{
 "cells": [
  {
   "cell_type": "markdown",
   "id": "62f2a2dd",
   "metadata": {},
   "source": [
    "# Практика на паре."
   ]
  },
  {
   "cell_type": "code",
   "execution_count": 1,
   "id": "0840757c",
   "metadata": {},
   "outputs": [],
   "source": [
    "import numpy as np\n",
    "import scipy.stats as ss\n",
    "import pandas as pd\n",
    "import matplotlib\n",
    "from tqdm.notebook import tqdm\n",
    "from matplotlib import pyplot as plt\n",
    "from IPython.display import set_matplotlib_formats\n",
    "set_matplotlib_formats('svg')\n",
    "%matplotlib inline"
   ]
  },
  {
   "cell_type": "code",
   "execution_count": 2,
   "id": "d9ded662",
   "metadata": {},
   "outputs": [],
   "source": [
    "fin = open('data.txt', 'r')\n",
    "games = [[int(t) for t in k.split()] for k in fin.readlines()]"
   ]
  },
  {
   "cell_type": "code",
   "execution_count": 3,
   "id": "9fca84ae",
   "metadata": {},
   "outputs": [
    {
     "name": "stdout",
     "output_type": "stream",
     "text": [
      "0.48611867174741424 0.5443658138268916\n"
     ]
    }
   ],
   "source": [
    "len_games = sum([len(t) for t in games])\n",
    "\n",
    "p_win = sum([sum(t) for t in games]) / len_games\n",
    "p_go = len(games) / len_games\n",
    "print(p_win, p_go)"
   ]
  },
  {
   "cell_type": "code",
   "execution_count": 7,
   "id": "c1880941",
   "metadata": {},
   "outputs": [],
   "source": [
    "stay = np.log(1-p_go)\n",
    "leave = np.log(p_go)\n",
    "win = np.log(p_win)\n",
    "lose = np.log(1 - p_win)\n",
    "\n",
    "def like_hood(a):\n",
    "    pw, pg = a\n",
    "    stay = np.log(1-pg)\n",
    "    leave = np.log(pg)\n",
    "    win = np.log(pw)\n",
    "    lose = np.log(1 - pw)\n",
    "    ret = 0\n",
    "    for game in games:\n",
    "        ret -= win * sum(game)\n",
    "        ret -= lose * (len(game) - sum(game))\n",
    "        ret -= leave\n",
    "        ret -= stay * (len(game) - 1)\n",
    "    return ret\n",
    "\n"
   ]
  },
  {
   "cell_type": "code",
   "execution_count": 9,
   "id": "8dea9a59",
   "metadata": {},
   "outputs": [
    {
     "name": "stdout",
     "output_type": "stream",
     "text": [
      "      fun: 2538.6735555345367\n",
      " hess_inv: <2x2 LbfgsInvHessProduct with dtype=float64>\n",
      "      jac: array([-0.00318323,  0.00268301])\n",
      "  message: 'CONVERGENCE: REL_REDUCTION_OF_F_<=_FACTR*EPSMCH'\n",
      "     nfev: 24\n",
      "      nit: 4\n",
      "     njev: 8\n",
      "   status: 0\n",
      "  success: True\n",
      "        x: array([0.48611865, 0.54436567])\n"
     ]
    }
   ],
   "source": [
    "from scipy.optimize import minimize\n",
    "res = minimize(like_hood, x0=[0.5, 0.5], \n",
    "               bounds=[[np.power(10.0, -5), 1 - np.power(10.0, -5)], [np.power(10.0, -5), 1 - np.power(10.0, -5)]])\n",
    "print(res)"
   ]
  },
  {
   "cell_type": "code",
   "execution_count": 28,
   "id": "5a9667b6",
   "metadata": {},
   "outputs": [],
   "source": [
    "def new_model(a):\n",
    "    pw, pg = a\n",
    "    stay = np.log(1-pg)\n",
    "    leave = np.log(pg)\n",
    "    win = np.log(pw)\n",
    "    lose = np.log(1 - pw)\n",
    "    ret = 0\n",
    "    for game in games:\n",
    "        cntw = 0\n",
    "        cnt = 0\n",
    "        for t in game:\n",
    "            cntw += t\n",
    "            cnt += 1\n",
    "            if cnt < len(game): ret -= np.log(1 - pg ** ((cntw + 1) / (cnt + 1)))\n",
    "        ret -= win * sum(game)\n",
    "        ret -= lose * (len(game) - sum(game))\n",
    "        ret -= leave * ((cntw + 1) / (cnt + 1))\n",
    "    return ret"
   ]
  },
  {
   "cell_type": "code",
   "execution_count": 29,
   "id": "d1ecf653",
   "metadata": {},
   "outputs": [
    {
     "name": "stdout",
     "output_type": "stream",
     "text": [
      "      fun: 2451.845983465085\n",
      " hess_inv: <2x2 LbfgsInvHessProduct with dtype=float64>\n",
      "      jac: array([ 0.00172804, -0.009004  ])\n",
      "  message: 'CONVERGENCE: REL_REDUCTION_OF_F_<=_FACTR*EPSMCH'\n",
      "     nfev: 21\n",
      "      nit: 4\n",
      "     njev: 7\n",
      "   status: 0\n",
      "  success: True\n",
      "        x: array([0.48611849, 0.41892264])\n"
     ]
    }
   ],
   "source": [
    "res1 = minimize(new_model, x0=[0.5, 0.5], \n",
    "               bounds=[[1e-5, 1 - 1e-5], [1e-5, 1 - 1e-5]])\n",
    "print(res1)"
   ]
  },
  {
   "cell_type": "code",
   "execution_count": 34,
   "id": "ab2b939a",
   "metadata": {},
   "outputs": [
    {
     "name": "stdout",
     "output_type": "stream",
     "text": [
      "8\n"
     ]
    }
   ],
   "source": [
    "print(max([len(t) for t in games]))"
   ]
  },
  {
   "cell_type": "code",
   "execution_count": 46,
   "id": "265a5380",
   "metadata": {},
   "outputs": [],
   "source": [
    "def new_model2(a):\n",
    "    pw, pg0, pg1 = a\n",
    "    win = np.log(pw)\n",
    "    lose = np.log(1 - pw)\n",
    "    ret = 0\n",
    "    for game in games:\n",
    "        last = 0\n",
    "        prel = 0\n",
    "        for t in game:\n",
    "            if t == 1: ret -= np.log(1-pg1)\n",
    "            if t == 0: ret -= np.log(1 - pg0)\n",
    "            prel, last = last, t\n",
    "        ret -= win * sum(game)\n",
    "        ret -= lose * (len(game) - sum(game))\n",
    "        if last: ret -= np.log(pg1)\n",
    "        if last == 0: ret -= np.log(pg0)\n",
    "    return ret"
   ]
  },
  {
   "cell_type": "code",
   "execution_count": 47,
   "id": "7f0d7d83",
   "metadata": {},
   "outputs": [
    {
     "name": "stdout",
     "output_type": "stream",
     "text": [
      "      fun: 3078.896120821343\n",
      " hess_inv: <3x3 LbfgsInvHessProduct with dtype=float64>\n",
      "      jac: array([-0.00682121,  0.01000444, -0.00427463])\n",
      "  message: 'CONVERGENCE: REL_REDUCTION_OF_F_<=_FACTR*EPSMCH'\n",
      "     nfev: 36\n",
      "      nit: 6\n",
      "     njev: 9\n",
      "   status: 0\n",
      "  success: True\n",
      "        x: array([0.48611782, 0.41692536, 0.26683095])\n"
     ]
    }
   ],
   "source": [
    "res2 = minimize(new_model2, x0=[0.5, 0.5, 0.5], \n",
    "               bounds=[[1e-5, 1 - 1e-5], [1e-5, 1 - 1e-5], [1e-5, 1 - 1e-5]])\n",
    "print(res2)"
   ]
  }
 ],
 "metadata": {
  "kernelspec": {
   "display_name": "Python 3",
   "language": "python",
   "name": "python3"
  },
  "language_info": {
   "codemirror_mode": {
    "name": "ipython",
    "version": 3
   },
   "file_extension": ".py",
   "mimetype": "text/x-python",
   "name": "python",
   "nbconvert_exporter": "python",
   "pygments_lexer": "ipython3",
   "version": "3.8.8"
  }
 },
 "nbformat": 4,
 "nbformat_minor": 5
}
