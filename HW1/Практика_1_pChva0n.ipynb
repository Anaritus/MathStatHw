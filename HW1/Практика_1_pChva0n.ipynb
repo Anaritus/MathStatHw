{
 "cells": [
  {
   "cell_type": "markdown",
   "metadata": {},
   "source": [
    "# Метод Монте-Карло"
   ]
  },
  {
   "cell_type": "code",
   "execution_count": 1,
   "metadata": {},
   "outputs": [],
   "source": [
    "# !pip install tqdm"
   ]
  },
  {
   "cell_type": "code",
   "execution_count": 2,
   "metadata": {},
   "outputs": [],
   "source": [
    "import numpy as np\n",
    "from tqdm.notebook import tqdm"
   ]
  },
  {
   "cell_type": "code",
   "execution_count": 3,
   "metadata": {},
   "outputs": [
    {
     "data": {
      "application/vnd.jupyter.widget-view+json": {
       "model_id": "b200c2e2e1914557a8bcad474a2fd4fe",
       "version_major": 2,
       "version_minor": 0
      },
      "text/plain": [
       "HBox(children=(FloatProgress(value=0.0, max=1000000.0), HTML(value='')))"
      ]
     },
     "metadata": {},
     "output_type": "display_data"
    },
    {
     "name": "stdout",
     "output_type": "stream",
     "text": [
      "\n",
      "Monte Carlo:   2.604 +/- 0.052\n",
      "True:          2.550\n",
      "Dots inside:   0.2543%\n"
     ]
    }
   ],
   "source": [
    "N = 1000000\n",
    "dim = 10\n",
    "is_inside = []\n",
    "for _ in tqdm(range(N)):\n",
    "    x = 2 * np.random.rand(dim) - 1\n",
    "    is_inside.append(sum(x ** 2) <= 1)\n",
    "print(f'{\"Monte Carlo:\":15}{2 ** dim * np.mean(is_inside):.3f} +/- {2 ** dim * np.std(is_inside) / np.sqrt(N):.3f}')\n",
    "\n",
    "from scipy.special import gamma\n",
    "\n",
    "print(f'{\"True:\":15}{np.pi ** (dim / 2) / gamma(dim / 2 + 1):.3f}')\n",
    "\n",
    "print(f'{\"Dots inside:\":15}{100 * np.mean(is_inside):.4f}%')"
   ]
  },
  {
   "cell_type": "code",
   "execution_count": 4,
   "metadata": {},
   "outputs": [
    {
     "data": {
      "application/vnd.jupyter.widget-view+json": {
       "model_id": "a4779540594f4d3889448084527f43a8",
       "version_major": 2,
       "version_minor": 0
      },
      "text/plain": [
       "HBox(children=(FloatProgress(value=0.0, max=10.0), HTML(value='')))"
      ]
     },
     "metadata": {},
     "output_type": "display_data"
    },
    {
     "name": "stdout",
     "output_type": "stream",
     "text": [
      "\n",
      "Monte Carlo:   2.449 +/- 0.050\n",
      "True:          2.550\n",
      "Dots inside:   0.0024%\n"
     ]
    }
   ],
   "source": [
    "N = 1000000\n",
    "batch = 100000\n",
    "dim = 10\n",
    "is_inside = 0\n",
    "for _ in tqdm(range(N // batch)):\n",
    "    x = 2 * np.random.rand(dim, batch) - 1\n",
    "    is_inside += ((x ** 2).sum(axis=0) <= 1).sum()\n",
    "mean = is_inside / N\n",
    "print(f'{\"Monte Carlo:\":15}{2 ** dim * mean:.3f} +/- {2 ** dim * np.sqrt(mean * (1 - mean)) / np.sqrt(N):.3f}')\n",
    "print(f'{\"True:\":15}{np.pi ** (dim / 2) / gamma(dim / 2 + 1):.3f}')\n",
    "print(f'{\"Dots inside:\":15}{mean:.4f}%')"
   ]
  },
  {
   "cell_type": "code",
   "execution_count": null,
   "metadata": {},
   "outputs": [],
   "source": []
  },
  {
   "cell_type": "code",
   "execution_count": null,
   "metadata": {},
   "outputs": [],
   "source": []
  },
  {
   "cell_type": "code",
   "execution_count": null,
   "metadata": {},
   "outputs": [],
   "source": []
  },
  {
   "cell_type": "code",
   "execution_count": null,
   "metadata": {},
   "outputs": [],
   "source": []
  },
  {
   "cell_type": "markdown",
   "metadata": {},
   "source": [
    "# 21"
   ]
  },
  {
   "cell_type": "code",
   "execution_count": 5,
   "metadata": {},
   "outputs": [],
   "source": [
    "class Player:\n",
    "    def __init__(self):\n",
    "        self.hand = []\n",
    "        self.points = [0]\n",
    "        self.turn = 0\n",
    "        \n",
    "    def new_game(self, turn):\n",
    "        self.hand = []\n",
    "        self.points = [0]\n",
    "        self.turn = turn\n",
    "        \n",
    "    def wanna_more(self, info):\n",
    "        return False\n",
    "    \n",
    "    def give(self, card):\n",
    "        self.hand.append(card)\n",
    "        self.points = [p + card for p in self.points]\n",
    "        if card == 11:\n",
    "            self.points.extend([p - 10 for p in self.points])\n",
    "\n",
    "class DummyPlayer(Player):\n",
    "    \n",
    "    def __init__(self, thres):\n",
    "        super().__init__()\n",
    "        self.thres = thres\n",
    "    \n",
    "    def wanna_more(self, info):\n",
    "        points = max([p if p <= 21 else 0 for p in self.points])\n",
    "        return points < self.thres and min(self.points) <= 21\n",
    "\n",
    "\n",
    "def twenty_one(players):\n",
    "    deck = [6, 7, 8, 9, 10, 2, 3, 4, 11] * 4\n",
    "    np.random.shuffle(deck)\n",
    "    for i, name in enumerate(players):\n",
    "        players[name].new_game(i)\n",
    "    hands = {name: [] for name in players}\n",
    "    takes = {name: True for name in players}\n",
    "    points = {name: [0] for name in players}\n",
    "    while deck and any(takes.values()):\n",
    "        for name in players:\n",
    "            if takes[name]:\n",
    "                if players[name].wanna_more(takes):\n",
    "                    card = deck.pop(0)\n",
    "                    players[name].give(card)\n",
    "                    hands[name].append(card)\n",
    "                    points[name] = [p + card for p in points[name]]\n",
    "                    if card == 11:\n",
    "                        points[name].extend([p - 10 for p in points[name]])\n",
    "                    if not deck:\n",
    "                        break\n",
    "                else:\n",
    "                    takes[name] = False\n",
    "    for name in players:\n",
    "        points[name] = max([p if p <= 21 else 0 for p in points[name]])\n",
    "    return points"
   ]
  },
  {
   "cell_type": "code",
   "execution_count": 6,
   "metadata": {},
   "outputs": [
    {
     "data": {
      "application/vnd.jupyter.widget-view+json": {
       "model_id": "5f294122b6ab44d584a7311ae0ec24f4",
       "version_major": 2,
       "version_minor": 0
      },
      "text/plain": [
       "HBox(children=(FloatProgress(value=0.0, max=100000.0), HTML(value='')))"
      ]
     },
     "metadata": {},
     "output_type": "display_data"
    },
    {
     "name": "stdout",
     "output_type": "stream",
     "text": [
      "\n",
      "{'A': 38984, 'B': 37732}\n",
      "Winrate A: 50.46-51.18%\n"
     ]
    }
   ],
   "source": [
    "players = {'A': DummyPlayer(18), 'B': DummyPlayer(19)}\n",
    "wins = {'A': 0, 'B': 0}\n",
    "\n",
    "for i in tqdm(range(100000)):\n",
    "    points = twenty_one(players)\n",
    "    if points['A'] > points['B']:\n",
    "        wins['A'] += 1\n",
    "    if points['A'] < points['B']:\n",
    "        wins['B'] += 1\n",
    "        \n",
    "print(wins)\n",
    "N = (wins['A'] + wins['B'])\n",
    "winrate = wins['A'] / N\n",
    "std = np.sqrt(winrate * (1 - winrate))\n",
    "print(f'Winrate A: {100 * (winrate - 2 * std / np.sqrt(N)):.2f}-{100 * (winrate + 2 * std / np.sqrt(N)):.2f}%')"
   ]
  },
  {
   "cell_type": "markdown",
   "metadata": {},
   "source": [
    "# Решение ДЗ №1.\n",
    "\n",
    "Для начала нужно создать данные для обучения: \n",
    " * Автомат с вероятностями перехода,\n",
    " * Игру для сбора данных против Dummy(18)."
   ]
  },
  {
   "cell_type": "code",
   "execution_count": 7,
   "metadata": {},
   "outputs": [],
   "source": [
    "states = [(cards, points) for cards in np.arange(13) for points in np.arange(22)] \n",
    "#12 карт гарантированный 0: 1 * 4 + 2 * 4 + 3 * 4 = 24 --- минимально возможная сумма\n",
    "#очков в игре от 0 до 21\n",
    "\n",
    "machine = {x: {y: 0 for y in states} for x in states} #Автомат\n",
    "winning = {x: 0 for x in states} #Суммарный выигрыш при конце в этой точке (W: 1, D: 0, L:-1)\n",
    "winterm = {x: 0 for x in states} #Победы при конце в состоянии (W: 1, D: 0, L:0)\n",
    "games = {x: 0 for x in states} #Всего игр начатых в данной точке\n",
    "gamesterm = {x: 0 for x in states} #Всего игр законченных в данной точке"
   ]
  },
  {
   "cell_type": "markdown",
   "metadata": {},
   "source": [
    "Теперь сделаем парня который берет ровно n карт:\n",
    "\n",
    "В основном он такой же как и `DummyPlayer`, но чтобоы не реализовывать игру лишний раз заново, хочется записывать данные о состояниях для машины переходов с помощью функции `give()`. Также создадим метод `getpoints()`, который делает понятно что и который давно пора добавить:"
   ]
  },
  {
   "cell_type": "code",
   "execution_count": 8,
   "metadata": {},
   "outputs": [],
   "source": [
    "class FinalCountdown(Player):\n",
    "    \n",
    "    def __init__(self, CountDown):\n",
    "        super().__init__()\n",
    "        self.CountDown = CountDown\n",
    "        \n",
    "    def getPoints(self):\n",
    "        return max([t if t <= 21 else 0 for t in self.points])\n",
    "    \n",
    "    def wanna_more(self, info):\n",
    "        return len(self.hand) < self.CountDown and min(self.points) <= 21\n",
    "    \n",
    "    def give(self, card):\n",
    "        curopt = self.getPoints()\n",
    "        self.points = [p + card for p in self.points]\n",
    "        if card == 11:\n",
    "            self.points.extend([p - 10 for p in self.points])\n",
    "        machine[(len(self.hand), curopt)][(len(self.hand) + 1, self.getPoints())] += 1\n",
    "        games[(len(self.hand), curopt)] += 1\n",
    "        self.hand.append(card)\n"
   ]
  },
  {
   "cell_type": "markdown",
   "metadata": {},
   "source": [
    "Начинаем обучение:"
   ]
  },
  {
   "cell_type": "code",
   "execution_count": 11,
   "metadata": {},
   "outputs": [
    {
     "name": "stdout",
     "output_type": "stream",
     "text": [
      "Iteration number:   0\n"
     ]
    },
    {
     "data": {
      "application/vnd.jupyter.widget-view+json": {
       "model_id": "83538ab05fd24c7d8ddfd2d807a16f3b",
       "version_major": 2,
       "version_minor": 0
      },
      "text/plain": [
       "HBox(children=(FloatProgress(value=0.0, max=10000000.0), HTML(value='')))"
      ]
     },
     "metadata": {},
     "output_type": "display_data"
    },
    {
     "name": "stdout",
     "output_type": "stream",
     "text": [
      "\n",
      "Iteration number:   1\n"
     ]
    },
    {
     "data": {
      "application/vnd.jupyter.widget-view+json": {
       "model_id": "9199d00457ae479baea7babd38573661",
       "version_major": 2,
       "version_minor": 0
      },
      "text/plain": [
       "HBox(children=(FloatProgress(value=0.0, max=9000000.0), HTML(value='')))"
      ]
     },
     "metadata": {},
     "output_type": "display_data"
    },
    {
     "name": "stdout",
     "output_type": "stream",
     "text": [
      "\n",
      "Iteration number:   2\n"
     ]
    },
    {
     "data": {
      "application/vnd.jupyter.widget-view+json": {
       "model_id": "df7a6a334a18471a864183fba0feb9a2",
       "version_major": 2,
       "version_minor": 0
      },
      "text/plain": [
       "HBox(children=(FloatProgress(value=0.0, max=8100000.0), HTML(value='')))"
      ]
     },
     "metadata": {},
     "output_type": "display_data"
    },
    {
     "name": "stdout",
     "output_type": "stream",
     "text": [
      "\n",
      "Iteration number:   3\n"
     ]
    },
    {
     "data": {
      "application/vnd.jupyter.widget-view+json": {
       "model_id": "57411c38ca824a4aac56d8cdb1e1e468",
       "version_major": 2,
       "version_minor": 0
      },
      "text/plain": [
       "HBox(children=(FloatProgress(value=0.0, max=7290000.0), HTML(value='')))"
      ]
     },
     "metadata": {},
     "output_type": "display_data"
    },
    {
     "name": "stdout",
     "output_type": "stream",
     "text": [
      "\n",
      "Iteration number:   4\n"
     ]
    },
    {
     "data": {
      "application/vnd.jupyter.widget-view+json": {
       "model_id": "cf22373de5384d3b9825b73918fbfb39",
       "version_major": 2,
       "version_minor": 0
      },
      "text/plain": [
       "HBox(children=(FloatProgress(value=0.0, max=6561000.0), HTML(value='')))"
      ]
     },
     "metadata": {},
     "output_type": "display_data"
    },
    {
     "name": "stdout",
     "output_type": "stream",
     "text": [
      "\n",
      "Iteration number:   5\n"
     ]
    },
    {
     "data": {
      "application/vnd.jupyter.widget-view+json": {
       "model_id": "c9fb7f01d2e34e3e85331162ab030134",
       "version_major": 2,
       "version_minor": 0
      },
      "text/plain": [
       "HBox(children=(FloatProgress(value=0.0, max=5904900.0), HTML(value='')))"
      ]
     },
     "metadata": {},
     "output_type": "display_data"
    },
    {
     "name": "stdout",
     "output_type": "stream",
     "text": [
      "\n",
      "Iteration number:   6\n"
     ]
    },
    {
     "data": {
      "application/vnd.jupyter.widget-view+json": {
       "model_id": "ccae9d7b38404619a7f6ddfa12005ef9",
       "version_major": 2,
       "version_minor": 0
      },
      "text/plain": [
       "HBox(children=(FloatProgress(value=0.0, max=5314410.0), HTML(value='')))"
      ]
     },
     "metadata": {},
     "output_type": "display_data"
    },
    {
     "name": "stdout",
     "output_type": "stream",
     "text": [
      "\n",
      "Iteration number:   7\n"
     ]
    },
    {
     "data": {
      "application/vnd.jupyter.widget-view+json": {
       "model_id": "34fa766b6edd42eab3ca8bee0098dd4e",
       "version_major": 2,
       "version_minor": 0
      },
      "text/plain": [
       "HBox(children=(FloatProgress(value=0.0, max=4782969.0), HTML(value='')))"
      ]
     },
     "metadata": {},
     "output_type": "display_data"
    },
    {
     "name": "stdout",
     "output_type": "stream",
     "text": [
      "\n",
      "Iteration number:   8\n"
     ]
    },
    {
     "data": {
      "application/vnd.jupyter.widget-view+json": {
       "model_id": "e1ff74ac45d74430b9ae6175ae50174e",
       "version_major": 2,
       "version_minor": 0
      },
      "text/plain": [
       "HBox(children=(FloatProgress(value=0.0, max=4304672.0), HTML(value='')))"
      ]
     },
     "metadata": {},
     "output_type": "display_data"
    },
    {
     "name": "stdout",
     "output_type": "stream",
     "text": [
      "\n",
      "Iteration number:   9\n"
     ]
    },
    {
     "data": {
      "application/vnd.jupyter.widget-view+json": {
       "model_id": "8bce5394de0d4e18b8845084201dfa06",
       "version_major": 2,
       "version_minor": 0
      },
      "text/plain": [
       "HBox(children=(FloatProgress(value=0.0, max=3874204.0), HTML(value='')))"
      ]
     },
     "metadata": {},
     "output_type": "display_data"
    },
    {
     "name": "stdout",
     "output_type": "stream",
     "text": [
      "\n",
      "Iteration number:   10\n"
     ]
    },
    {
     "data": {
      "application/vnd.jupyter.widget-view+json": {
       "model_id": "4590cf1096e74a5db7fd5bf70af410bb",
       "version_major": 2,
       "version_minor": 0
      },
      "text/plain": [
       "HBox(children=(FloatProgress(value=0.0, max=3486784.0), HTML(value='')))"
      ]
     },
     "metadata": {},
     "output_type": "display_data"
    },
    {
     "name": "stdout",
     "output_type": "stream",
     "text": [
      "\n",
      "Iteration number:   11\n"
     ]
    },
    {
     "data": {
      "application/vnd.jupyter.widget-view+json": {
       "model_id": "80d7fdd9bbb747d0babfced6e18b0562",
       "version_major": 2,
       "version_minor": 0
      },
      "text/plain": [
       "HBox(children=(FloatProgress(value=0.0, max=3138105.0), HTML(value='')))"
      ]
     },
     "metadata": {},
     "output_type": "display_data"
    },
    {
     "name": "stdout",
     "output_type": "stream",
     "text": [
      "\n",
      "Iteration number:   12\n"
     ]
    },
    {
     "data": {
      "application/vnd.jupyter.widget-view+json": {
       "model_id": "c54cc4c9fc1c406a9223608c535cec00",
       "version_major": 2,
       "version_minor": 0
      },
      "text/plain": [
       "HBox(children=(FloatProgress(value=0.0, max=2824295.0), HTML(value='')))"
      ]
     },
     "metadata": {},
     "output_type": "display_data"
    },
    {
     "name": "stdout",
     "output_type": "stream",
     "text": [
      "\n"
     ]
    }
   ],
   "source": [
    "for i in range(13):\n",
    "    print(f'{\"Iteration number:\":20}{i}')\n",
    "    players = {'Dum': DummyPlayer(18), 'Countdown': FinalCountdown(i)}\n",
    "    for j in tqdm(range(int(10000000 * (0.9) ** i))):\n",
    "        points = twenty_one(players)\n",
    "        term = (len(players['Countdown'].hand), players['Countdown'].getPoints())\n",
    "        if points['Dum'] > points['Countdown']:\n",
    "            winning[term] -= 1\n",
    "        if points['Dum'] < points['Countdown']:\n",
    "            winning[term] += 1\n",
    "            winterm[term] += 1\n",
    "        gamesterm[term] += 1"
   ]
  },
  {
   "cell_type": "code",
   "execution_count": null,
   "metadata": {},
   "outputs": [],
   "source": [
    "for stateIN in states:\n",
    "    if games[stateIN]:\n",
    "        for stateOUT in states:\n",
    "            machine[stateIN][stateOUT] /= games[stateIN]\n",
    "    if gamesterm[stateIN]:\n",
    "        winning[stateIN] /= gamesterm[stateIN]\n",
    "        winterm[stateIN] /= gamesterm[stateIN]\n",
    "\n"
   ]
  },
  {
   "cell_type": "code",
   "execution_count": null,
   "metadata": {},
   "outputs": [],
   "source": [
    "strategy = {state: False for state in states}\n",
    "meanopt = {state: winning[state] for state in states}\n",
    "for points in range(21, -1, -1):\n",
    "    for cards in range(12, -1, -1):\n",
    "        state = (cards, points)\n",
    "        ifyes = 0\n",
    "        for key in states:\n",
    "            ifyes += meanopt[key] * machine[state][key]\n",
    "        if points == cards == 0:\n",
    "            print(winning[state], ifyes)\n",
    "        strategy[state] = ifyes >= winning[state]\n",
    "        meanopt[state] = max(ifyes, winning[state])"
   ]
  },
  {
   "cell_type": "code",
   "execution_count": null,
   "metadata": {},
   "outputs": [],
   "source": [
    "#some stepik stuff\n",
    "print(winterm[(4,15)])\n",
    "print(machine[(3,12)][(4, 18)])\n",
    "print(meanopt[(5, 16)])"
   ]
  },
  {
   "cell_type": "code",
   "execution_count": null,
   "metadata": {},
   "outputs": [],
   "source": [
    "class DummyDestroyer(Player):\n",
    "    def __init__(self):\n",
    "        super().__init__()\n",
    "    \n",
    "    def wanna_more(self, info):\n",
    "        return strategy[(len((self.hand)), max([p if p <= 21 else 0 for p in self.points]))] and min(self.points) <= 21"
   ]
  },
  {
   "cell_type": "code",
   "execution_count": null,
   "metadata": {},
   "outputs": [],
   "source": [
    "players = {'B': DummyPlayer(18), 'A': DummyDestroyer()}\n",
    "wins = {'A': 0, 'B': 0}\n",
    "\n",
    "for i in tqdm(range(100000)):\n",
    "    points = twenty_one(players)\n",
    "    if points['A'] > points['B']:\n",
    "        wins['A'] += 1\n",
    "    if points['A'] < points['B']:\n",
    "        wins['B'] += 1\n",
    "        \n",
    "print(wins)\n",
    "N = (wins['A'] + wins['B'])\n",
    "winrate = wins['A'] / N\n",
    "std = np.sqrt(winrate * (1 - winrate))\n",
    "print(f'Winrate A: {100 * (winrate - 2 * std / np.sqrt(N)):.2f}-{100 * (winrate + 2 * std / np.sqrt(N)):.2f}%')"
   ]
  },
  {
   "cell_type": "code",
   "execution_count": null,
   "metadata": {},
   "outputs": [],
   "source": [
    "print(strategy)"
   ]
  }
 ],
 "metadata": {
  "kernelspec": {
   "display_name": "Python 3",
   "language": "python",
   "name": "python3"
  },
  "language_info": {
   "codemirror_mode": {
    "name": "ipython",
    "version": 3
   },
   "file_extension": ".py",
   "mimetype": "text/x-python",
   "name": "python",
   "nbconvert_exporter": "python",
   "pygments_lexer": "ipython3",
   "version": "3.8.8"
  }
 },
 "nbformat": 4,
 "nbformat_minor": 4
}
