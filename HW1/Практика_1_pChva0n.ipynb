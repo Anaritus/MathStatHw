{
 "cells": [
  {
   "cell_type": "markdown",
   "metadata": {},
   "source": [
    "# Метод Монте-Карло"
   ]
  },
  {
   "cell_type": "code",
   "execution_count": 1,
   "metadata": {},
   "outputs": [],
   "source": [
    "# !pip install tqdm"
   ]
  },
  {
   "cell_type": "code",
   "execution_count": 2,
   "metadata": {},
   "outputs": [],
   "source": [
    "import numpy as np\n",
    "from tqdm.notebook import tqdm"
   ]
  },
  {
   "cell_type": "code",
   "execution_count": 3,
   "metadata": {},
   "outputs": [
    {
     "data": {
      "application/vnd.jupyter.widget-view+json": {
       "model_id": "3b0d197cff2149df90c0ab745f0ee98b",
       "version_major": 2,
       "version_minor": 0
      },
      "text/plain": [
       "HBox(children=(FloatProgress(value=0.0, max=1000000.0), HTML(value='')))"
      ]
     },
     "metadata": {},
     "output_type": "display_data"
    },
    {
     "name": "stdout",
     "output_type": "stream",
     "text": [
      "\n",
      "Monte Carlo:   2.500 +/- 0.051\n",
      "True:          2.550\n",
      "Dots inside:   0.2441%\n"
     ]
    }
   ],
   "source": [
    "N = 1000000\n",
    "dim = 10\n",
    "is_inside = []\n",
    "for _ in tqdm(range(N)):\n",
    "    x = 2 * np.random.rand(dim) - 1\n",
    "    is_inside.append(sum(x ** 2) <= 1)\n",
    "print(f'{\"Monte Carlo:\":15}{2 ** dim * np.mean(is_inside):.3f} +/- {2 ** dim * np.std(is_inside) / np.sqrt(N):.3f}')\n",
    "\n",
    "from scipy.special import gamma\n",
    "\n",
    "print(f'{\"True:\":15}{np.pi ** (dim / 2) / gamma(dim / 2 + 1):.3f}')\n",
    "\n",
    "print(f'{\"Dots inside:\":15}{100 * np.mean(is_inside):.4f}%')"
   ]
  },
  {
   "cell_type": "code",
   "execution_count": 4,
   "metadata": {},
   "outputs": [
    {
     "data": {
      "application/vnd.jupyter.widget-view+json": {
       "model_id": "7b17c04d78214fc69b5144a296b1747c",
       "version_major": 2,
       "version_minor": 0
      },
      "text/plain": [
       "HBox(children=(FloatProgress(value=0.0, max=10.0), HTML(value='')))"
      ]
     },
     "metadata": {},
     "output_type": "display_data"
    },
    {
     "name": "stdout",
     "output_type": "stream",
     "text": [
      "\n",
      "Monte Carlo:   2.526 +/- 0.051\n",
      "True:          2.550\n",
      "Dots inside:   0.0025%\n"
     ]
    }
   ],
   "source": [
    "N = 1000000\n",
    "batch = 100000\n",
    "dim = 10\n",
    "is_inside = 0\n",
    "for _ in tqdm(range(N // batch)):\n",
    "    x = 2 * np.random.rand(dim, batch) - 1\n",
    "    is_inside += ((x ** 2).sum(axis=0) <= 1).sum()\n",
    "mean = is_inside / N\n",
    "print(f'{\"Monte Carlo:\":15}{2 ** dim * mean:.3f} +/- {2 ** dim * np.sqrt(mean * (1 - mean)) / np.sqrt(N):.3f}')\n",
    "print(f'{\"True:\":15}{np.pi ** (dim / 2) / gamma(dim / 2 + 1):.3f}')\n",
    "print(f'{\"Dots inside:\":15}{mean:.4f}%')"
   ]
  },
  {
   "cell_type": "code",
   "execution_count": null,
   "metadata": {},
   "outputs": [],
   "source": []
  },
  {
   "cell_type": "code",
   "execution_count": null,
   "metadata": {},
   "outputs": [],
   "source": []
  },
  {
   "cell_type": "code",
   "execution_count": null,
   "metadata": {},
   "outputs": [],
   "source": []
  },
  {
   "cell_type": "code",
   "execution_count": null,
   "metadata": {},
   "outputs": [],
   "source": []
  },
  {
   "cell_type": "markdown",
   "metadata": {},
   "source": [
    "# 21"
   ]
  },
  {
   "cell_type": "code",
   "execution_count": 5,
   "metadata": {},
   "outputs": [],
   "source": [
    "class Player:\n",
    "    def __init__(self):\n",
    "        self.hand = []\n",
    "        self.points = [0]\n",
    "        self.turn = 0\n",
    "        \n",
    "    def new_game(self, turn):\n",
    "        self.hand = []\n",
    "        self.points = [0]\n",
    "        self.turn = turn\n",
    "        \n",
    "    def wanna_more(self, info):\n",
    "        return False\n",
    "    \n",
    "    def give(self, card):\n",
    "        self.points = [p + card for p in self.points]\n",
    "        if card == 11:\n",
    "            self.points.extend([p - 10 for p in self.points])\n",
    "\n",
    "class DummyPlayer(Player):\n",
    "    \n",
    "    def __init__(self, thres):\n",
    "        super().__init__()\n",
    "        self.thres = thres\n",
    "    \n",
    "    def wanna_more(self, info):\n",
    "        points = max([p if p <= 21 else 0 for p in self.points])\n",
    "        return points < self.thres and min(self.points) <= 21\n",
    "\n",
    "\n",
    "def twenty_one(players):\n",
    "    deck = [6, 7, 8, 9, 10, 2, 3, 4, 11] * 4\n",
    "    np.random.shuffle(deck)\n",
    "    for i, name in enumerate(players):\n",
    "        players[name].new_game(i)\n",
    "    hands = {name: [] for name in players}\n",
    "    takes = {name: True for name in players}\n",
    "    points = {name: [0] for name in players}\n",
    "    while deck and any(takes.values()):\n",
    "        for name in players:\n",
    "            if takes[name]:\n",
    "                if players[name].wanna_more(takes):\n",
    "                    card = deck.pop(0)\n",
    "                    players[name].give(card)\n",
    "                    hands[name].append(card)\n",
    "                    points[name] = [p + card for p in points[name]]\n",
    "                    if card == 11:\n",
    "                        points[name].extend([p - 10 for p in points[name]])\n",
    "                    if not deck:\n",
    "                        break\n",
    "                else:\n",
    "                    takes[name] = False\n",
    "    for name in players:\n",
    "        points[name] = max([p if p <= 21 else 0 for p in points[name]])\n",
    "    return points"
   ]
  },
  {
   "cell_type": "code",
   "execution_count": 6,
   "metadata": {},
   "outputs": [
    {
     "data": {
      "application/vnd.jupyter.widget-view+json": {
       "model_id": "792e1bd1e88b4d678e50031e2f4d0f8c",
       "version_major": 2,
       "version_minor": 0
      },
      "text/plain": [
       "HBox(children=(FloatProgress(value=0.0, max=100000.0), HTML(value='')))"
      ]
     },
     "metadata": {},
     "output_type": "display_data"
    },
    {
     "name": "stdout",
     "output_type": "stream",
     "text": [
      "\n",
      "{'A': 38851, 'B': 37611}\n",
      "Winrate A: 50.45-51.17%\n"
     ]
    }
   ],
   "source": [
    "players = {'A': DummyPlayer(18), 'B': DummyPlayer(19)}\n",
    "wins = {'A': 0, 'B': 0}\n",
    "\n",
    "for i in tqdm(range(100000)):\n",
    "    points = twenty_one(players)\n",
    "    if points['A'] > points['B']:\n",
    "        wins['A'] += 1\n",
    "    if points['A'] < points['B']:\n",
    "        wins['B'] += 1\n",
    "        \n",
    "print(wins)\n",
    "N = (wins['A'] + wins['B'])\n",
    "winrate = wins['A'] / N\n",
    "std = np.sqrt(winrate * (1 - winrate))\n",
    "print(f'Winrate A: {100 * (winrate - 2 * std / np.sqrt(N)):.2f}-{100 * (winrate + 2 * std / np.sqrt(N)):.2f}%')"
   ]
  },
  {
   "cell_type": "markdown",
   "metadata": {},
   "source": [
    "# Решение ДЗ №1.\n",
    "\n",
    "Для начала нужно создать данные для обучения: \n",
    " * Автомат с вероятностями перехода,\n",
    " * Игру для сбора данных против Dummy(18)."
   ]
  },
  {
   "cell_type": "code",
   "execution_count": 7,
   "metadata": {},
   "outputs": [],
   "source": [
    "states = [(cards, points) for cards in np.arange(13) for points in np.arange(22)] \n",
    "#12 карт гарантированный 0: 1 * 4 + 2 * 4 + 3 * 4 = 24 --- минимально возможная сумма\n",
    "#очков в игре от 0 до 21\n",
    "\n",
    "machine = {x: {y: 0 for y in states} for x in states} #Автомат\n",
    "\n"
   ]
  },
  {
   "cell_type": "markdown",
   "metadata": {},
   "source": [
    "Теперь сделаем парня который берет ровно n карт:\n",
    "\n",
    "В основном он такой же как и `DummyPlayer`, но чтобоы не реализовывать игру лишний раз заново, хочется записывать данные о состояниях для машины переходов с помощью функции `give()`. Также создадим метод `getpoints()`, который делает понятно что и который давно пора добавить:"
   ]
  },
  {
   "cell_type": "code",
   "execution_count": 9,
   "metadata": {},
   "outputs": [],
   "source": [
    "class FinalCountdown(Player):\n",
    "    \n",
    "    def __init__(self, countDown):\n",
    "        super().__init__()\n",
    "        self.countDown = countDown\n",
    "        \n",
    "    def getPoints(self):\n",
    "        return max([t if t <= 21 else 0 for t in self.points()])\n",
    "    \n",
    "    def wanna_more(self, info):\n",
    "        return len(hand) < countDown\n",
    "    \n",
    "    def give(self, card):\n",
    "        curopt = getPoints()\n",
    "        super().give()\n",
    "        states[(len(hand), curopt)][(len(hand) + 1, getPoints())] += 1\n"
   ]
  }
 ],
 "metadata": {
  "kernelspec": {
   "display_name": "Python 3",
   "language": "python",
   "name": "python3"
  },
  "language_info": {
   "codemirror_mode": {
    "name": "ipython",
    "version": 3
   },
   "file_extension": ".py",
   "mimetype": "text/x-python",
   "name": "python",
   "nbconvert_exporter": "python",
   "pygments_lexer": "ipython3",
   "version": "3.8.3"
  }
 },
 "nbformat": 4,
 "nbformat_minor": 4
}
