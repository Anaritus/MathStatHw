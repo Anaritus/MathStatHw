{
 "cells": [
  {
   "cell_type": "markdown",
   "metadata": {},
   "source": [
    "# Метод Монте-Карло"
   ]
  },
  {
   "cell_type": "code",
   "execution_count": 1,
   "metadata": {},
   "outputs": [],
   "source": [
    "# !pip install tqdm"
   ]
  },
  {
   "cell_type": "code",
   "execution_count": 2,
   "metadata": {},
   "outputs": [],
   "source": [
    "import numpy as np\n",
    "from tqdm.notebook import tqdm"
   ]
  },
  {
   "cell_type": "code",
   "execution_count": 3,
   "metadata": {},
   "outputs": [
    {
     "data": {
      "application/vnd.jupyter.widget-view+json": {
       "model_id": "2b3d07f490394ffc92e27b8797c59d4a",
       "version_major": 2,
       "version_minor": 0
      },
      "text/plain": [
       "HBox(children=(FloatProgress(value=0.0, max=1000000.0), HTML(value='')))"
      ]
     },
     "metadata": {},
     "output_type": "display_data"
    },
    {
     "name": "stdout",
     "output_type": "stream",
     "text": [
      "\n",
      "Monte Carlo:   2.643 +/- 0.052\n",
      "True:          2.550\n",
      "Dots inside:   0.2581%\n"
     ]
    }
   ],
   "source": [
    "N = 1000000\n",
    "dim = 10\n",
    "is_inside = []\n",
    "for _ in tqdm(range(N)):\n",
    "    x = 2 * np.random.rand(dim) - 1\n",
    "    is_inside.append(sum(x ** 2) <= 1)\n",
    "print(f'{\"Monte Carlo:\":15}{2 ** dim * np.mean(is_inside):.3f} +/- {2 ** dim * np.std(is_inside) / np.sqrt(N):.3f}')\n",
    "\n",
    "from scipy.special import gamma\n",
    "\n",
    "print(f'{\"True:\":15}{np.pi ** (dim / 2) / gamma(dim / 2 + 1):.3f}')\n",
    "\n",
    "print(f'{\"Dots inside:\":15}{100 * np.mean(is_inside):.4f}%')"
   ]
  },
  {
   "cell_type": "code",
   "execution_count": 4,
   "metadata": {},
   "outputs": [
    {
     "data": {
      "application/vnd.jupyter.widget-view+json": {
       "model_id": "256b4ebc3abb4901a9c8f2e78c9df68f",
       "version_major": 2,
       "version_minor": 0
      },
      "text/plain": [
       "HBox(children=(FloatProgress(value=0.0, max=10.0), HTML(value='')))"
      ]
     },
     "metadata": {},
     "output_type": "display_data"
    },
    {
     "name": "stdout",
     "output_type": "stream",
     "text": [
      "\n",
      "Monte Carlo:   2.537 +/- 0.051\n",
      "True:          2.550\n",
      "Dots inside:   0.0025%\n"
     ]
    }
   ],
   "source": [
    "N = 1000000\n",
    "batch = 100000\n",
    "dim = 10\n",
    "is_inside = 0\n",
    "for _ in tqdm(range(N // batch)):\n",
    "    x = 2 * np.random.rand(dim, batch) - 1\n",
    "    is_inside += ((x ** 2).sum(axis=0) <= 1).sum()\n",
    "mean = is_inside / N\n",
    "print(f'{\"Monte Carlo:\":15}{2 ** dim * mean:.3f} +/- {2 ** dim * np.sqrt(mean * (1 - mean)) / np.sqrt(N):.3f}')\n",
    "print(f'{\"True:\":15}{np.pi ** (dim / 2) / gamma(dim / 2 + 1):.3f}')\n",
    "print(f'{\"Dots inside:\":15}{mean:.4f}%')"
   ]
  },
  {
   "cell_type": "code",
   "execution_count": null,
   "metadata": {},
   "outputs": [],
   "source": []
  },
  {
   "cell_type": "code",
   "execution_count": null,
   "metadata": {},
   "outputs": [],
   "source": []
  },
  {
   "cell_type": "code",
   "execution_count": null,
   "metadata": {},
   "outputs": [],
   "source": []
  },
  {
   "cell_type": "code",
   "execution_count": null,
   "metadata": {},
   "outputs": [],
   "source": []
  },
  {
   "cell_type": "markdown",
   "metadata": {},
   "source": [
    "# 21"
   ]
  },
  {
   "cell_type": "code",
   "execution_count": 5,
   "metadata": {},
   "outputs": [],
   "source": [
    "class Player:\n",
    "    def __init__(self):\n",
    "        self.hand = []\n",
    "        self.points = [0]\n",
    "        self.turn = 0\n",
    "        \n",
    "    def new_game(self, turn):\n",
    "        self.hand = []\n",
    "        self.points = [0]\n",
    "        self.turn = turn\n",
    "        \n",
    "    def wanna_more(self, info):\n",
    "        return False\n",
    "    \n",
    "    def give(self, card):\n",
    "        self.hand.append(card)\n",
    "        self.points = [p + card for p in self.points]\n",
    "        if card == 11:\n",
    "            self.points.extend([p - 10 for p in self.points])\n",
    "\n",
    "class DummyPlayer(Player):\n",
    "    \n",
    "    def __init__(self, thres):\n",
    "        super().__init__()\n",
    "        self.thres = thres\n",
    "    \n",
    "    def wanna_more(self, info):\n",
    "        points = max([p if p <= 21 else 0 for p in self.points])\n",
    "        return points < self.thres and min(self.points) <= 21\n",
    "\n",
    "\n",
    "def twenty_one(players):\n",
    "    deck = [6, 7, 8, 9, 10, 2, 3, 4, 11] * 4\n",
    "    np.random.shuffle(deck)\n",
    "    for i, name in enumerate(players):\n",
    "        players[name].new_game(i)\n",
    "    hands = {name: [] for name in players}\n",
    "    takes = {name: True for name in players}\n",
    "    points = {name: [0] for name in players}\n",
    "    while deck and any(takes.values()):\n",
    "        for name in players:\n",
    "            if takes[name]:\n",
    "                if players[name].wanna_more(takes):\n",
    "                    card = deck.pop(0)\n",
    "                    players[name].give(card)\n",
    "                    hands[name].append(card)\n",
    "                    points[name] = [p + card for p in points[name]]\n",
    "                    if card == 11:\n",
    "                        points[name].extend([p - 10 for p in points[name]])\n",
    "                    if not deck:\n",
    "                        break\n",
    "                else:\n",
    "                    takes[name] = False\n",
    "    for name in players:\n",
    "        points[name] = max([p if p <= 21 else 0 for p in points[name]])\n",
    "    return points"
   ]
  },
  {
   "cell_type": "code",
   "execution_count": 6,
   "metadata": {},
   "outputs": [
    {
     "data": {
      "application/vnd.jupyter.widget-view+json": {
       "model_id": "ea03d9288c3040bdac8d5a4834b58db6",
       "version_major": 2,
       "version_minor": 0
      },
      "text/plain": [
       "HBox(children=(FloatProgress(value=0.0, max=100000.0), HTML(value='')))"
      ]
     },
     "metadata": {},
     "output_type": "display_data"
    },
    {
     "name": "stdout",
     "output_type": "stream",
     "text": [
      "\n",
      "{'A': 38580, 'B': 37844}\n",
      "Winrate A: 50.12-50.84%\n"
     ]
    }
   ],
   "source": [
    "players = {'A': DummyPlayer(18), 'B': DummyPlayer(19)}\n",
    "wins = {'A': 0, 'B': 0}\n",
    "\n",
    "for i in tqdm(range(100000)):\n",
    "    points = twenty_one(players)\n",
    "    if points['A'] > points['B']:\n",
    "        wins['A'] += 1\n",
    "    if points['A'] < points['B']:\n",
    "        wins['B'] += 1\n",
    "        \n",
    "print(wins)\n",
    "N = (wins['A'] + wins['B'])\n",
    "winrate = wins['A'] / N\n",
    "std = np.sqrt(winrate * (1 - winrate))\n",
    "print(f'Winrate A: {100 * (winrate - 2 * std / np.sqrt(N)):.2f}-{100 * (winrate + 2 * std / np.sqrt(N)):.2f}%')"
   ]
  },
  {
   "cell_type": "markdown",
   "metadata": {},
   "source": [
    "# Решение ДЗ №1.\n",
    "\n",
    "Для начала нужно создать данные для обучения: \n",
    " * Автомат с вероятностями перехода,\n",
    " * Игру для сбора данных против Dummy(18)."
   ]
  },
  {
   "cell_type": "code",
   "execution_count": 7,
   "metadata": {},
   "outputs": [],
   "source": [
    "states = [(cards, points) for cards in np.arange(13) for points in np.arange(22)] \n",
    "#12 карт гарантированный 0: 1 * 4 + 2 * 4 + 3 * 4 = 24 --- минимально возможная сумма\n",
    "#очков в игре от 0 до 21\n",
    "\n",
    "machine = {x: {y: 0 for y in states} for x in states} #Автомат\n",
    "winning = {x: 0 for x in states} #Суммарный выигрыш при конце в этой точке\n",
    "games = {x: 0 for x in states} #Всего игр законченных в данной точке(мб )\n"
   ]
  },
  {
   "cell_type": "markdown",
   "metadata": {},
   "source": [
    "Теперь сделаем парня который берет ровно n карт:\n",
    "\n",
    "В основном он такой же как и `DummyPlayer`, но чтобоы не реализовывать игру лишний раз заново, хочется записывать данные о состояниях для машины переходов с помощью функции `give()`. Также создадим метод `getpoints()`, который делает понятно что и который давно пора добавить:"
   ]
  },
  {
   "cell_type": "code",
   "execution_count": 8,
   "metadata": {},
   "outputs": [],
   "source": [
    "class FinalCountdown(Player):\n",
    "    \n",
    "    def __init__(self, countDown):\n",
    "        super().__init__()\n",
    "        self.countDown = countDown\n",
    "        \n",
    "    def getPoints(self):\n",
    "        return max([t if t <= 21 else 0 for t in self.points])\n",
    "    \n",
    "    def wanna_more(self, info):\n",
    "        return len(self.hand) < self.countDown\n",
    "    \n",
    "    def give(self, card):\n",
    "        curopt = self.getPoints()\n",
    "        self.points = [p + card for p in self.points]\n",
    "        if card == 11:\n",
    "            self.points.extend([p - 10 for p in self.points])\n",
    "        machine[(len(self.hand), curopt)][(len(self.hand) + 1, self.getPoints())] += 1\n",
    "        self.hand.append(card)\n"
   ]
  },
  {
   "cell_type": "markdown",
   "metadata": {},
   "source": [
    "Начинаем обучение:"
   ]
  },
  {
   "cell_type": "code",
   "execution_count": 9,
   "metadata": {},
   "outputs": [
    {
     "name": "stdout",
     "output_type": "stream",
     "text": [
      "Iteration number:   0\n"
     ]
    },
    {
     "data": {
      "application/vnd.jupyter.widget-view+json": {
       "model_id": "d9df9f9ed20e48d391f0bff1a0b7c372",
       "version_major": 2,
       "version_minor": 0
      },
      "text/plain": [
       "HBox(children=(FloatProgress(value=0.0, max=1000000.0), HTML(value='')))"
      ]
     },
     "metadata": {},
     "output_type": "display_data"
    },
    {
     "name": "stdout",
     "output_type": "stream",
     "text": [
      "\n",
      "Iteration number:   1\n"
     ]
    },
    {
     "data": {
      "application/vnd.jupyter.widget-view+json": {
       "model_id": "390c6e2c06e64bfd89c5789baaf49bf5",
       "version_major": 2,
       "version_minor": 0
      },
      "text/plain": [
       "HBox(children=(FloatProgress(value=0.0, max=1000000.0), HTML(value='')))"
      ]
     },
     "metadata": {},
     "output_type": "display_data"
    },
    {
     "name": "stdout",
     "output_type": "stream",
     "text": [
      "\n",
      "Iteration number:   2\n"
     ]
    },
    {
     "data": {
      "application/vnd.jupyter.widget-view+json": {
       "model_id": "8721c1ae01304a7cb3a37bc749e70b73",
       "version_major": 2,
       "version_minor": 0
      },
      "text/plain": [
       "HBox(children=(FloatProgress(value=0.0, max=1000000.0), HTML(value='')))"
      ]
     },
     "metadata": {},
     "output_type": "display_data"
    },
    {
     "name": "stdout",
     "output_type": "stream",
     "text": [
      "\n",
      "Iteration number:   3\n"
     ]
    },
    {
     "data": {
      "application/vnd.jupyter.widget-view+json": {
       "model_id": "e2de5ccc4b8c472293d2999b9ccae650",
       "version_major": 2,
       "version_minor": 0
      },
      "text/plain": [
       "HBox(children=(FloatProgress(value=0.0, max=1000000.0), HTML(value='')))"
      ]
     },
     "metadata": {},
     "output_type": "display_data"
    },
    {
     "name": "stdout",
     "output_type": "stream",
     "text": [
      "\n",
      "Iteration number:   4\n"
     ]
    },
    {
     "data": {
      "application/vnd.jupyter.widget-view+json": {
       "model_id": "c614538bdb0e43f7a94b91bb543859d0",
       "version_major": 2,
       "version_minor": 0
      },
      "text/plain": [
       "HBox(children=(FloatProgress(value=0.0, max=1000000.0), HTML(value='')))"
      ]
     },
     "metadata": {},
     "output_type": "display_data"
    },
    {
     "name": "stdout",
     "output_type": "stream",
     "text": [
      "\n",
      "Iteration number:   5\n"
     ]
    },
    {
     "data": {
      "application/vnd.jupyter.widget-view+json": {
       "model_id": "36d491084bda48d7832908aca0ef96b4",
       "version_major": 2,
       "version_minor": 0
      },
      "text/plain": [
       "HBox(children=(FloatProgress(value=0.0, max=1000000.0), HTML(value='')))"
      ]
     },
     "metadata": {},
     "output_type": "display_data"
    },
    {
     "name": "stdout",
     "output_type": "stream",
     "text": [
      "\n",
      "Iteration number:   6\n"
     ]
    },
    {
     "data": {
      "application/vnd.jupyter.widget-view+json": {
       "model_id": "3c68bd10d1154455afc1540c1a2099ea",
       "version_major": 2,
       "version_minor": 0
      },
      "text/plain": [
       "HBox(children=(FloatProgress(value=0.0, max=1000000.0), HTML(value='')))"
      ]
     },
     "metadata": {},
     "output_type": "display_data"
    },
    {
     "name": "stdout",
     "output_type": "stream",
     "text": [
      "\n",
      "Iteration number:   7\n"
     ]
    },
    {
     "data": {
      "application/vnd.jupyter.widget-view+json": {
       "model_id": "1ba925bb59d84d79a2d3f6f97a66bec6",
       "version_major": 2,
       "version_minor": 0
      },
      "text/plain": [
       "HBox(children=(FloatProgress(value=0.0, max=1000000.0), HTML(value='')))"
      ]
     },
     "metadata": {},
     "output_type": "display_data"
    },
    {
     "name": "stdout",
     "output_type": "stream",
     "text": [
      "\n",
      "Iteration number:   8\n"
     ]
    },
    {
     "data": {
      "application/vnd.jupyter.widget-view+json": {
       "model_id": "61d732e6df8648aca4a41b3ef4580ee5",
       "version_major": 2,
       "version_minor": 0
      },
      "text/plain": [
       "HBox(children=(FloatProgress(value=0.0, max=1000000.0), HTML(value='')))"
      ]
     },
     "metadata": {},
     "output_type": "display_data"
    },
    {
     "name": "stdout",
     "output_type": "stream",
     "text": [
      "\n",
      "Iteration number:   9\n"
     ]
    },
    {
     "data": {
      "application/vnd.jupyter.widget-view+json": {
       "model_id": "527888ced4604cbcbb12d346562d5df3",
       "version_major": 2,
       "version_minor": 0
      },
      "text/plain": [
       "HBox(children=(FloatProgress(value=0.0, max=1000000.0), HTML(value='')))"
      ]
     },
     "metadata": {},
     "output_type": "display_data"
    },
    {
     "name": "stdout",
     "output_type": "stream",
     "text": [
      "\n",
      "Iteration number:   10\n"
     ]
    },
    {
     "data": {
      "application/vnd.jupyter.widget-view+json": {
       "model_id": "ff43881ab9c3409699aa14d11b5d20b5",
       "version_major": 2,
       "version_minor": 0
      },
      "text/plain": [
       "HBox(children=(FloatProgress(value=0.0, max=1000000.0), HTML(value='')))"
      ]
     },
     "metadata": {},
     "output_type": "display_data"
    },
    {
     "name": "stdout",
     "output_type": "stream",
     "text": [
      "\n",
      "Iteration number:   11\n"
     ]
    },
    {
     "data": {
      "application/vnd.jupyter.widget-view+json": {
       "model_id": "651c57e5751742c690a4ec11902971b5",
       "version_major": 2,
       "version_minor": 0
      },
      "text/plain": [
       "HBox(children=(FloatProgress(value=0.0, max=1000000.0), HTML(value='')))"
      ]
     },
     "metadata": {},
     "output_type": "display_data"
    },
    {
     "name": "stdout",
     "output_type": "stream",
     "text": [
      "\n",
      "Iteration number:   12\n"
     ]
    },
    {
     "data": {
      "application/vnd.jupyter.widget-view+json": {
       "model_id": "d452abde22b545b7a549aebad2e0c930",
       "version_major": 2,
       "version_minor": 0
      },
      "text/plain": [
       "HBox(children=(FloatProgress(value=0.0, max=1000000.0), HTML(value='')))"
      ]
     },
     "metadata": {},
     "output_type": "display_data"
    },
    {
     "name": "stdout",
     "output_type": "stream",
     "text": [
      "\n"
     ]
    }
   ],
   "source": [
    "for n in range(13):\n",
    "    players = {'Dum': DummyPlayer(18), 'Countdown': FinalCountdown(n)}\n",
    "    print(f'{\"Iteration number:\":20}{n}')\n",
    "    state = (len(players['Countdown'].hand), players['Countdown'].getPoints())\n",
    "    for i in tqdm(range(1000000)):\n",
    "        points = twenty_one(players)\n",
    "        if points['Dum'] > points['Countdown']:\n",
    "            winning[state] -= 1\n",
    "        if points['Dum'] < points['Countdown']:\n",
    "            winning[state] += 1\n",
    "        games[state] += 1"
   ]
  },
  {
   "cell_type": "code",
   "execution_count": 10,
   "metadata": {},
   "outputs": [],
   "source": [
    "for stateIN in states:\n",
    "    total = sum(machine[stateIN].values())\n",
    "    if not total: continue\n",
    "    for stateOUT in states:\n",
    "        machine[stateIN][stateOUT] /= total\n",
    "\n",
    "strategy = {state: False for state in states}\n",
    "for cards in range(12, -1, -1):\n",
    "    for points in range(22):\n",
    "        state = (cards, points)\n",
    "        ifyes = 0\n",
    "        for key in states:\n",
    "            ifyes += winning[key] * machine[state][key]\n",
    "        strategy[state] = ifyes >= winning[state]\n",
    "        winning[state] = max(ifyes, winning[state])"
   ]
  }
 ],
 "metadata": {
  "kernelspec": {
   "display_name": "Python 3",
   "language": "python",
   "name": "python3"
  },
  "language_info": {
   "codemirror_mode": {
    "name": "ipython",
    "version": 3
   },
   "file_extension": ".py",
   "mimetype": "text/x-python",
   "name": "python",
   "nbconvert_exporter": "python",
   "pygments_lexer": "ipython3",
   "version": "3.8.3"
  }
 },
 "nbformat": 4,
 "nbformat_minor": 4
}
